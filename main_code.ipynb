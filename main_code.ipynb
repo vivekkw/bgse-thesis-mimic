{
 "cells": [
  {
   "cell_type": "code",
   "execution_count": 1,
   "metadata": {},
   "outputs": [],
   "source": [
    "import pandas as pd\n",
    "import numpy as np\n",
    "import matplotlib.pyplot as plt\n",
    "import os\n",
    "\n",
    "from sklearn import preprocessing\n",
    "from sklearn.neighbors import NearestNeighbors, KNeighborsClassifier # Load k-NN from sklearn\n",
    "from sklearn.model_selection import GridSearchCV\n",
    "from sklearn.model_selection import train_test_split\n",
    "from sklearn.metrics import mean_squared_error\n",
    "from sklearn.metrics import r2_score\n",
    "import datetime as dt\n",
    "\n",
    "\n",
    "from sklearn.ensemble import RandomForestClassifier,RandomForestRegressor\n",
    "import xgboost as xgb\n",
    "from sklearn.model_selection import cross_val_score\n",
    "from sklearn.linear_model import LassoCV\n",
    "from sklearn.metrics import accuracy_score, roc_curve, roc_auc_score\n",
    "from sklearn.metrics import accuracy_score,recall_score,precision_score,f1_score, confusion_matrix\n",
    "\n",
    "import collections\n",
    "from statsmodels.distributions.empirical_distribution import ECDF\n",
    "\n",
    "import unittest\n",
    "\n",
    "from mesa.time import RandomActivation, SimultaneousActivation, BaseScheduler\n",
    "from mesa.datacollection import DataCollector\n",
    "from mesa import Model, Agent\n",
    "from mesa.batchrunner import BatchRunner, BatchRunnerMP\n",
    "\n",
    "\n",
    "from sklearn.svm import SVC, LinearSVC\n",
    "from sklearn.experimental import enable_iterative_imputer \n",
    "from sklearn.impute import IterativeImputer\n",
    "from category_encoders.binary import BinaryEncoder\n",
    "from itertools import combinations\n",
    "import seaborn as sns\n",
    "import pathos\n",
    "import multiprocessing"
   ]
  },
  {
   "cell_type": "markdown",
   "metadata": {},
   "source": [
    "# Preprocessing and Feature Engineering"
   ]
  },
  {
   "cell_type": "markdown",
   "metadata": {},
   "source": [
    "## Loading and merging data frames"
   ]
  },
  {
   "cell_type": "code",
   "execution_count": 2,
   "metadata": {},
   "outputs": [],
   "source": [
    "severity_scores_df = pd.read_csv('severity_scores_df.csv')\n",
    "severity_scores_df=severity_scores_df.drop_duplicates(subset='subject_id',keep='first').sort_values(by='subject_id')\n",
    "\n",
    "# Removing redundant columns Subject_ID and HADM_ID\n",
    "severity_scores_df = severity_scores_df.drop(['subject_id','hadm_id','icustay_expire_flag','ICUSTAY_AGE_GROUP',\n",
    "                                              'OASIS', 'OASIS_PROB','age_score','preiculos_score', 'gcs_score',\n",
    "                                                'heartrate_score', 'meanbp_score',\n",
    "                                               'resprate_score', 'temp_score',\n",
    "                                               'UrineOutput_score', 'mechvent_score',\n",
    "                                               'electivesurgery_score', 'SAPS', 'resp_score', 'vent_score',\n",
    "                                               'hematocrit_score', 'glucose_score', 'SAPSII', 'SAPSII_PROB',\n",
    "                                               'PaO2FiO2_score', 'bilirubin_score', 'comorbidity_score',\n",
    "                                               'admissiontype_score', 'SOFA','age'], axis=1) #,'INTIME'"
   ]
  },
  {
   "cell_type": "code",
   "execution_count": 3,
   "metadata": {},
   "outputs": [],
   "source": [
    "main_df2 = pd.read_csv(\"main_df2.csv\")\n",
    "\n",
    "# Remove duplicate 'DEATHRATE_INT_CAT__' columns\n",
    "# main_df2 = main_df2.drop(['DEATHRATE_INT_CAT__1.0_x', 'DEATHRATE_INT_CAT__2.0_x'],axis=1)\n",
    "main_df2 = main_df2.rename({'DEATHRATE_INT_CAT__1.0_y':'DEATHRATE_INT_CAT__1.0',\n",
    "                            'DEATHRATE_INT_CAT__2.0_y':'DEATHRATE_INT_CAT__2.0'},axis=1)"
   ]
  },
  {
   "cell_type": "code",
   "execution_count": 4,
   "metadata": {},
   "outputs": [],
   "source": [
    "df = main_df2.merge(severity_scores_df, how='left', left_on = 'ICUSTAY_ID' ,right_on='icustay_id')\n",
    "\n",
    "vitals_df = pd.read_csv(\"vitals_df.csv\")\n",
    "df = df.merge(vitals_df, how='inner', on='ICUSTAY_ID')#icustay_id"
   ]
  },
  {
   "cell_type": "markdown",
   "metadata": {},
   "source": [
    "## Encoding dummy variables"
   ]
  },
  {
   "cell_type": "code",
   "execution_count": 5,
   "metadata": {},
   "outputs": [],
   "source": [
    "# Binary Encoding\n",
    "\n",
    "diagnosis_encoder = BinaryEncoder()\n",
    "diagnosis_binary = diagnosis_encoder.fit_transform(df['ICD9_CODE'].astype(str))\n",
    "\n",
    "# Create dummies for Gender\n",
    "gender_df =pd.get_dummies(df ['GENDER'],prefix='gender_', drop_first=True)\n",
    "\n",
    "# Create dummies for Age Group\n",
    "age_group_df =pd.get_dummies(df ['ICUSTAY_AGE_GROUP'], prefix='age_group_', drop_first=True)\n",
    "\n",
    "# Create dummies for Admission Type\n",
    "admtype_df =pd.get_dummies(df ['ADMISSION_TYPE'],prefix='ADMISSION_TYPE_', drop_first=True)\n",
    "\n",
    "# Create dummies for Insurance Type\n",
    "instype_df =pd.get_dummies(df ['INSURANCE'],prefix='INSURANCE_TYPE_', drop_first=True)\n",
    "\n",
    "# Creat dummies for car_unit\n",
    "care_unit = pd.get_dummies(df ['CURR_CAREUNIT'], prefix='careunit_', drop_first=True)\n",
    "\n",
    "# Merge all encoded variables\n",
    "df2 = pd.concat([df,gender_df,age_group_df,admtype_df,instype_df,care_unit], axis=1) #, diagnosis_binary\n"
   ]
  },
  {
   "cell_type": "markdown",
   "metadata": {},
   "source": [
    "## Reformatting Time Variables"
   ]
  },
  {
   "cell_type": "code",
   "execution_count": 6,
   "metadata": {},
   "outputs": [],
   "source": [
    "# Dealing with time variables\n",
    "\n",
    "df2['OUTTIME'] = pd.to_datetime(df2['OUTTIME'],format='%Y-%m-%d')\n",
    "df2['INTIME'] = pd.to_datetime(df2['INTIME'],format='%Y-%m-%d')\n",
    "# df2['DOB'] = pd.to_datetime(df2['DOB'],format='%Y-%m-%d')\n",
    "\n",
    "# Shift timescale\n",
    "df2['INTIME_ACTUAL']= df2['INTIME']+ pd.to_timedelta(df2['DIFF'],unit='D')\n",
    "df2['OUTTIME_ACTUAL']= df2['OUTTIME']+ pd.to_timedelta(df2['DIFF'],unit='D')\n",
    "# df2['DOB_ACTUAL']= df2['DOB']+ pd.to_timedelta(df2['DIFF'],unit='D')"
   ]
  },
  {
   "cell_type": "code",
   "execution_count": 7,
   "metadata": {},
   "outputs": [],
   "source": [
    "df3 = df2.drop(['icustay_id', 'hospital_expire_flag',\n",
    "               'ICUSTAY_ID', 'INTIME', 'OUTTIME', 'DIFF',\n",
    "               'LAST_WARDID', 'GENDER','DOB', 'ICD9_CODE', 'SHORT_TITLE',\n",
    "               'LONG_TITLE', 'SEQ_NUM', 'DEATHTIME','ICUSTAY_AGE_GROUP',\n",
    "               'INTIME_ACTUAL','OUTTIME_ACTUAL',\"ADMISSION_TYPE\",'INSURANCE','CURR_CAREUNIT'], axis=1)\n",
    "\n",
    "#'SUBJECT_ID', 'HADM_ID', "
   ]
  },
  {
   "cell_type": "markdown",
   "metadata": {},
   "source": [
    "df2 (before key information is dropped) will be used for later analyses"
   ]
  },
  {
   "cell_type": "markdown",
   "metadata": {},
   "source": [
    "# ABM"
   ]
  },
  {
   "cell_type": "markdown",
   "metadata": {},
   "source": [
    "## Daily snapshots"
   ]
  },
  {
   "cell_type": "code",
   "execution_count": 8,
   "metadata": {},
   "outputs": [],
   "source": [
    "# Only takes the first three characters from ICD9_Code as the rest is only decimal points \n",
    "#(https://mimic.physionet.org/mimictables/diagnoses_icd/)\n",
    "df2['ICD9_CODE'] = df2['ICD9_CODE'].apply(lambda x: x[:3])\n",
    "# Converts ICD9 Codes of type \"O\" to integer in case string contains only digits, else None\n",
    "df2['ICD9_CODE'] = df2['ICD9_CODE'].apply(lambda x: int(x) if str(x).isdigit() else None)\n",
    "\n",
    "def f(x):\n",
    "    if x['ICD9_CODE'] > 1 and x['ICD9_CODE'] < 139: return 'Infectious And Parasitic Diseases'\n",
    "    elif x['ICD9_CODE'] > 140 and x['ICD9_CODE'] < 239: return 'Neoplasms'\n",
    "    elif x['ICD9_CODE'] > 240 and x['ICD9_CODE'] < 279: return 'Endocrine, Nutritional And Metabolic Diseases, And Immunity Disorders'\n",
    "    elif x['ICD9_CODE'] > 280 and x['ICD9_CODE'] < 289: return 'Diseases Of The Blood And Blood-Forming Organs'\n",
    "    elif x['ICD9_CODE'] > 290 and x['ICD9_CODE'] < 319: return 'Mental Disorders'\n",
    "    elif x['ICD9_CODE'] > 320 and x['ICD9_CODE'] < 389: return 'Diseases Of The Nervous System And Sense Organs'\n",
    "    elif x['ICD9_CODE'] > 390 and x['ICD9_CODE'] < 459: return 'Diseases Of The Circulatory System'\n",
    "    elif x['ICD9_CODE'] > 460 and x['ICD9_CODE'] < 519: return 'Diseases Of The Respiratory System'\n",
    "    elif x['ICD9_CODE'] > 520 and x['ICD9_CODE'] < 579: return 'Diseases Of The Digestive System'\n",
    "    elif x['ICD9_CODE'] > 580 and x['ICD9_CODE'] < 629: return 'Diseases Of The Genitourinary System'\n",
    "    elif x['ICD9_CODE'] > 630 and x['ICD9_CODE'] < 679: return 'Complications Of Pregnancy, Childbirth, And The Puerperium'\n",
    "    elif x['ICD9_CODE'] > 680 and x['ICD9_CODE'] < 709: return 'Diseases Of The Skin And Subcutaneous Tissue'\n",
    "    elif x['ICD9_CODE'] > 710 and x['ICD9_CODE'] < 739: return 'Diseases Of The Musculoskeletal System And Connective Tissue'\n",
    "    elif x['ICD9_CODE'] > 740 and x['ICD9_CODE'] < 759: return 'Congenital Anomalies'\n",
    "    elif x['ICD9_CODE'] > 760 and x['ICD9_CODE'] < 779: return 'Certain Conditions Originating In The Perinatal Period'\n",
    "    elif x['ICD9_CODE'] > 780 and x['ICD9_CODE'] < 799: return 'Symptoms, Signs, And Ill-Defined Conditions'\n",
    "    elif x['ICD9_CODE'] > 800 and x['ICD9_CODE'] < 999: return 'Injury And Poisoning'\n",
    "    else: return \"Other\"\n",
    "df2['ICD9_CODE_CAT'] = df2.apply(f, axis=1)\n"
   ]
  },
  {
   "cell_type": "code",
   "execution_count": 9,
   "metadata": {},
   "outputs": [],
   "source": [
    "icustay_ids = [f for f in df2['ICUSTAY_ID']]\n",
    "intimes = [t.date() for t in df2['INTIME_ACTUAL']]\n",
    "outtimes = [t.date() for t in df2['OUTTIME_ACTUAL']]\n",
    "expire_flags = [f for f in df2['HOSPITAL_EXPIRE_FLAG']]"
   ]
  },
  {
   "cell_type": "markdown",
   "metadata": {},
   "source": [
    "## Loading snapshots dataframe"
   ]
  },
  {
   "cell_type": "code",
   "execution_count": 10,
   "metadata": {},
   "outputs": [],
   "source": [
    "df_snapshots = pd.read_csv(\"df_snapshots.csv\")\n",
    "df_snapshots = df_snapshots.reset_index()\n",
    "df_snapshots = df_snapshots.drop('index',axis=1)\n",
    "df_snapshots['icustay_id']=np.int64(df_snapshots['icustay_id'])"
   ]
  },
  {
   "cell_type": "code",
   "execution_count": 11,
   "metadata": {},
   "outputs": [],
   "source": [
    "df2 = df2.drop('icustay_id',axis=1)"
   ]
  },
  {
   "cell_type": "code",
   "execution_count": 12,
   "metadata": {},
   "outputs": [],
   "source": [
    "df3 = df2.merge(df_snapshots, 'outer', left_on='ICUSTAY_ID', right_on='icustay_id').drop('icustay_id',axis=1)"
   ]
  },
  {
   "cell_type": "code",
   "execution_count": 13,
   "metadata": {},
   "outputs": [],
   "source": [
    "# Binary Encoding\n",
    "diagnosis_encoder = BinaryEncoder()\n",
    "diagnosis_binary = diagnosis_encoder.fit_transform(df3['ICD9_CODE_CAT'].astype(str))\n",
    "df3 = pd.concat([df3,diagnosis_binary], axis=1) #, diagnosis_binary"
   ]
  },
  {
   "cell_type": "markdown",
   "metadata": {},
   "source": [
    "## Loading dataframe with caregivers_count"
   ]
  },
  {
   "cell_type": "code",
   "execution_count": 14,
   "metadata": {},
   "outputs": [],
   "source": [
    "caregivers_count_df = pd.read_csv(\"caregivers_count_df.csv\")"
   ]
  },
  {
   "cell_type": "code",
   "execution_count": 15,
   "metadata": {
    "scrolled": true
   },
   "outputs": [],
   "source": [
    "caretime_doctors = [d/p for d,p in zip(caregivers_count_df['COUNT_DOCTORS'], caregivers_count_df['COUNT_PATIENTS'])]\n",
    "caretime_nurses = [n/p for n,p in zip(caregivers_count_df['COUNT_NURSES'], caregivers_count_df['COUNT_PATIENTS'])]"
   ]
  },
  {
   "cell_type": "code",
   "execution_count": 16,
   "metadata": {},
   "outputs": [
    {
     "name": "stderr",
     "output_type": "stream",
     "text": [
      "/Users/vivek/anaconda3/lib/python3.7/site-packages/ipykernel_launcher.py:2: SettingWithCopyWarning: \n",
      "A value is trying to be set on a copy of a slice from a DataFrame.\n",
      "Try using .loc[row_indexer,col_indexer] = value instead\n",
      "\n",
      "See the caveats in the documentation: https://pandas.pydata.org/pandas-docs/stable/user_guide/indexing.html#returning-a-view-versus-a-copy\n",
      "  \n",
      "/Users/vivek/anaconda3/lib/python3.7/site-packages/ipykernel_launcher.py:3: SettingWithCopyWarning: \n",
      "A value is trying to be set on a copy of a slice from a DataFrame.\n",
      "Try using .loc[row_indexer,col_indexer] = value instead\n",
      "\n",
      "See the caveats in the documentation: https://pandas.pydata.org/pandas-docs/stable/user_guide/indexing.html#returning-a-view-versus-a-copy\n",
      "  This is separate from the ipykernel package so we can avoid doing imports until\n"
     ]
    }
   ],
   "source": [
    "caretime_df = caregivers_count_df[['DATE']]\n",
    "caretime_df['caretime_doctors'] = caretime_doctors\n",
    "caretime_df['caretime_nurses'] = caretime_nurses"
   ]
  },
  {
   "cell_type": "code",
   "execution_count": 17,
   "metadata": {},
   "outputs": [],
   "source": [
    "# df3 = df3.merge(caregivers_count_df, how='left', left_on='date',right_on=\"DATE\")\n",
    "df3 = df3.merge(caretime_df, how='left', left_on='date',right_on=\"DATE\")"
   ]
  },
  {
   "cell_type": "code",
   "execution_count": 18,
   "metadata": {},
   "outputs": [],
   "source": [
    "cum_caretime = df3[['ICUSTAY_ID','DATE','caretime_doctors','caretime_nurses']].groupby(['ICUSTAY_ID','DATE']).sum().groupby('ICUSTAY_ID').cumsum()\n",
    "cum_caretime = pd.DataFrame(cum_caretime.to_records())\n",
    "cum_caretime.columns = ['ICUSTAY_ID', 'DATE', 'cum_caretime_doctors', 'cum_caretime_nurses']\n",
    "df3 = df3.merge(cum_caretime,how='inner',on=['ICUSTAY_ID','DATE'])"
   ]
  },
  {
   "cell_type": "markdown",
   "metadata": {},
   "source": [
    "## Loading procedures dataframe"
   ]
  },
  {
   "cell_type": "code",
   "execution_count": 19,
   "metadata": {},
   "outputs": [],
   "source": [
    "procedures_df = pd.read_csv(\"procedures.csv\")"
   ]
  },
  {
   "cell_type": "code",
   "execution_count": 20,
   "metadata": {
    "scrolled": true
   },
   "outputs": [],
   "source": [
    "cols = procedures_df.columns.tolist()\n",
    "cols.append('days_since_admission')\n",
    "procedures_df2 = pd.DataFrame(columns = cols)\n",
    "\n",
    "for i in range(procedures_df.shape[0]):\n",
    "    entry_i = procedures_df.loc[[i]]\n",
    "    df_i = procedures_df.loc[i]\n",
    "    all_i = pd.concat([entry_i]*(df_i['DAYSIN_END']-df_i['DAYSIN_START']+1))\n",
    "    days = np.arange(df_i['DAYSIN_START'],df_i['DAYSIN_END']+1)\n",
    "    all_i['days_since_admission'] = days\n",
    "    procedures_df2 = pd.concat([procedures_df2, all_i])"
   ]
  },
  {
   "cell_type": "code",
   "execution_count": 21,
   "metadata": {},
   "outputs": [],
   "source": [
    "procedures_df3 = procedures_df2.reset_index().drop(['index','ITEMID','LABEL','DAYSIN_START','DAYSIN_END'],axis=1)\n",
    "procedures_dummies = pd.get_dummies(procedures_df3['ORDERCATEGORYNAME'],prefix='procedure')\n",
    "procedures_df4 = pd.concat([procedures_df3,procedures_dummies],axis=1)\n",
    "procedures_df4 = procedures_df4.drop(['SUBJECT_ID','HADM_ID','ORDERCATEGORYNAME'],axis=1)"
   ]
  },
  {
   "cell_type": "code",
   "execution_count": 22,
   "metadata": {},
   "outputs": [],
   "source": [
    "procedures_df4['ICUSTAY_ID'] = procedures_df4['ICUSTAY_ID'].astype('int64')\n",
    "procedures_df4['days_since_admission'] = procedures_df4['days_since_admission'].astype('int64')\n",
    "procedures_df4 = procedures_df4.rename(columns={'procedure_Significant Events':'procedure_SignificantEvents'})"
   ]
  },
  {
   "cell_type": "code",
   "execution_count": 23,
   "metadata": {
    "scrolled": true
   },
   "outputs": [],
   "source": [
    "procedures_df5 = procedures_df4.groupby(['ICUSTAY_ID','days_since_admission']).sum().reset_index()\n",
    "procedures_df5['procedure_SignificantEvents'] = procedures_df5['procedure_SignificantEvents'].where(procedures_df5['procedure_SignificantEvents'] < 1, 1)\n",
    "procedures_df5['procedure_Ventilation'] = procedures_df5['procedure_Ventilation'].where(procedures_df5['procedure_Ventilation'] < 1, 1)"
   ]
  },
  {
   "cell_type": "code",
   "execution_count": 24,
   "metadata": {
    "scrolled": true
   },
   "outputs": [],
   "source": [
    "df4 = df3.merge(procedures_df5,how='left',on=['ICUSTAY_ID','days_since_admission'])\n",
    "df4[['procedure_SignificantEvents', 'procedure_Ventilation']] = df4[['procedure_SignificantEvents','procedure_Ventilation']].fillna(value=0)\n"
   ]
  },
  {
   "cell_type": "code",
   "execution_count": 25,
   "metadata": {},
   "outputs": [],
   "source": [
    "# For simulations\n",
    "df6 = df4.copy()"
   ]
  },
  {
   "cell_type": "code",
   "execution_count": 26,
   "metadata": {},
   "outputs": [],
   "source": [
    "df4 = df4.drop(['HOSPITAL_EXPIRE_FLAG','hospital_expire_flag',\n",
    "               'ICUSTAY_ID', 'INTIME', 'OUTTIME', 'DIFF',\n",
    "               'LAST_WARDID', 'GENDER','DOB', 'ICD9_CODE', 'SHORT_TITLE',\n",
    "               'LONG_TITLE', 'SEQ_NUM', 'DEATHTIME','ICUSTAY_AGE_GROUP',\n",
    "               'ICD9_CODE_CAT','date',\n",
    "               'INTIME_ACTUAL', 'OUTTIME_ACTUAL',\"CURR_CAREUNIT\",\"INSURANCE\",\"ADMISSION_TYPE\",\"DATE\",\"LOS\",\n",
    "               'caretime_doctors','caretime_nurses'], axis=1)\n",
    "\n",
    "#'SUBJECT_ID', 'HADM_ID', 'subject_id', 'hadm_id'"
   ]
  },
  {
   "cell_type": "code",
   "execution_count": 27,
   "metadata": {},
   "outputs": [],
   "source": [
    "# Prepare variables for model\n",
    "y=df4['out_flag']\n",
    "X=df4.drop(['out_flag'],axis=1)\n",
    "\n",
    "# Split data in train and test\n",
    "X_train, X_test, y_train, y_test = train_test_split(X, y, random_state=42,test_size=0.1)"
   ]
  },
  {
   "cell_type": "code",
   "execution_count": 28,
   "metadata": {},
   "outputs": [],
   "source": [
    "orig_index = X_train.index"
   ]
  },
  {
   "cell_type": "code",
   "execution_count": 29,
   "metadata": {},
   "outputs": [],
   "source": [
    "imp_iter = IterativeImputer(random_state=0)\n",
    "imp_iter.fit(X_train)\n",
    "X_train = imp_iter.transform(X_train)"
   ]
  },
  {
   "cell_type": "code",
   "execution_count": 30,
   "metadata": {},
   "outputs": [],
   "source": [
    "X_train = pd.DataFrame(X_train)\n",
    "X_train.columns = df4.drop(['out_flag'],axis=1).columns"
   ]
  },
  {
   "cell_type": "code",
   "execution_count": 31,
   "metadata": {},
   "outputs": [],
   "source": [
    "X_train.index = orig_index"
   ]
  },
  {
   "cell_type": "code",
   "execution_count": 32,
   "metadata": {},
   "outputs": [],
   "source": [
    "X_test = imp_iter.transform(X_test)\n",
    "X_test = pd.DataFrame(X_test)\n",
    "X_test.columns = df4.drop(['out_flag'],axis=1).columns"
   ]
  },
  {
   "cell_type": "code",
   "execution_count": 33,
   "metadata": {},
   "outputs": [],
   "source": [
    "import copy\n",
    "y_train_orig = copy.deepcopy(y_train)\n",
    "X_train_orig = copy.deepcopy(X_train)"
   ]
  },
  {
   "cell_type": "code",
   "execution_count": 34,
   "metadata": {},
   "outputs": [],
   "source": [
    "# Remove some entries of class 0\n",
    "import random\n",
    "index_0 = [i for i in y_train[y_train == 0].index]\n",
    "index_1 = [i for i in y_train[y_train == 1].index]\n",
    "index_neg1 = [i for i in y_train[y_train == -1].index]\n",
    "samp = random.sample(index_0, len(index_1))\n",
    "samp_neg1 = random.sample(index_neg1, len(index_1))\n",
    "samp.extend(samp_neg1)\n",
    "samp.extend(index_1)\n",
    "X_train = X_train.loc[samp,]\n",
    "y_train = y_train.loc[samp,]"
   ]
  },
  {
   "cell_type": "code",
   "execution_count": 35,
   "metadata": {},
   "outputs": [],
   "source": [
    "# Choose columns to be scaled for X_train\n",
    "scale_columns = ['age','preiculos', 'gcs', 'heartrate', 'meanbp', 'resprate', 'temp',\n",
    "       'urineoutput', 'respiration',\n",
    "       'coagulation', 'liver', 'cardiovascular', 'cns', 'renal',\n",
    "                'HeartRate_Min', 'HeartRate_Max',\n",
    "       'HeartRate_Mean', 'SysBP_Min', 'SysBP_Max', 'SysBP_Mean', 'DiasBP_Min',\n",
    "       'DiasBP_Max', 'DiasBP_Mean', 'MeanBP_Min', 'MeanBP_Max', 'MeanBP_Mean',\n",
    "       'RespRate_Min', 'RespRate_Max', 'RespRate_Mean', 'TempC_Min',\n",
    "       'TempC_Max', 'TempC_Mean', 'SpO2_Min', 'SpO2_Max', 'SpO2_Mean',\n",
    "       'Glucose_Min', 'Glucose_Max', 'Glucose_Mean','days_since_admission',\n",
    "                'cum_caretime_doctors','cum_caretime_nurses'] \n",
    "scale_df = X_train[scale_columns]\n",
    "\n",
    "# Seperate the non-scaled columns (dummies) X_train\n",
    "temp = X_train.drop(scale_columns,axis=1)\n",
    "temp = temp.reset_index(drop=True)\n",
    "\n",
    "# Apply actual scaling to X_train\n",
    "scaler = preprocessing.StandardScaler().fit(scale_df) \n",
    "scale_tr = scaler.transform(scale_df) \n",
    "scale_df = pd.DataFrame(scale_tr,columns=scale_columns)\n",
    "\n",
    "# Add the non-scaled and scaled dataframes back together\n",
    "X_train = pd.concat([scale_df,temp], axis=1) \n",
    "\n",
    "#Choose columns to be scaled for X_test\n",
    "scale_df2 = X_test[scale_columns]\n",
    "\n",
    "# Seperate the non-scaled columns (dummies) X_test\n",
    "temp2 = X_test.drop(scale_columns,axis=1)\n",
    "temp2 = temp2.reset_index(drop=True)\n",
    "\n",
    "# Apply actual scaling to X_test\n",
    "# scaler2 = preprocessing.StandardScaler().fit(scale_df2) \n",
    "scale_tr2= scaler.transform(scale_df2) \n",
    "scale_df2=pd.DataFrame(scale_tr2,columns=scale_columns)\n",
    "\n",
    "# Add the non-scaled and scaled dataframes back together X_test\n",
    "X_test = pd.concat([scale_df2,temp2], axis=1) "
   ]
  },
  {
   "cell_type": "code",
   "execution_count": 36,
   "metadata": {},
   "outputs": [],
   "source": [
    "y_train = [2 if y==-1 else y for y in y_train]"
   ]
  },
  {
   "cell_type": "markdown",
   "metadata": {},
   "source": [
    "## Submodel (Multi-task Prediction Model)"
   ]
  },
  {
   "cell_type": "code",
   "execution_count": 66,
   "metadata": {},
   "outputs": [],
   "source": [
    "X_train_sub = X_train.copy()\n",
    "y_train_sub = y_train.copy()\n",
    "X_test_sub = X_test.copy()\n",
    "y_test_sub = y_test.copy()"
   ]
  },
  {
   "cell_type": "code",
   "execution_count": 67,
   "metadata": {},
   "outputs": [],
   "source": [
    "back_cols = ['days_since_admission','procedure_SignificantEvents', 'procedure_Ventilation',\n",
    "#               'COUNT_DOCTORS', 'COUNT_NURSES', 'COUNT_PATIENTS',\n",
    "            'cum_caretime_doctors','cum_caretime_nurses']\n",
    "col_ord = [c for c in X_train_sub.columns if c not in back_cols]\n",
    "col_ord.extend(back_cols)"
   ]
  },
  {
   "cell_type": "code",
   "execution_count": 68,
   "metadata": {},
   "outputs": [],
   "source": [
    "X_train_sub = X_train_sub.loc[:,col_ord]\n",
    "X_test_sub = X_test_sub.loc[:,col_ord]"
   ]
  },
  {
   "cell_type": "code",
   "execution_count": 69,
   "metadata": {},
   "outputs": [],
   "source": [
    "feature_names = X_train_sub.columns"
   ]
  },
  {
   "cell_type": "code",
   "execution_count": 73,
   "metadata": {},
   "outputs": [],
   "source": [
    "def reweight(pi0,pi1,pi2,q0=0.5,r0=0.5,q1=0.5,r1=0.5,q2=0.5,r2=0.5):\n",
    "    tot = pi0*(q0/r0)+pi1*(q1/r1)+pi2*(q2/r2)\n",
    "    w0 = pi0*(q0/r0)\n",
    "    w1 = pi1*(q1/r1)\n",
    "    w2 = pi2*(q2/r2)\n",
    "    w0 /= tot\n",
    "    w1 /= tot\n",
    "    w2 /= tot\n",
    "    return w0,w1,w2"
   ]
  },
  {
   "cell_type": "code",
   "execution_count": 78,
   "metadata": {},
   "outputs": [],
   "source": [
    "y_train_orig = [2 if y==-1 else y for y in y_test_sub]\n",
    "\n",
    "#Population ratios\n",
    "q0 = np.sum([y==0 for y in y_train_orig])/len(y_train_orig)\n",
    "q1 = np.sum([y==1 for y in y_train_orig])/len(y_train_orig)\n",
    "q2 = np.sum([y==2 for y in y_train_orig])/len(y_train_orig)\n",
    "\n",
    "r0 = 1/3 # training set\n",
    "r1 = 1/3 # training set\n",
    "r2 = 1/3 # training set"
   ]
  },
  {
   "cell_type": "markdown",
   "metadata": {},
   "source": [
    "### Random forest"
   ]
  },
  {
   "cell_type": "code",
   "execution_count": 111,
   "metadata": {},
   "outputs": [],
   "source": [
    "# IMPORTANT!!!!\n",
    "# But one-hot encoding also presents two problems that are more particular to tree-based models:\n",
    "# The resulting sparsity virtually ensures that continuous variables are assigned higher feature importance.\n",
    "# A single level of a categorical variable must meet a very high bar in order to be selected for splitting early in the tree building. This can degrade predictive performance.\n",
    "\n",
    "forest = RandomForestClassifier(n_estimators=20)  #Setting n_estimator to prevent overfitting\n",
    "forest_fitted = forest.fit(X_train_sub, y_train_sub) \n",
    "scores = cross_val_score(forest, X_train_sub, y_train_sub, cv=5)\n",
    "y_pred_forest = forest.predict(X_test_sub)\n",
    "y_pred_prob = forest.predict_proba(X_test_sub)"
   ]
  },
  {
   "cell_type": "code",
   "execution_count": 112,
   "metadata": {
    "scrolled": true
   },
   "outputs": [
    {
     "name": "stdout",
     "output_type": "stream",
     "text": [
      "Accuracy: 0.64 (+/- 0.02)\n"
     ]
    },
    {
     "data": {
      "text/plain": [
       "procedure_Ventilation       1.000000\n",
       "urineoutput                 0.623556\n",
       "cum_caretime_doctors        0.608712\n",
       "ICD9_CODE_CAT_3             0.597489\n",
       "ICD9_CODE_CAT_5             0.583021\n",
       "                              ...   \n",
       "gender__M                   0.014710\n",
       "age_group__65-89            0.007462\n",
       "careunit__SICU              0.006672\n",
       "INSURANCE_TYPE__Medicaid    0.006117\n",
       "careunit__MICU              0.000000\n",
       "Length: 69, dtype: float64"
      ]
     },
     "execution_count": 112,
     "metadata": {},
     "output_type": "execute_result"
    }
   ],
   "source": [
    "# Step 5: Assess expected accuracy\n",
    "print(\"Accuracy: %0.2f (+/- %0.2f)\" % (scores.mean(), scores.std() * 2))\n",
    "\n",
    "# Step 6: Assess variable importance\n",
    "importances = forest_fitted.feature_importances_\n",
    "important_features = pd.Series(data=importances/importances.max() ,index=feature_names)\n",
    "important_features.sort_values(ascending=False)\n"
   ]
  },
  {
   "cell_type": "markdown",
   "metadata": {},
   "source": [
    "#### Evaluation"
   ]
  },
  {
   "cell_type": "code",
   "execution_count": 113,
   "metadata": {
    "scrolled": true
   },
   "outputs": [],
   "source": [
    "rew0 = []\n",
    "rew1 = []\n",
    "rew2 = []\n",
    "\n",
    "for i in range(len(y_test_sub)):\n",
    "    pi0,pi1,pi2 = y_pred_prob[i]\n",
    "    w0,w1,w2 = reweight(pi0,pi1,pi2,q0,r0,q1,r1,q2,r2)\n",
    "    rew0.append(w0)\n",
    "    rew1.append(w1)\n",
    "    rew2.append(w2)"
   ]
  },
  {
   "cell_type": "code",
   "execution_count": 114,
   "metadata": {},
   "outputs": [],
   "source": [
    "pred_rew = [np.argmax([a,b,c]) for a,b,c in zip(rew0,rew1,rew2)]"
   ]
  },
  {
   "cell_type": "code",
   "execution_count": 115,
   "metadata": {},
   "outputs": [],
   "source": [
    "y_test_sub = [2 if y==-1 else y for y in y_test_sub]"
   ]
  },
  {
   "cell_type": "code",
   "execution_count": 118,
   "metadata": {},
   "outputs": [],
   "source": [
    "from sklearn.preprocessing import label_binarize\n",
    "\n",
    "y_test_bin = label_binarize(y_test_sub, classes=[0, 1, 2])\n",
    "y_pred_forest_bin = label_binarize(pred_rew, classes=[0, 1, 2])"
   ]
  },
  {
   "cell_type": "code",
   "execution_count": 119,
   "metadata": {},
   "outputs": [
    {
     "data": {
      "text/plain": [
       "{'rf': 0.6813926800836184}"
      ]
     },
     "execution_count": 119,
     "metadata": {},
     "output_type": "execute_result"
    }
   ],
   "source": [
    "from sklearn.metrics import average_precision_score\n",
    "\n",
    "eval_models = {'rf':average_precision_score(y_test_bin, y_pred_forest_bin,average=\"weighted\")}\n",
    "eval_models"
   ]
  },
  {
   "cell_type": "markdown",
   "metadata": {},
   "source": [
    "### Gradient Boosting"
   ]
  },
  {
   "cell_type": "code",
   "execution_count": 120,
   "metadata": {},
   "outputs": [],
   "source": [
    "from sklearn.ensemble import GradientBoostingClassifier"
   ]
  },
  {
   "cell_type": "code",
   "execution_count": 121,
   "metadata": {},
   "outputs": [],
   "source": [
    "\n",
    "# IMPORTANT!!!!\n",
    "# But one-hot encoding also presents two problems that are more particular to tree-based models:\n",
    "# The resulting sparsity virtually ensures that continuous variables are assigned higher feature importance.\n",
    "# A single level of a categorical variable must meet a very high bar in order to be selected for splitting early in the tree building. This can degrade predictive performance.\n",
    "\n",
    "feature_names = X_train.columns\n",
    "tree = GradientBoostingClassifier(n_estimators=50)  #Setting n_estimator to prevent overfitting\n",
    "tree_fitted = tree.fit(X_train, y_train) \n",
    "scores = cross_val_score(tree, X_train, y_train, cv=5)\n",
    "y_pred_tree = tree.predict(X_test)\n",
    "y_pred_prob_tree = tree.predict_proba(X_test)\n"
   ]
  },
  {
   "cell_type": "code",
   "execution_count": 122,
   "metadata": {},
   "outputs": [
    {
     "name": "stdout",
     "output_type": "stream",
     "text": [
      "Accuracy: 0.67 (+/- 0.02)\n"
     ]
    },
    {
     "data": {
      "text/plain": [
       "DEATHRATE_CAT__2.0             1.000000\n",
       "cum_caretime_nurses            0.832544\n",
       "urineoutput                    0.811364\n",
       "procedure_Ventilation          0.790727\n",
       "DEATHRATE_CAT__1.0             0.518546\n",
       "                                 ...   \n",
       "INSURANCE_TYPE__Self Pay       0.000000\n",
       "procedure_SignificantEvents    0.000000\n",
       "ICD9_CODE_CAT_4                0.000000\n",
       "careunit__SICU                 0.000000\n",
       "ICD9_CODE_CAT_3                0.000000\n",
       "Length: 69, dtype: float64"
      ]
     },
     "execution_count": 122,
     "metadata": {},
     "output_type": "execute_result"
    }
   ],
   "source": [
    "# Step 5: Assess expected accuracy\n",
    "print(\"Accuracy: %0.2f (+/- %0.2f)\" % (scores.mean(), scores.std() * 2))\n",
    "\n",
    "# Step 6: Assess variable importance\n",
    "importances = tree_fitted.feature_importances_\n",
    "important_features = pd.Series(data=importances/importances.max() ,index=feature_names)\n",
    "important_features.sort_values(ascending=False)"
   ]
  },
  {
   "cell_type": "markdown",
   "metadata": {},
   "source": [
    "#### Evaluation"
   ]
  },
  {
   "cell_type": "code",
   "execution_count": 123,
   "metadata": {
    "scrolled": true
   },
   "outputs": [],
   "source": [
    "rew0 = []\n",
    "rew1 = []\n",
    "rew2 = []\n",
    "\n",
    "for i in range(len(y_test_sub)):\n",
    "    pi0,pi1,pi2 = y_pred_prob_tree[i]\n",
    "    w0,w1,w2 = reweight(pi0,pi1,pi2,q0,r0,q1,r1,q2,r2)\n",
    "    rew0.append(w0)\n",
    "    rew1.append(w1)\n",
    "    rew2.append(w2)"
   ]
  },
  {
   "cell_type": "code",
   "execution_count": 124,
   "metadata": {},
   "outputs": [],
   "source": [
    "pred_rew = [np.argmax([a,b,c]) for a,b,c in zip(rew0,rew1,rew2)]"
   ]
  },
  {
   "cell_type": "code",
   "execution_count": 125,
   "metadata": {},
   "outputs": [],
   "source": [
    "y_test_sub = [2 if y==-1 else y for y in y_test_sub]"
   ]
  },
  {
   "cell_type": "code",
   "execution_count": 128,
   "metadata": {},
   "outputs": [],
   "source": [
    "from sklearn.preprocessing import label_binarize\n",
    "\n",
    "y_test_bin = label_binarize(y_test_sub, classes=[0, 1, 2])\n",
    "y_pred_forest_bin = label_binarize(pred_rew, classes=[0, 1, 2])"
   ]
  },
  {
   "cell_type": "code",
   "execution_count": 130,
   "metadata": {},
   "outputs": [
    {
     "data": {
      "text/plain": [
       "{'rf': 0.6813926800836184, 'gb': 0.6965968978674881}"
      ]
     },
     "execution_count": 130,
     "metadata": {},
     "output_type": "execute_result"
    }
   ],
   "source": [
    "from sklearn.metrics import average_precision_score\n",
    "\n",
    "eval_models.update({'gb':average_precision_score(y_test_bin, y_pred_forest_bin,average=\"weighted\")})\n",
    "eval_models"
   ]
  },
  {
   "cell_type": "markdown",
   "metadata": {},
   "source": [
    "### XGB"
   ]
  },
  {
   "cell_type": "code",
   "execution_count": 601,
   "metadata": {},
   "outputs": [],
   "source": [
    "# feature importance\n",
    "xgb_model = xgb.XGBClassifier(objective='multi:softprob',\n",
    "              learning_rate= 0.1, #so called `eta` value\n",
    "              max_depth= 6,\n",
    "              min_child_weight= 11,\n",
    "              silent= 1,\n",
    "              subsample= 0.8,\n",
    "              colsample_bytree= 0.7,\n",
    "              n_estimators= 50, #number of trees \n",
    "              missing=-999, #replacing missing values\n",
    "              reg_lambda=1.5,\n",
    "              seed= 1337)\n",
    "\n",
    "xgb_model.fit(X_train_sub,y_train_sub)\n",
    "\n",
    "y_pred_xgb = xgb_model.predict(X_test_sub)\n",
    "y_pred_prob_xgb = xgb_model.predict_proba(X_test_sub)\n"
   ]
  },
  {
   "cell_type": "code",
   "execution_count": 602,
   "metadata": {},
   "outputs": [
    {
     "name": "stdout",
     "output_type": "stream",
     "text": [
      "Accuracy: 0.68 (+/- 0.01)\n"
     ]
    },
    {
     "data": {
      "text/plain": [
       "cum_caretime_doctors        1.000000\n",
       "ICD9_CODE_CAT_5             0.806862\n",
       "days_since_admission        0.672129\n",
       "ICD9_CODE_CAT_3             0.456828\n",
       "cum_caretime_nurses         0.453216\n",
       "                              ...   \n",
       "careunit__MICU              0.000000\n",
       "DEATHRATE_CAT__1.0          0.000000\n",
       "INSURANCE_TYPE__Medicaid    0.000000\n",
       "age_group__65-89            0.000000\n",
       "ICD9_CODE_CAT_4             0.000000\n",
       "Length: 69, dtype: float32"
      ]
     },
     "execution_count": 602,
     "metadata": {},
     "output_type": "execute_result"
    }
   ],
   "source": [
    "print(\"Accuracy: %0.2f (+/- %0.2f)\" % (scores.mean(), scores.std() * 2))\n",
    "\n",
    "importances = xgb_model.feature_importances_\n",
    "important_features = pd.Series(data=importances/importances.max() ,index=feature_names)\n",
    "important_features.sort_values(ascending=False)"
   ]
  },
  {
   "cell_type": "markdown",
   "metadata": {},
   "source": [
    "#### Evaluation"
   ]
  },
  {
   "cell_type": "code",
   "execution_count": 603,
   "metadata": {
    "scrolled": true
   },
   "outputs": [],
   "source": [
    "rew0 = []\n",
    "rew1 = []\n",
    "rew2 = []\n",
    "\n",
    "for i in range(len(y_test_sub)):\n",
    "    pi0,pi1,pi2 = y_pred_prob_xgb[i]\n",
    "    w0,w1,w2 = reweight(pi0,pi1,pi2,q0,r0,q1,r1,q2,r2)\n",
    "    rew0.append(w0)\n",
    "    rew1.append(w1)\n",
    "    rew2.append(w2)"
   ]
  },
  {
   "cell_type": "code",
   "execution_count": 604,
   "metadata": {},
   "outputs": [],
   "source": [
    "pred_rew = [np.argmax([a,b,c]) for a,b,c in zip(rew0,rew1,rew2)]"
   ]
  },
  {
   "cell_type": "code",
   "execution_count": 605,
   "metadata": {},
   "outputs": [],
   "source": [
    "y_test_sub = [2 if y==-1 else y for y in y_test_sub]"
   ]
  },
  {
   "cell_type": "code",
   "execution_count": 608,
   "metadata": {},
   "outputs": [],
   "source": [
    "from sklearn.preprocessing import label_binarize\n",
    "\n",
    "y_test_bin = label_binarize(y_test_sub, classes=[0, 1, 2])\n",
    "y_pred_forest_bin = label_binarize(pred_rew, classes=[0, 1, 2])"
   ]
  },
  {
   "cell_type": "code",
   "execution_count": 609,
   "metadata": {},
   "outputs": [
    {
     "data": {
      "text/plain": [
       "{'rf': 0.6813926800836184,\n",
       " 'gb': 0.6965968978674881,\n",
       " 'xgb': 0.7075535897809753,\n",
       " 'svc': 0.6956649810215869,\n",
       " 'ensemble': 0.6949639007226197}"
      ]
     },
     "execution_count": 609,
     "metadata": {},
     "output_type": "execute_result"
    }
   ],
   "source": [
    "from sklearn.metrics import average_precision_score\n",
    "\n",
    "eval_models.update({'xgb':average_precision_score(y_test_bin, y_pred_forest_bin,average=\"weighted\")})\n",
    "eval_models"
   ]
  },
  {
   "cell_type": "code",
   "execution_count": 265,
   "metadata": {},
   "outputs": [],
   "source": [
    "def prediction_xgb (X_new,rew):\n",
    "    \n",
    "    # Choose columns to be scaled for X_train\n",
    "    scale_columns = ['age','preiculos', 'gcs', 'heartrate', 'meanbp', 'resprate', 'temp',\n",
    "           'urineoutput', 'respiration',\n",
    "           'coagulation', 'liver', 'cardiovascular', 'cns', 'renal',\n",
    "                    'HeartRate_Min', 'HeartRate_Max',\n",
    "           'HeartRate_Mean', 'SysBP_Min', 'SysBP_Max', 'SysBP_Mean', 'DiasBP_Min',\n",
    "           'DiasBP_Max', 'DiasBP_Mean', 'MeanBP_Min', 'MeanBP_Max', 'MeanBP_Mean',\n",
    "           'RespRate_Min', 'RespRate_Max', 'RespRate_Mean', 'TempC_Min',\n",
    "           'TempC_Max', 'TempC_Mean', 'SpO2_Min', 'SpO2_Max', 'SpO2_Mean',\n",
    "           'Glucose_Min', 'Glucose_Max', 'Glucose_Mean','days_since_admission',\n",
    "                    'cum_caretime_doctors','cum_caretime_nurses'] \n",
    "    scale_df = X_new[scale_columns]\n",
    "\n",
    "    # Seperate the non-scaled columns (dummies) X_train\n",
    "    temp = X_new.drop(scale_columns,axis=1)\n",
    "    temp = temp.reset_index(drop=True)\n",
    "\n",
    "    # Apply actual scaling to X_train\n",
    "    scale_tr = scaler.transform(scale_df) \n",
    "    scale_df = pd.DataFrame(scale_tr,columns=scale_columns)\n",
    "\n",
    "    # Add the non-scaled and scaled dataframes back together\n",
    "    X_new = pd.concat([scale_df,temp], axis=1) \n",
    "    X_new = X_new.loc[:,col_ord]\n",
    "    X_new = X_new.astype('float64')\n",
    "\n",
    "    y_pred_prob = xgb_model.predict_proba(X_new)\n",
    "    if rew:\n",
    "        y_pred = []\n",
    "        for i in range(X_new.shape[0]):\n",
    "            if np.argmax(y_pred_prob[i,]) == 0:\n",
    "                y_pred.append(0)\n",
    "            elif np.argmax(y_pred_prob[i,]) == 1:\n",
    "                y_pred.append(1)\n",
    "            elif y_pred_prob[i,2] > 10*y_pred_prob[i,1]:\n",
    "                y_pred.append(2)\n",
    "            else:\n",
    "                y_pred.append(1)\n",
    "    else:\n",
    "        y_pred = [np.argmax(y_pred_prob[i,]) for i in range(X_new.shape[0])]\n",
    "    return(y_pred)"
   ]
  },
  {
   "cell_type": "code",
   "execution_count": 670,
   "metadata": {
    "scrolled": true
   },
   "outputs": [
    {
     "data": {
      "text/html": [
       "<div>\n",
       "<style scoped>\n",
       "    .dataframe tbody tr th:only-of-type {\n",
       "        vertical-align: middle;\n",
       "    }\n",
       "\n",
       "    .dataframe tbody tr th {\n",
       "        vertical-align: top;\n",
       "    }\n",
       "\n",
       "    .dataframe thead th {\n",
       "        text-align: right;\n",
       "    }\n",
       "</style>\n",
       "<table border=\"1\" class=\"dataframe\">\n",
       "  <thead>\n",
       "    <tr style=\"text-align: right;\">\n",
       "      <th></th>\n",
       "      <th>0</th>\n",
       "    </tr>\n",
       "  </thead>\n",
       "  <tbody>\n",
       "    <tr>\n",
       "      <th>DEATHRATE_CAT__2.0</th>\n",
       "      <td>35.048599</td>\n",
       "    </tr>\n",
       "    <tr>\n",
       "      <th>procedure_Ventilation</th>\n",
       "      <td>28.279371</td>\n",
       "    </tr>\n",
       "    <tr>\n",
       "      <th>DEATHRATE_CAT__1.0</th>\n",
       "      <td>23.557163</td>\n",
       "    </tr>\n",
       "    <tr>\n",
       "      <th>days_since_admission</th>\n",
       "      <td>16.011197</td>\n",
       "    </tr>\n",
       "    <tr>\n",
       "      <th>DEATHRATE_INT_CAT__1.0</th>\n",
       "      <td>15.884585</td>\n",
       "    </tr>\n",
       "    <tr>\n",
       "      <th>SpO2_Min</th>\n",
       "      <td>9.181978</td>\n",
       "    </tr>\n",
       "    <tr>\n",
       "      <th>ADMISSION_TYPE__EMERGENCY</th>\n",
       "      <td>9.142745</td>\n",
       "    </tr>\n",
       "    <tr>\n",
       "      <th>urineoutput</th>\n",
       "      <td>8.774081</td>\n",
       "    </tr>\n",
       "    <tr>\n",
       "      <th>cum_caretime_nurses</th>\n",
       "      <td>7.887445</td>\n",
       "    </tr>\n",
       "    <tr>\n",
       "      <th>cardiovascular</th>\n",
       "      <td>7.437773</td>\n",
       "    </tr>\n",
       "  </tbody>\n",
       "</table>\n",
       "</div>"
      ],
      "text/plain": [
       "                                   0\n",
       "DEATHRATE_CAT__2.0         35.048599\n",
       "procedure_Ventilation      28.279371\n",
       "DEATHRATE_CAT__1.0         23.557163\n",
       "days_since_admission       16.011197\n",
       "DEATHRATE_INT_CAT__1.0     15.884585\n",
       "SpO2_Min                    9.181978\n",
       "ADMISSION_TYPE__EMERGENCY   9.142745\n",
       "urineoutput                 8.774081\n",
       "cum_caretime_nurses         7.887445\n",
       "cardiovascular              7.437773"
      ]
     },
     "execution_count": 670,
     "metadata": {},
     "output_type": "execute_result"
    }
   ],
   "source": [
    "importances = xgb_model.get_booster().get_score(importance_type=\"gain\")\n",
    "importances_df = pd.DataFrame(importances.values(),importances.keys())\n",
    "importances_df.sort_values(0,ascending=False).head(10)"
   ]
  },
  {
   "cell_type": "markdown",
   "metadata": {},
   "source": [
    "### SVC"
   ]
  },
  {
   "cell_type": "code",
   "execution_count": 86,
   "metadata": {
    "scrolled": true
   },
   "outputs": [
    {
     "name": "stdout",
     "output_type": "stream",
     "text": [
      "Best Cost parameter : 1\n",
      "Best gamma parameter : 0.05\n"
     ]
    }
   ],
   "source": [
    "# #Grid Search CV\n",
    "\n",
    "# MySvc = SVC(C=1)\n",
    "# grid_values = {'kernel':['rbf','linear'],\n",
    "#                #'C':[0.1,0.5,1] , \n",
    "#                'gamma':[0.05, 0.1], \n",
    "#                #'decision_function_shape':['ovr','ovo'],\n",
    "#                #'class_weight':['balanced',inv_weight,arith_weight]\n",
    "#               } # Parameter grid here, default gamma = 1/(num features)\n",
    "# grid_svc_acc = GridSearchCV(MySvc, param_grid = grid_values,scoring = 'accuracy', cv=5)\n",
    "# grid_svc_acc.fit(X_train_sub, y_train_sub)\n",
    "\n",
    "# #Best parameters\n",
    "# print('Best Cost parameter : '+ str(grid_svc_acc.best_estimator_.C))\n",
    "# print('Best gamma parameter : '+ str(grid_svc_acc.best_estimator_.gamma))\n",
    "\n",
    "# # Report best Number of Neighbors\n",
    "# # GridSearch_table_plot(grid_svc_acc, \"C\", negative=False, display_all_params=False)"
   ]
  },
  {
   "cell_type": "code",
   "execution_count": 88,
   "metadata": {},
   "outputs": [
    {
     "name": "stdout",
     "output_type": "stream",
     "text": [
      "best parameters: {'gamma': 0.05, 'kernel': 'rbf'}\n",
      "best score:      0.58843 (+/-0.01751)\n"
     ]
    },
    {
     "data": {
      "text/html": [
       "<div>\n",
       "<style scoped>\n",
       "    .dataframe tbody tr th:only-of-type {\n",
       "        vertical-align: middle;\n",
       "    }\n",
       "\n",
       "    .dataframe tbody tr th {\n",
       "        vertical-align: top;\n",
       "    }\n",
       "\n",
       "    .dataframe thead th {\n",
       "        text-align: right;\n",
       "    }\n",
       "</style>\n",
       "<table border=\"1\" class=\"dataframe\">\n",
       "  <thead>\n",
       "    <tr style=\"text-align: right;\">\n",
       "      <th></th>\n",
       "      <th>param_gamma</th>\n",
       "      <th>param_kernel</th>\n",
       "      <th>params</th>\n",
       "      <th>split0_test_score</th>\n",
       "      <th>split1_test_score</th>\n",
       "      <th>split2_test_score</th>\n",
       "      <th>split3_test_score</th>\n",
       "      <th>split4_test_score</th>\n",
       "      <th>mean_test_score</th>\n",
       "      <th>std_test_score</th>\n",
       "      <th>rank_test_score</th>\n",
       "    </tr>\n",
       "  </thead>\n",
       "  <tbody>\n",
       "    <tr>\n",
       "      <th>0</th>\n",
       "      <td>0.05</td>\n",
       "      <td>rbf</td>\n",
       "      <td>{'gamma': 0.05, 'kernel': 'rbf'}</td>\n",
       "      <td>0.567976</td>\n",
       "      <td>0.610272</td>\n",
       "      <td>0.601208</td>\n",
       "      <td>0.594949</td>\n",
       "      <td>0.567677</td>\n",
       "      <td>0.588425</td>\n",
       "      <td>0.017506</td>\n",
       "      <td>1</td>\n",
       "    </tr>\n",
       "    <tr>\n",
       "      <th>1</th>\n",
       "      <td>0.05</td>\n",
       "      <td>linear</td>\n",
       "      <td>{'gamma': 0.05, 'kernel': 'linear'}</td>\n",
       "      <td>0.582075</td>\n",
       "      <td>0.585096</td>\n",
       "      <td>0.589124</td>\n",
       "      <td>0.588889</td>\n",
       "      <td>0.583838</td>\n",
       "      <td>0.585804</td>\n",
       "      <td>0.002786</td>\n",
       "      <td>2</td>\n",
       "    </tr>\n",
       "    <tr>\n",
       "      <th>3</th>\n",
       "      <td>0.1</td>\n",
       "      <td>linear</td>\n",
       "      <td>{'gamma': 0.1, 'kernel': 'linear'}</td>\n",
       "      <td>0.582075</td>\n",
       "      <td>0.585096</td>\n",
       "      <td>0.589124</td>\n",
       "      <td>0.588889</td>\n",
       "      <td>0.583838</td>\n",
       "      <td>0.585804</td>\n",
       "      <td>0.002786</td>\n",
       "      <td>2</td>\n",
       "    </tr>\n",
       "    <tr>\n",
       "      <th>2</th>\n",
       "      <td>0.1</td>\n",
       "      <td>rbf</td>\n",
       "      <td>{'gamma': 0.1, 'kernel': 'rbf'}</td>\n",
       "      <td>0.542800</td>\n",
       "      <td>0.568983</td>\n",
       "      <td>0.567976</td>\n",
       "      <td>0.559596</td>\n",
       "      <td>0.524242</td>\n",
       "      <td>0.552732</td>\n",
       "      <td>0.017047</td>\n",
       "      <td>4</td>\n",
       "    </tr>\n",
       "  </tbody>\n",
       "</table>\n",
       "</div>"
      ],
      "text/plain": [
       "  param_gamma param_kernel                               params  \\\n",
       "0        0.05          rbf     {'gamma': 0.05, 'kernel': 'rbf'}   \n",
       "1        0.05       linear  {'gamma': 0.05, 'kernel': 'linear'}   \n",
       "3         0.1       linear   {'gamma': 0.1, 'kernel': 'linear'}   \n",
       "2         0.1          rbf      {'gamma': 0.1, 'kernel': 'rbf'}   \n",
       "\n",
       "   split0_test_score  split1_test_score  split2_test_score  split3_test_score  \\\n",
       "0           0.567976           0.610272           0.601208           0.594949   \n",
       "1           0.582075           0.585096           0.589124           0.588889   \n",
       "3           0.582075           0.585096           0.589124           0.588889   \n",
       "2           0.542800           0.568983           0.567976           0.559596   \n",
       "\n",
       "   split4_test_score  mean_test_score  std_test_score  rank_test_score  \n",
       "0           0.567677         0.588425        0.017506                1  \n",
       "1           0.583838         0.585804        0.002786                2  \n",
       "3           0.583838         0.585804        0.002786                2  \n",
       "2           0.524242         0.552732        0.017047                4  "
      ]
     },
     "metadata": {},
     "output_type": "display_data"
    },
    {
     "data": {
      "image/png": "[encoded data removed]",
      "text/plain": [
       "<Figure size 576x576 with 1 Axes>"
      ]
     },
     "metadata": {
      "needs_background": "light"
     },
     "output_type": "display_data"
    }
   ],
   "source": [
    "# from utils.helper_functions import *\n",
    "\n",
    "# GridSearch_table_plot(grid_svc_acc, \"kernel\", negative=False, display_all_params=False)"
   ]
  },
  {
   "cell_type": "code",
   "execution_count": 396,
   "metadata": {},
   "outputs": [
    {
     "data": {
      "text/plain": [
       "SVC(C=1, cache_size=200, class_weight=None, coef0=0.0,\n",
       "    decision_function_shape='ovr', degree=3, gamma=0.05, kernel='rbf',\n",
       "    max_iter=-1, probability=True, random_state=None, shrinking=True, tol=0.001,\n",
       "    verbose=False)"
      ]
     },
     "execution_count": 396,
     "metadata": {},
     "output_type": "execute_result"
    }
   ],
   "source": [
    "classifier = SVC(kernel ='rbf', C=1, gamma=0.05, probability=True)\n",
    "classifier.fit(X_train_sub, y_train_sub)"
   ]
  },
  {
   "cell_type": "code",
   "execution_count": 397,
   "metadata": {},
   "outputs": [],
   "source": [
    "y_pred = classifier.predict(X_test_sub)\n",
    "y_pred_prob = classifier.predict_proba(X_test_sub)"
   ]
  },
  {
   "cell_type": "code",
   "execution_count": 398,
   "metadata": {},
   "outputs": [],
   "source": [
    "def prediction_svm (X_new,rew):\n",
    "    \n",
    "    # Choose columns to be scaled for X_train\n",
    "    scale_columns = ['age','preiculos', 'gcs', 'heartrate', 'meanbp', 'resprate', 'temp',\n",
    "           'urineoutput', 'respiration',\n",
    "           'coagulation', 'liver', 'cardiovascular', 'cns', 'renal',\n",
    "                    'HeartRate_Min', 'HeartRate_Max',\n",
    "           'HeartRate_Mean', 'SysBP_Min', 'SysBP_Max', 'SysBP_Mean', 'DiasBP_Min',\n",
    "           'DiasBP_Max', 'DiasBP_Mean', 'MeanBP_Min', 'MeanBP_Max', 'MeanBP_Mean',\n",
    "           'RespRate_Min', 'RespRate_Max', 'RespRate_Mean', 'TempC_Min',\n",
    "           'TempC_Max', 'TempC_Mean', 'SpO2_Min', 'SpO2_Max', 'SpO2_Mean',\n",
    "           'Glucose_Min', 'Glucose_Max', 'Glucose_Mean','days_since_admission',\n",
    "                    'cum_caretime_doctors','cum_caretime_nurses'] \n",
    "    scale_df = X_new[scale_columns]\n",
    "\n",
    "    # Seperate the non-scaled columns (dummies) X_train\n",
    "    temp = X_new.drop(scale_columns,axis=1)\n",
    "    temp = temp.reset_index(drop=True)\n",
    "\n",
    "    # Apply actual scaling to X_train\n",
    "    scale_tr = scaler.transform(scale_df) \n",
    "    scale_df = pd.DataFrame(scale_tr,columns=scale_columns)\n",
    "\n",
    "    # Add the non-scaled and scaled dataframes back together\n",
    "    X_new = pd.concat([scale_df,temp], axis=1) \n",
    "    X_new = X_new.loc[:,col_ord]\n",
    "\n",
    "    y_pred_prob = classifier.predict_proba(X_new)\n",
    "    if rew:\n",
    "        y_pred = []\n",
    "        for i in range(X_new.shape[0]):\n",
    "            if np.argmax(y_pred_prob[i,]) == 0:\n",
    "                y_pred.append(0)\n",
    "            elif np.argmax(y_pred_prob[i,]) == 1:\n",
    "                y_pred.append(1)\n",
    "            elif y_pred_prob[i,2] > 10*y_pred_prob[i,1]:\n",
    "                y_pred.append(2)\n",
    "            else:\n",
    "                y_pred.append(1)\n",
    "    else:\n",
    "        y_pred = [np.argmax(y_pred_prob[i,]) for i in range(X_new.shape[0])]\n",
    "    return(y_pred)"
   ]
  },
  {
   "cell_type": "markdown",
   "metadata": {},
   "source": [
    "#### Evaluation"
   ]
  },
  {
   "cell_type": "code",
   "execution_count": 175,
   "metadata": {
    "scrolled": true
   },
   "outputs": [],
   "source": [
    "rew0 = []\n",
    "rew1 = []\n",
    "rew2 = []\n",
    "\n",
    "for i in range(len(y_test_sub)):\n",
    "    pi0,pi1,pi2 = y_pred_prob[i]\n",
    "    w0,w1,w2 = reweight(pi0,pi1,pi2,q0,r0,q1,r1,q2,r2)\n",
    "    rew0.append(w0)\n",
    "    rew1.append(w1)\n",
    "    rew2.append(w2)"
   ]
  },
  {
   "cell_type": "code",
   "execution_count": 176,
   "metadata": {},
   "outputs": [],
   "source": [
    "pred_rew = [np.argmax([a,b,c]) for a,b,c in zip(rew0,rew1,rew2)]"
   ]
  },
  {
   "cell_type": "code",
   "execution_count": 177,
   "metadata": {},
   "outputs": [],
   "source": [
    "y_test_sub = [2 if y==-1 else y for y in y_test_sub]"
   ]
  },
  {
   "cell_type": "code",
   "execution_count": 399,
   "metadata": {},
   "outputs": [],
   "source": [
    "from sklearn.preprocessing import label_binarize\n",
    "\n",
    "y_test_bin = label_binarize(y_test_sub, classes=[0, 1, 2])\n",
    "y_pred_forest_bin = label_binarize(y_pred, classes=[0, 1, 2])"
   ]
  },
  {
   "cell_type": "code",
   "execution_count": 400,
   "metadata": {},
   "outputs": [
    {
     "data": {
      "text/plain": [
       "{'rf': 0.6813926800836184,\n",
       " 'gb': 0.6965968978674881,\n",
       " 'xgb': 0.7528851483630797,\n",
       " 'svc': 0.6956649810215869,\n",
       " 'ensemble': 0.6949639007226197}"
      ]
     },
     "execution_count": 400,
     "metadata": {},
     "output_type": "execute_result"
    }
   ],
   "source": [
    "from sklearn.metrics import average_precision_score\n",
    "\n",
    "eval_models.update({'svc':average_precision_score(y_test_bin, y_pred_forest_bin,average=\"weighted\")})\n",
    "eval_models"
   ]
  },
  {
   "cell_type": "markdown",
   "metadata": {},
   "source": [
    "### Ensemble"
   ]
  },
  {
   "cell_type": "code",
   "execution_count": 157,
   "metadata": {},
   "outputs": [
    {
     "name": "stderr",
     "output_type": "stream",
     "text": [
      "[MLENS] backend: threading\n"
     ]
    }
   ],
   "source": [
    "from mlens.ensemble import SuperLearner\n",
    "from sklearn.ensemble import ExtraTreesClassifier\n",
    "from sklearn.svm import SVC"
   ]
  },
  {
   "cell_type": "code",
   "execution_count": 158,
   "metadata": {},
   "outputs": [],
   "source": [
    "def get_models():\n",
    "    #Generate a library of simple learners\n",
    "    rf = RandomForestClassifier(n_estimators=20)\n",
    "    tree = GradientBoostingClassifier(n_estimators=50)\n",
    "    xgb_mod = xgb.XGBClassifier(objective='multi:softprob',\n",
    "              learning_rate= 0.05, #so called `eta` value\n",
    "              max_depth= 6,\n",
    "              min_child_weight= 11,\n",
    "              silent= 1,\n",
    "              subsample= 0.8,\n",
    "              colsample_bytree= 0.7,\n",
    "              n_estimators= 50, #number of trees \n",
    "              missing=-999, #replacing missing values\n",
    "              reg_lambda=1.5,\n",
    "              seed= 1337)\n",
    "#     svc = SVC(C=10, kernel='linear', probability=True, gamma='scale', random_state=1)\n",
    "#     lr = LogisticRegression(penalty='l2', C=100.0, \n",
    "#                            fit_intercept=True, \n",
    "#                            intercept_scaling=1, \n",
    "#                            solver='liblinear', max_iter=500)\n",
    "\n",
    "    models = {'random forest': rf,\n",
    "              'gradient boosting': tree,\n",
    "              'xgboost': xgb_mod,\n",
    "#               'svc':svc,\n",
    "#               'logistic': lr,\n",
    "              }\n",
    "\n",
    "    return models\n",
    "\n",
    "models = get_models()"
   ]
  },
  {
   "cell_type": "code",
   "execution_count": 159,
   "metadata": {},
   "outputs": [],
   "source": [
    "meta_learner = ExtraTreesClassifier(\n",
    "    n_estimators=50,\n",
    "    bootstrap=True,\n",
    "    max_features=0.7)"
   ]
  },
  {
   "cell_type": "code",
   "execution_count": 160,
   "metadata": {},
   "outputs": [
    {
     "data": {
      "text/plain": [
       "Index(['days_since_admission', 'procedure_SignificantEvents',\n",
       "       'procedure_Ventilation'],\n",
       "      dtype='object')"
      ]
     },
     "execution_count": 160,
     "metadata": {},
     "output_type": "execute_result"
    }
   ],
   "source": [
    "# Select features to propagate\n",
    "to_propagate=['days_since_admission','procedure_Ventilation','procedure_SignificantEvents'] # you can add the most important according to random forest, for example\n",
    "pointer= [i for i,x in enumerate(X_train_sub.columns) if x in to_propagate]\n",
    "X_train_sub.columns[pointer]"
   ]
  },
  {
   "cell_type": "code",
   "execution_count": 161,
   "metadata": {},
   "outputs": [],
   "source": [
    "# Instantiate the ensemble with 5 folds (stacking meta-learner)\n",
    "sl = SuperLearner(\n",
    "    folds=5,\n",
    "    verbose=0\n",
    ")\n",
    "\n",
    "# Add the base learners and the meta learner\n",
    "sl.add(list(models.values()), proba=True, propagate_features=pointer)\n",
    "sl.add_meta(meta_learner, proba=True)\n",
    "\n",
    "# Train the ensemble\n",
    "sl.fit(np.array(X_train_sub), np.array(y_train_sub))\n",
    "\n",
    "y_pred_prob_sl = sl.predict_proba(np.array(X_test_sub))"
   ]
  },
  {
   "cell_type": "code",
   "execution_count": 162,
   "metadata": {},
   "outputs": [],
   "source": [
    "y_pred_sl = [np.argmax(y_pred_prob_sl[i,]) for i in range(y_pred_prob_sl.shape[0])]"
   ]
  },
  {
   "cell_type": "markdown",
   "metadata": {},
   "source": [
    "#### Evaluation"
   ]
  },
  {
   "cell_type": "code",
   "execution_count": 163,
   "metadata": {
    "scrolled": true
   },
   "outputs": [],
   "source": [
    "rew0 = []\n",
    "rew1 = []\n",
    "rew2 = []\n",
    "\n",
    "for i in range(len(y_test_sub)):\n",
    "    pi0,pi1,pi2 = y_pred_prob_sl[i]\n",
    "    w0,w1,w2 = reweight(pi0,pi1,pi2,q0,r0,q1,r1,q2,r2)\n",
    "    rew0.append(w0)\n",
    "    rew1.append(w1)\n",
    "    rew2.append(w2)"
   ]
  },
  {
   "cell_type": "code",
   "execution_count": 164,
   "metadata": {},
   "outputs": [],
   "source": [
    "pred_rew = [np.argmax([a,b,c]) for a,b,c in zip(rew0,rew1,rew2)]"
   ]
  },
  {
   "cell_type": "code",
   "execution_count": 165,
   "metadata": {},
   "outputs": [],
   "source": [
    "y_test_sub = [2 if y==-1 else y for y in y_test_sub]"
   ]
  },
  {
   "cell_type": "code",
   "execution_count": 173,
   "metadata": {},
   "outputs": [],
   "source": [
    "from sklearn.preprocessing import label_binarize\n",
    "\n",
    "y_test_bin = label_binarize(y_test_sub, classes=[0, 1, 2])\n",
    "y_pred_forest_bin = label_binarize(y_pred_sl, classes=[0, 1, 2])"
   ]
  },
  {
   "cell_type": "code",
   "execution_count": 174,
   "metadata": {},
   "outputs": [
    {
     "data": {
      "text/plain": [
       "{'rf': 0.6813926800836184,\n",
       " 'gb': 0.6965968978674881,\n",
       " 'xgb': 0.7531469946841716,\n",
       " 'svc': 0.6949639007226197,\n",
       " 'ensemble': 0.6949639007226197}"
      ]
     },
     "execution_count": 174,
     "metadata": {},
     "output_type": "execute_result"
    }
   ],
   "source": [
    "from sklearn.metrics import average_precision_score\n",
    "\n",
    "eval_models.update({'ensemble':average_precision_score(y_test_bin, y_pred_forest_bin,average=\"weighted\")})\n",
    "eval_models"
   ]
  },
  {
   "cell_type": "markdown",
   "metadata": {},
   "source": [
    "### Overall Evaluation"
   ]
  },
  {
   "cell_type": "code",
   "execution_count": 628,
   "metadata": {},
   "outputs": [
    {
     "data": {
      "image/png": "[encoded data removed]",
      "text/plain": [
       "<Figure size 576x432 with 1 Axes>"
      ]
     },
     "metadata": {
      "needs_background": "light"
     },
     "output_type": "display_data"
    }
   ],
   "source": [
    "plt.rcParams.update({'font.size': 13})\n",
    "plt.figure(figsize=(8,6))\n",
    "labels = ['random_forest','GB','XGB','SVM','Ensemble']\n",
    "colors = ['blue','blue','blue','red','green']\n",
    "vals = list(eval_models.values())\n",
    "\n",
    "for i in range(len(labels)):\n",
    "    plt.bar(x=labels[i],height=list(eval_models.values())[i],color=colors[i])\n",
    "for lab,val in zip(labels,vals):\n",
    "    plt.text(lab, val, \"%.2f\" % round(val,2),\n",
    "            ha='center', va='bottom')\n",
    "plt.ylim((0.6,0.75))\n",
    "plt.ylabel('Average Precision Scores')\n",
    "plt.xlabel('Model Type')\n",
    "plt.savefig('AvPrecision.png')\n",
    "plt.show()"
   ]
  },
  {
   "cell_type": "markdown",
   "metadata": {},
   "source": [
    "## Simulations"
   ]
  },
  {
   "cell_type": "code",
   "execution_count": 78,
   "metadata": {},
   "outputs": [
    {
     "data": {
      "text/plain": [
       "['Other',\n",
       " 'Injury And Poisoning',\n",
       " 'Neoplasms',\n",
       " 'Infectious And Parasitic Diseases',\n",
       " 'Diseases Of The Digestive System',\n",
       " 'Diseases Of The Circulatory System',\n",
       " 'Endocrine, Nutritional And Metabolic Diseases, And Immunity Disorders',\n",
       " 'Diseases Of The Respiratory System',\n",
       " 'Diseases Of The Musculoskeletal System And Connective Tissue',\n",
       " 'Diseases Of The Genitourinary System',\n",
       " 'Diseases Of The Skin And Subcutaneous Tissue',\n",
       " 'Mental Disorders',\n",
       " 'Diseases Of The Nervous System And Sense Organs',\n",
       " 'Congenital Anomalies',\n",
       " 'Diseases Of The Blood And Blood-Forming Organs',\n",
       " 'Symptoms, Signs, And Ill-Defined Conditions']"
      ]
     },
     "execution_count": 78,
     "metadata": {},
     "output_type": "execute_result"
    }
   ],
   "source": [
    "a = df2['ICD9_CODE_CAT'].unique().tolist()\n",
    "a.remove('Complications Of Pregnancy, Childbirth, And The Puerperium')\n",
    "a"
   ]
  },
  {
   "cell_type": "code",
   "execution_count": 80,
   "metadata": {},
   "outputs": [],
   "source": [
    "ages = []\n",
    "for a in df2['age']:\n",
    "    if a > 89:\n",
    "        ages.append(90)\n",
    "    else:\n",
    "        ages.append(a)\n",
    "        \n",
    "ecdf = ECDF(ages)\n",
    "\n",
    "age_cmf = {ecdf(a):a for a in range(np.max(ages)+1)}"
   ]
  },
  {
   "cell_type": "code",
   "execution_count": 81,
   "metadata": {},
   "outputs": [],
   "source": [
    "def draw_age(age_cmf):\n",
    "    draw_unif = np.random.uniform()\n",
    "    \n",
    "    key = -1\n",
    "    for k in age_cmf.keys():\n",
    "        if draw_unif > k:\n",
    "            key = k\n",
    "    draw = age_cmf[key]+1\n",
    "    \n",
    "    return(draw)"
   ]
  },
  {
   "cell_type": "code",
   "execution_count": 82,
   "metadata": {
    "scrolled": true
   },
   "outputs": [
    {
     "name": "stderr",
     "output_type": "stream",
     "text": [
      "/Users/vivek/anaconda3/lib/python3.7/site-packages/ipykernel_launcher.py:3: UserWarning: Boolean Series key will be reindexed to match DataFrame index.\n",
      "  This is separate from the ipykernel package so we can avoid doing imports until\n"
     ]
    }
   ],
   "source": [
    "import collections\n",
    "\n",
    "codes = df2[df2['age_group__40-64']==0][df2['age_group__65-89']==0][df2['age_group__>89']==0]['ICD9_CODE_CAT']\n",
    "codes = [str(c) for c in codes]\n",
    "ecdf_condition_40 = ECDF(codes)\n",
    "condition_40_cmf = {ecdf_condition_40(a):a for a in codes}\n",
    "od_40 = collections.OrderedDict(sorted(condition_40_cmf.items()))\n",
    "\n",
    "codes = df2[df2['age_group__40-64']==1]['ICD9_CODE_CAT']\n",
    "codes = [str(c) for c in codes]\n",
    "ecdf_condition_40_64 = ECDF(codes)\n",
    "condition_40_64_cmf = {ecdf_condition_40_64(a):a for a in codes}\n",
    "od_40_64 = collections.OrderedDict(sorted(condition_40_64_cmf.items()))\n",
    "\n",
    "codes = df2[df2['age_group__65-89']==1]['ICD9_CODE_CAT']\n",
    "codes = [str(c) for c in codes]\n",
    "ecdf_condition_65_89 = ECDF(codes)\n",
    "condition_65_89_cmf = {ecdf_condition_65_89(a):a for a in codes}\n",
    "od_65_89 = collections.OrderedDict(sorted(condition_65_89_cmf.items()))\n",
    "\n",
    "codes = df2[df2['age_group__>89']==1]['ICD9_CODE_CAT']\n",
    "codes = [str(c) for c in codes]\n",
    "ecdf_condition_89 = ECDF(codes)\n",
    "condition_89_cmf = {ecdf_condition_89(a):a for a in codes}\n",
    "od_89 = collections.OrderedDict(sorted(condition_89_cmf.items()))"
   ]
  },
  {
   "cell_type": "code",
   "execution_count": 83,
   "metadata": {
    "scrolled": true
   },
   "outputs": [],
   "source": [
    "def draw_condition_40():\n",
    "    draw_unif = np.random.uniform()\n",
    "    \n",
    "    diffs = {c:a-b for a,c,b in zip(list(od_40.keys()),list(od_40.values()),[draw_unif]*len(list(od_40.keys()))) if (a-b)>0}\n",
    "    draw = list(diffs.keys())[0]\n",
    "    \n",
    "    return(draw)\n",
    "\n",
    "def draw_condition_40_64():\n",
    "    draw_unif = np.random.uniform()\n",
    "    \n",
    "    diffs = {c:a-b for a,c,b in zip(list(od_40_64.keys()),list(od_40_64.values()),[draw_unif]*len(list(od_40_64.keys()))) if (a-b)>0}\n",
    "    draw = list(diffs.keys())[0]\n",
    "    \n",
    "    return(draw)\n",
    "\n",
    "def draw_condition_65_89():\n",
    "    draw_unif = np.random.uniform()\n",
    "    \n",
    "    diffs = {c:a-b for a,c,b in zip(list(od_65_89.keys()),list(od_65_89.values()),[draw_unif]*len(list(od_65_89.keys()))) if (a-b)>0}\n",
    "    draw = list(diffs.keys())[0]\n",
    "    \n",
    "    return(draw)\n",
    "\n",
    "def draw_condition_89():\n",
    "    draw_unif = np.random.uniform()\n",
    "    \n",
    "    diffs = {c:a-b for a,c,b in zip(list(od_89.keys()),list(od_89.values()),[draw_unif]*len(list(od_89.keys()))) if (a-b)>0}\n",
    "    draw = list(diffs.keys())[0]\n",
    "    \n",
    "    return(draw)"
   ]
  },
  {
   "cell_type": "code",
   "execution_count": 84,
   "metadata": {},
   "outputs": [],
   "source": [
    "def draw_agents1(n):\n",
    "    age = []\n",
    "    age_group = []\n",
    "    condition = []\n",
    "    gender_M = []\n",
    "\n",
    "    for i in range(n):\n",
    "        age.append(draw_age(age_cmf))\n",
    "        if age[i] < 40:\n",
    "            condition.append(draw_condition_40(od_40))\n",
    "            age_group.append(1)\n",
    "        elif age[i] <= 64: #& age[i] >= 40:\n",
    "            condition.append(draw_condition_40_64(od_40_64))\n",
    "            age_group.append(2)\n",
    "        elif age[i] <= 89: #age[i] > 64 & age[i] <= 89:\n",
    "            condition.append(draw_condition_65_89(od_65_89))\n",
    "            age_group.append(3)\n",
    "        else:\n",
    "            condition.append(draw_condition_89(od_89))\n",
    "            age_group.append(4)\n",
    "        \n",
    "        # Gender conditioned on some conditions\n",
    "        if condition[i] == 'Complications Of Pregnancy, Childbirth, And The Puerperium':\n",
    "            gender_M.append(0)\n",
    "        elif condition[i] == 'Injury And Poisoning':\n",
    "            counts = df2[df2['ICD9_CODE_CAT']=='Injury And Poisoning']['gender__M'].value_counts()\n",
    "            gender_M.append(np.random.binomial(1,counts[1]/counts.sum()))\n",
    "        elif condition[i] == 'Diseases Of The Circulatory System':\n",
    "            counts = df2[df2['ICD9_CODE_CAT']=='Diseases Of The Circulatory System']['gender__M'].value_counts()\n",
    "            gender_M.append(np.random.binomial(1,counts[1]/counts.sum()))\n",
    "        elif condition[i] == 'Mental Disorders':\n",
    "            counts = df2[df2['ICD9_CODE_CAT']=='Mental Disorders']['gender__M'].value_counts()\n",
    "            gender_M.append(np.random.binomial(1,counts[1]/counts.sum()))\n",
    "        else:\n",
    "            gender_M.append(np.random.binomial(1,0.5))\n",
    "    \n",
    "    return(age,age_group,condition,gender_M)"
   ]
  },
  {
   "cell_type": "code",
   "execution_count": 85,
   "metadata": {},
   "outputs": [],
   "source": [
    "df5 = df3[df3['days_since_admission']==0]\n",
    "\n",
    "df5 = df5.drop(['days_since_admission','HOSPITAL_EXPIRE_FLAG','hospital_expire_flag',\n",
    "               'ICUSTAY_ID', 'INTIME', 'OUTTIME', 'DIFF',\n",
    "               'LAST_WARDID', 'GENDER','DOB', 'ICD9_CODE', 'SHORT_TITLE',\n",
    "               'LONG_TITLE', 'SEQ_NUM', 'DEATHTIME','ICUSTAY_AGE_GROUP',\n",
    "               'ICD9_CODE_CAT','date',\n",
    "               'INTIME_ACTUAL', 'OUTTIME_ACTUAL',\"CURR_CAREUNIT\",\"INSURANCE\",\"ADMISSION_TYPE\",\"DATE\",\"LOS\"],axis=1) #\n",
    "#'subject_id', 'hadm_id','SUBJECT_ID', 'HADM_ID', \n",
    "\n",
    "df5_index = df5.index"
   ]
  },
  {
   "cell_type": "code",
   "execution_count": 86,
   "metadata": {},
   "outputs": [],
   "source": [
    "# Prepare variables for model\n",
    "y_train=df5['out_flag']\n",
    "X_train=df5.drop(['out_flag'],axis=1)"
   ]
  },
  {
   "cell_type": "code",
   "execution_count": 87,
   "metadata": {},
   "outputs": [],
   "source": [
    "orig_index = X_train.index"
   ]
  },
  {
   "cell_type": "code",
   "execution_count": 88,
   "metadata": {},
   "outputs": [],
   "source": [
    "from sklearn.experimental import enable_iterative_imputer  # noqa\n",
    "from sklearn.impute import IterativeImputer\n",
    "\n",
    "imp_iter = IterativeImputer(random_state=0)\n",
    "imp_iter.fit(X_train)\n",
    "X_train = imp_iter.transform(X_train)"
   ]
  },
  {
   "cell_type": "code",
   "execution_count": 89,
   "metadata": {},
   "outputs": [],
   "source": [
    "X_train = pd.DataFrame(X_train)\n",
    "X_train.columns = df5.drop(['out_flag'],axis=1).columns"
   ]
  },
  {
   "cell_type": "code",
   "execution_count": 90,
   "metadata": {},
   "outputs": [],
   "source": [
    "X_train.index = orig_index"
   ]
  },
  {
   "cell_type": "code",
   "execution_count": 92,
   "metadata": {},
   "outputs": [],
   "source": [
    "X_train['age'] = [90 if a>89 else a for a in X_train['age']]"
   ]
  },
  {
   "cell_type": "code",
   "execution_count": 93,
   "metadata": {
    "scrolled": true
   },
   "outputs": [],
   "source": [
    "def sample_matches(X_train, knn_cols, draw_ac2):\n",
    "\n",
    "    filt = X_train[knn_cols]\n",
    "    sim = []\n",
    "    sim2 = []\n",
    "    sim2_df = pd.DataFrame(columns=X_train.columns)\n",
    "    ages = []\n",
    "\n",
    "    for j in range(draw_ac2.shape[0]):\n",
    "        \n",
    "        age = draw_ac2.loc[j,'age']\n",
    "        selected = [i for i in filt[filt['gender__M']==draw_ac2.loc[j,'gender__M']].index] #Initialize with gender\n",
    "        temp = []\n",
    "        for col in knn_cols[1:]:\n",
    "            temp = [i for i in filt[filt[col]==draw_ac2.loc[j,col]].index]\n",
    "            new = list(set(selected) & set(temp))\n",
    "            selected = np.copy(new)\n",
    "        \n",
    "            \n",
    "        if len(selected) >= 10:\n",
    "            sim.append(random.sample(list(selected),1)[0])\n",
    "            ages.append(age)\n",
    "        else:\n",
    "            print('less than 10')\n",
    "            sim2 = random.sample(list(selected),1)[0]\n",
    "            sim2_df = pd.concat([sim2_df, X_train.loc[[sim2]]])\n",
    "            mean_cols = ['gcs', 'heartrate', \n",
    "                'meanbp', 'resprate', 'temp', 'urineoutput','respiration','coagulation', 'liver',\n",
    "               'cardiovascular', 'cns', 'renal', 'HeartRate_Min', 'HeartRate_Max',\n",
    "               'HeartRate_Mean', 'SysBP_Min', 'SysBP_Max', 'SysBP_Mean', 'DiasBP_Min',\n",
    "               'DiasBP_Max', 'DiasBP_Mean', 'MeanBP_Min', 'MeanBP_Max', 'MeanBP_Mean',\n",
    "               'RespRate_Min', 'RespRate_Max', 'RespRate_Mean', 'TempC_Min',\n",
    "               'TempC_Max', 'TempC_Mean', 'SpO2_Min', 'SpO2_Max', 'SpO2_Mean',\n",
    "               'Glucose_Min', 'Glucose_Max', 'Glucose_Mean']\n",
    "            sim_mean = pd.DataFrame(X_train.loc[selected, mean_cols].mean()).transpose()\n",
    "            for i in mean_cols:\n",
    "                sim2_df.loc[sim2,i] = sim_mean[i][0]\n",
    "            sim2_df.loc[sim2,'age'] = age\n",
    "\n",
    "    sim1_df = X_train.loc[sim,]\n",
    "    sim1_df['age'] = ages\n",
    "    full_sim = pd.concat([sim2_df,sim1_df])\n",
    "    return(full_sim,sim)"
   ]
  },
  {
   "cell_type": "markdown",
   "metadata": {},
   "source": [
    "### Functions"
   ]
  },
  {
   "cell_type": "code",
   "execution_count": 94,
   "metadata": {},
   "outputs": [],
   "source": [
    "from statsmodels.distributions.empirical_distribution import ECDF\n",
    "import collections\n",
    "from sklearn.experimental import enable_iterative_imputer  # noqa\n",
    "from sklearn.impute import IterativeImputer"
   ]
  },
  {
   "cell_type": "code",
   "execution_count": 95,
   "metadata": {},
   "outputs": [],
   "source": [
    "def prep_age_cmf(df2):\n",
    "    ages = []\n",
    "    for a in df2['age']:\n",
    "        if a > 89:\n",
    "            ages.append(90)\n",
    "        else:\n",
    "            ages.append(a)\n",
    "\n",
    "    ecdf = ECDF(ages)\n",
    "\n",
    "    age_cmf = {ecdf(a):a for a in range(np.max(ages)+1)}\n",
    "    return(age_cmf)\n",
    "\n",
    "def draw_age(age_cmf):\n",
    "    \n",
    "    draw_unif = np.random.uniform()\n",
    "    \n",
    "    key = -1\n",
    "    for k in age_cmf.keys():\n",
    "        if draw_unif > k:\n",
    "            key = k\n",
    "    draw = age_cmf[key]+1\n",
    "    \n",
    "    return(draw)"
   ]
  },
  {
   "cell_type": "code",
   "execution_count": 96,
   "metadata": {},
   "outputs": [],
   "source": [
    "def prep_ods (df2):\n",
    "    codes = df2[df2['age_group__40-64']==0][df2['age_group__65-89']==0][df2['age_group__>89']==0]['ICD9_CODE_CAT']\n",
    "    codes = [str(c) for c in codes]\n",
    "    ecdf_condition_40 = ECDF(codes)\n",
    "    condition_40_cmf = {ecdf_condition_40(a):a for a in codes}\n",
    "    od_40 = collections.OrderedDict(sorted(condition_40_cmf.items()))\n",
    "\n",
    "    codes = df2[df2['age_group__40-64']==1]['ICD9_CODE_CAT']\n",
    "    codes = [str(c) for c in codes]\n",
    "    ecdf_condition_40_64 = ECDF(codes)\n",
    "    condition_40_64_cmf = {ecdf_condition_40_64(a):a for a in codes}\n",
    "    od_40_64 = collections.OrderedDict(sorted(condition_40_64_cmf.items()))\n",
    "\n",
    "    codes = df2[df2['age_group__65-89']==1]['ICD9_CODE_CAT']\n",
    "    codes = [str(c) for c in codes]\n",
    "    ecdf_condition_65_89 = ECDF(codes)\n",
    "    condition_65_89_cmf = {ecdf_condition_65_89(a):a for a in codes}\n",
    "    od_65_89 = collections.OrderedDict(sorted(condition_65_89_cmf.items()))\n",
    "\n",
    "    codes = df2[df2['age_group__>89']==1]['ICD9_CODE_CAT']\n",
    "    codes = [str(c) for c in codes]\n",
    "    ecdf_condition_89 = ECDF(codes)\n",
    "    condition_89_cmf = {ecdf_condition_89(a):a for a in codes}\n",
    "    od_89 = collections.OrderedDict(sorted(condition_89_cmf.items()))\n",
    "    \n",
    "    return(od_40,od_40_64,od_65_89,od_89)\n",
    "\n",
    "def draw_condition_40(od_40):\n",
    "    draw_unif = np.random.uniform()\n",
    "    \n",
    "    diffs = {c:a-b for a,c,b in zip(list(od_40.keys()),list(od_40.values()),[draw_unif]*len(list(od_40.keys()))) if (a-b)>0}\n",
    "    draw = list(diffs.keys())[0]\n",
    "    \n",
    "    return(draw)\n",
    "\n",
    "def draw_condition_40_64(od_40_64):\n",
    "    draw_unif = np.random.uniform()\n",
    "    \n",
    "    diffs = {c:a-b for a,c,b in zip(list(od_40_64.keys()),list(od_40_64.values()),[draw_unif]*len(list(od_40_64.keys()))) if (a-b)>0}\n",
    "    draw = list(diffs.keys())[0]\n",
    "    \n",
    "    return(draw)\n",
    "\n",
    "def draw_condition_65_89(od_65_89):\n",
    "    draw_unif = np.random.uniform()\n",
    "    \n",
    "    diffs = {c:a-b for a,c,b in zip(list(od_65_89.keys()),list(od_65_89.values()),[draw_unif]*len(list(od_65_89.keys()))) if (a-b)>0}\n",
    "    draw = list(diffs.keys())[0]\n",
    "    \n",
    "    return(draw)\n",
    "\n",
    "def draw_condition_89(od_89):\n",
    "    draw_unif = np.random.uniform()\n",
    "    \n",
    "    diffs = {c:a-b for a,c,b in zip(list(od_89.keys()),list(od_89.values()),[draw_unif]*len(list(od_89.keys()))) if (a-b)>0}\n",
    "    draw = list(diffs.keys())[0]\n",
    "    \n",
    "    return(draw)"
   ]
  },
  {
   "cell_type": "code",
   "execution_count": 97,
   "metadata": {},
   "outputs": [],
   "source": [
    "def draw_agents(n, df2, age_cmf,od_40,od_40_64,od_65_89,od_89):\n",
    "    age = []\n",
    "    age_group = []\n",
    "    condition = []\n",
    "    gender_M = []\n",
    "\n",
    "    for i in range(n):\n",
    "        age.append(draw_age(age_cmf))\n",
    "        if age[i] < 40:\n",
    "            condition.append(draw_condition_40(od_40))\n",
    "            age_group.append(1)\n",
    "        elif age[i] <= 64: \n",
    "            condition.append(draw_condition_40_64(od_40_64))\n",
    "            age_group.append(2)\n",
    "        elif age[i] <= 89:\n",
    "            condition.append(draw_condition_65_89(od_65_89))\n",
    "            age_group.append(3)\n",
    "        else:\n",
    "            condition.append(draw_condition_89(od_89))\n",
    "            age_group.append(4)\n",
    "        \n",
    "        # Gender conditioned on some conditions\n",
    "        if condition[i] == 'Complications Of Pregnancy, Childbirth, And The Puerperium':\n",
    "            gender_M.append(0)\n",
    "        elif condition[i] == 'Injury And Poisoning':\n",
    "            counts = df2[df2['ICD9_CODE_CAT']=='Injury And Poisoning']['gender__M'].value_counts()\n",
    "            gender_M.append(np.random.binomial(1,counts[1]/counts.sum()))\n",
    "        elif condition[i] == 'Diseases Of The Circulatory System':\n",
    "            counts = df2[df2['ICD9_CODE_CAT']=='Diseases Of The Circulatory System']['gender__M'].value_counts()\n",
    "            gender_M.append(np.random.binomial(1,counts[1]/counts.sum()))\n",
    "        elif condition[i] == 'Mental Disorders':\n",
    "            counts = df2[df2['ICD9_CODE_CAT']=='Mental Disorders']['gender__M'].value_counts()\n",
    "            gender_M.append(np.random.binomial(1,counts[1]/counts.sum()))\n",
    "        else:\n",
    "            gender_M.append(np.random.binomial(1,0.5))\n",
    "    \n",
    "    draw_acg = pd.DataFrame()\n",
    "    draw_acg['age'] = age\n",
    "    draw_acg['age_group'] = age_group\n",
    "    draw_acg['ICD9_CODE_CAT'] = condition\n",
    "    draw_acg['gender__M'] = gender_M\n",
    "    \n",
    "    age_groups = pd.get_dummies(draw_acg['age_group'],prefix='age_group_',drop_first=True)\n",
    "    age_groups = age_groups.rename(columns={\"age_group__2\": \"age_group__40-64\", \"age_group__3\": \"age_group__65-89\", \"age_group__4\": \"age_group__>89\"})\n",
    "    draw_acg = pd.concat([draw_acg,age_groups],axis=1)\n",
    "    \n",
    "    return(draw_acg)"
   ]
  },
  {
   "cell_type": "code",
   "execution_count": 98,
   "metadata": {},
   "outputs": [],
   "source": [
    "def prep_train (df3):\n",
    "    df5 = df3[df3['days_since_admission']==0]\n",
    "\n",
    "    df5 = df5.drop(['days_since_admission','HOSPITAL_EXPIRE_FLAG','hospital_expire_flag',\n",
    "                   'ICUSTAY_ID', 'INTIME', 'OUTTIME', 'DIFF',\n",
    "                   'LAST_WARDID', 'GENDER','DOB', 'ICD9_CODE', 'SHORT_TITLE',\n",
    "                   'LONG_TITLE', 'SEQ_NUM', 'DEATHTIME','ICUSTAY_AGE_GROUP',\n",
    "                   'ICD9_CODE_CAT','date',\n",
    "                   'INTIME_ACTUAL', 'OUTTIME_ACTUAL',\"CURR_CAREUNIT\",\"INSURANCE\",\"ADMISSION_TYPE\",\"DATE\",\"LOS\",\n",
    "#                    'COUNT_DOCTORS', 'COUNT_NURSES', 'COUNT_PATIENTS',\n",
    "                   'cum_caretime_doctors','cum_caretime_nurses'],axis=1)\n",
    "    #'subject_id', 'hadm_id','SUBJECT_ID', 'HADM_ID', \n",
    "\n",
    "    y_train=df5['out_flag']\n",
    "    X_train=df5.drop(['out_flag'],axis=1)\n",
    "\n",
    "    imp_iter = IterativeImputer(random_state=0)\n",
    "    imp_iter.fit(X_train)\n",
    "    X_train = imp_iter.transform(X_train)\n",
    "\n",
    "    X_train = pd.DataFrame(X_train)\n",
    "    X_train.columns = df5.drop(['out_flag'],axis=1).columns\n",
    "\n",
    "    X_train['age'] = [90 if a>89 else a for a in X_train['age']]\n",
    "        \n",
    "    return(X_train, y_train)"
   ]
  },
  {
   "cell_type": "code",
   "execution_count": 99,
   "metadata": {},
   "outputs": [],
   "source": [
    "def encode_age (df, index, new_age):\n",
    "    df.loc[index,\"age_group__>89\"] = 0\n",
    "    df.loc[index,\"age_group__65-89\"] = 0\n",
    "    df.loc[index,\"age_group__40-64\"] = 0\n",
    "\n",
    "    if new_age > 89:\n",
    "        df.loc[index,\"age_group__>89\"] = 1\n",
    "    elif new_age >= 65:\n",
    "        df.loc[index,\"age_group__65-89\"] = 1\n",
    "    elif new_age >= 40:\n",
    "        df.loc[index,\"age_group__40-64\"] = 1"
   ]
  },
  {
   "cell_type": "code",
   "execution_count": 100,
   "metadata": {},
   "outputs": [],
   "source": [
    "def sample_matches(X_train, knn_cols, draw_acg2):\n",
    "\n",
    "    filt = X_train[knn_cols]\n",
    "    sim = []\n",
    "    sim2 = []\n",
    "    sim2_df = pd.DataFrame(columns=X_train.columns)\n",
    "    ages = []\n",
    "\n",
    "    for j in range(draw_acg2.shape[0]):\n",
    "        \n",
    "        age = draw_acg2.loc[j,'age']\n",
    "        selected = [i for i in filt[filt['gender__M']==draw_acg2.loc[j,'gender__M']].index] #Initialize with gender\n",
    "        temp = []\n",
    "        for col in knn_cols[1:]:\n",
    "            temp = [i for i in filt[filt[col]==draw_acg2.loc[j,col]].index]\n",
    "            new = list(set(selected) & set(temp))\n",
    "            selected = np.copy(new)\n",
    "        \n",
    "        if len(selected) >= 10:\n",
    "            sim.append(random.sample(list(selected),1)[0])\n",
    "            ages.append(age)\n",
    "        elif len(selected) == 0:\n",
    "            print('no match')\n",
    "        else:\n",
    "            print('less than 10')\n",
    "            sim2 = random.sample(list(selected),1)[0]\n",
    "            sim2_df = pd.concat([sim2_df, X_train.loc[[sim2]]])\n",
    "            mean_cols = ['gcs', 'heartrate', \n",
    "                'meanbp', 'resprate', 'temp', 'urineoutput','respiration','coagulation', 'liver',\n",
    "               'cardiovascular', 'cns', 'renal', 'HeartRate_Min', 'HeartRate_Max',\n",
    "               'HeartRate_Mean', 'SysBP_Min', 'SysBP_Max', 'SysBP_Mean', 'DiasBP_Min',\n",
    "               'DiasBP_Max', 'DiasBP_Mean', 'MeanBP_Min', 'MeanBP_Max', 'MeanBP_Mean',\n",
    "               'RespRate_Min', 'RespRate_Max', 'RespRate_Mean', 'TempC_Min',\n",
    "               'TempC_Max', 'TempC_Mean', 'SpO2_Min', 'SpO2_Max', 'SpO2_Mean',\n",
    "               'Glucose_Min', 'Glucose_Max', 'Glucose_Mean']\n",
    "            \n",
    "            sim_mean = pd.DataFrame(X_train.loc[selected, mean_cols].mean()).transpose()\n",
    "            \n",
    "            age_up = age + 25\n",
    "            encode_age (draw_acg2, j, age_up)\n",
    "    \n",
    "            selected_up = [i for i in filt[filt['gender__M']==draw_acg2.loc[j,'gender__M']].index] #Initialize with gender\n",
    "            temp = []\n",
    "            for col in knn_cols[1:]:\n",
    "                temp = [i for i in filt[filt[col]==draw_acg2.loc[j,col]].index]\n",
    "                new = list(set(selected_up) & set(temp))\n",
    "                selected_up = np.copy(new)\n",
    "\n",
    "            age_down = age - 25\n",
    "            encode_age (draw_acg2, j, age_down)\n",
    "            \n",
    "            selected_down = [i for i in filt[filt['gender__M']==draw_acg2.loc[j,'gender__M']].index] #Initialize with gender\n",
    "            temp = []\n",
    "            for col in knn_cols[1:]:\n",
    "                temp = [i for i in filt[filt[col]==draw_acg2.loc[j,col]].index]\n",
    "                new = list(set(selected_down) & set(temp))\n",
    "                selected_down = np.copy(new)\n",
    "            \n",
    "            selected = selected.tolist()\n",
    "            selected.extend(selected_up)\n",
    "            selected.extend(selected_down)\n",
    "            \n",
    "            selected_exp = list(set(selected))\n",
    "\n",
    "            sim_sd = pd.DataFrame(X_train.loc[selected_exp, mean_cols].std()).transpose()\n",
    "                        \n",
    "            for i in mean_cols:\n",
    "                sim2_df.loc[sim2,i] = np.random.normal(sim_mean[i][0], sim_sd[i][0])\n",
    "            sim2_df.loc[sim2,'age'] = age\n",
    "\n",
    "    sim1_df = X_train.loc[sim,]\n",
    "    sim1_df['age'] = ages\n",
    "    full_sim = pd.concat([sim2_df,sim1_df])\n",
    "    return(full_sim)"
   ]
  },
  {
   "cell_type": "code",
   "execution_count": 101,
   "metadata": {},
   "outputs": [],
   "source": [
    "def hundred_sim(df6,df3,col_ord,full_sim):\n",
    "    df6 = df6.loc[:,['ICUSTAY_ID']+col_ord]\n",
    "    pat_rec = df6[df6['ICUSTAY_ID']==df3.loc[full_sim.index[0],:]['ICUSTAY_ID']]\n",
    "    daily = pat_rec[['days_since_admission','procedure_SignificantEvents','procedure_Ventilation']]\n",
    "    included = set([d for d in daily['days_since_admission']])\n",
    "    for i in range(1010):\n",
    "        if i not in included:\n",
    "            day = pd.DataFrame({'days_since_admission':[i],'procedure_SignificantEvents':[0],'procedure_Ventilation':[0]})\n",
    "            daily = pd.concat([daily,day],axis=0)\n",
    "    daily = daily.reset_index()\n",
    "    daily = daily.drop('index',axis=1)\n",
    "    newdf = pd.DataFrame(np.repeat(full_sim.values,110,axis=0))\n",
    "    newdf.columns = full_sim.columns\n",
    "    newdf = newdf.drop('days_since_admission',axis=1)\n",
    "    return(pd.concat([newdf,daily],axis=1))\n",
    "    "
   ]
  },
  {
   "cell_type": "code",
   "execution_count": 102,
   "metadata": {
    "scrolled": true
   },
   "outputs": [],
   "source": [
    "def simulate (n, df2, df3, df6, X_train, age_cmf, od_40,od_40_64,od_65_89,od_89, diagnosis_encoder, col_ord):\n",
    "\n",
    "    draw_acg = draw_agents(n, df2, age_cmf, od_40, od_40_64, od_65_89, od_89)\n",
    "    \n",
    "    ICD9_CODE_CAT_binary = diagnosis_encoder.transform(draw_acg['ICD9_CODE_CAT'])\n",
    "    draw_acg2 = pd.concat([draw_acg,ICD9_CODE_CAT_binary],axis=1).drop(['ICD9_CODE_CAT','age','age_group'],axis=1)\n",
    "    draw_acg2 = pd.concat([draw_acg['age'],draw_acg2],axis=1)\n",
    "    knn_cols = [c for c in draw_acg2.columns]\n",
    "    \n",
    "    full_sim = sample_matches(X_train, knn_cols, draw_acg2)\n",
    "    \n",
    "#     full_sim = full_sim.reset_index()\n",
    "#     full_sim = full_sim.drop('index',axis=1)\n",
    "    full_sim['days_since_admission'] = 0\n",
    "    \n",
    "    col_order = [f for f in col_ord if f not in ['procedure_SignificantEvents','procedure_Ventilation','cum_caretime_doctors','cum_caretime_nurses']]\n",
    "    full_sim = full_sim[col_order]\n",
    "    \n",
    "    out = hundred_sim(df6,df3,col_ord,full_sim)\n",
    "    \n",
    "    return(out)"
   ]
  },
  {
   "cell_type": "code",
   "execution_count": 103,
   "metadata": {
    "scrolled": false
   },
   "outputs": [
    {
     "name": "stderr",
     "output_type": "stream",
     "text": [
      "/Users/vivek/anaconda3/lib/python3.7/site-packages/ipykernel_launcher.py:2: UserWarning: Boolean Series key will be reindexed to match DataFrame index.\n",
      "  \n"
     ]
    }
   ],
   "source": [
    "age_cmf = prep_age_cmf(df2)\n",
    "od_40,od_40_64,od_65_89,od_89 = prep_ods(df2)\n",
    "X_train, y_train = prep_train(df3)"
   ]
  },
  {
   "cell_type": "markdown",
   "metadata": {},
   "source": [
    "# ABM MESA"
   ]
  },
  {
   "cell_type": "markdown",
   "metadata": {},
   "source": [
    "## Key functions for ABM"
   ]
  },
  {
   "cell_type": "code",
   "execution_count": 104,
   "metadata": {},
   "outputs": [],
   "source": [
    "intimes = df2[\"INTIME_ACTUAL\"].astype(\"datetime64\")\n",
    "intimes_count= intimes.groupby(intimes.dt.date).count()\n",
    "\n",
    "ecdf2 = ECDF(intimes_count)\n",
    "patient_inflow_cmf = {ecdf2(a):a for a in range(np.max(intimes_count)+1)}"
   ]
  },
  {
   "cell_type": "code",
   "execution_count": 105,
   "metadata": {},
   "outputs": [
    {
     "data": {
      "image/png": "[encoded data removed]",
      "text/plain": [
       "<Figure size 432x288 with 1 Axes>"
      ]
     },
     "metadata": {
      "needs_background": "light"
     },
     "output_type": "display_data"
    }
   ],
   "source": [
    "# plot the cdf\n",
    "plt.plot(ecdf2.x, ecdf2.y)\n",
    "plt.show()"
   ]
  },
  {
   "cell_type": "code",
   "execution_count": 106,
   "metadata": {},
   "outputs": [],
   "source": [
    "def draw_patient_inflow():\n",
    "    draw_unif = np.random.uniform()\n",
    "    \n",
    "    key = -1\n",
    "    for k in patient_inflow_cmf.keys():\n",
    "        if draw_unif > k:\n",
    "            key = k\n",
    "    draw = patient_inflow_cmf[key]+1\n",
    "    \n",
    "    return(draw)"
   ]
  },
  {
   "cell_type": "code",
   "execution_count": 107,
   "metadata": {},
   "outputs": [],
   "source": [
    "def get_location(x):\n",
    "    if x['careunit__CSRU'] == 1: return 'CSRU'\n",
    "    elif x['careunit__MICU'] == 1: return 'MICU'\n",
    "    elif x['careunit__SICU'] == 1: return 'SICU'\n",
    "    elif x['careunit__TSICU'] == 1: return 'TSICU'\n",
    "    else: return \"Other\""
   ]
  },
  {
   "cell_type": "code",
   "execution_count": null,
   "metadata": {},
   "outputs": [],
   "source": [
    "def write_to_csv(run_data,name_suffix):\n",
    "    df_model_vars = pd.DataFrame()\n",
    "    df_agent_vars = pd.DataFrame()\n",
    "\n",
    "    for i in range(run_data.shape[0]):\n",
    "        run_model_vars = run_data.loc[i,'all'].get_model_vars_dataframe()\n",
    "        run_model_vars['run_number'] = i\n",
    "        run_model_vars['n_nurses'] = run_data.loc[i,'n_nurses']\n",
    "        run_model_vars['n_doctors'] = run_data.loc[i,'n_doctors']\n",
    "        run_model_vars['max_agents'] = run_data.loc[i,'max_agents']\n",
    "        run_model_vars['n_agents'] = run_data.loc[i,'n_agents']\n",
    "        df_model_vars = pd.concat([df_model_vars,run_model_vars],axis=0)\n",
    "        \n",
    "        run_agent_vars = pd.DataFrame(run_data.loc[i,'all'].get_agent_vars_dataframe().to_records())\n",
    "        run_agent_vars['run_number'] = i\n",
    "        df_agent_vars = pd.concat([df_agent_vars,run_agent_vars],axis=0)\n",
    "    \n",
    "    model_file_name = 'output/model_output_' + str(name_suffix) + '.csv'\n",
    "    agent_file_name = 'output/agent_output_' + str(name_suffix) + '.csv'\n",
    "    df_model_vars.to_csv(model_file_name)\n",
    "    df_agent_vars.to_csv(agent_file_name)\n",
    "    print(model_file_name + ' done')\n",
    "    print(agent_file_name + ' done')"
   ]
  },
  {
   "cell_type": "markdown",
   "metadata": {},
   "source": [
    "## Model Runs for SVM"
   ]
  },
  {
   "cell_type": "code",
   "execution_count": 153,
   "metadata": {},
   "outputs": [],
   "source": [
    "class MyActivation(BaseScheduler):\n",
    "\n",
    "    def step(self): # -> None\n",
    "        \"\"\" Executes the step of all agents, one at a time, in\n",
    "        random order.\n",
    "\n",
    "        \"\"\"\n",
    "        for agent in self.agent_buffer(shuffled=True):\n",
    "            agent.step()\n",
    "        self.steps += 1\n",
    "        self.time += 1\n",
    "        \n",
    "    def advance(self) :#-> None\n",
    "        for agent in self.agent_buffer(shuffled=True):\n",
    "            agent.advance()"
   ]
  },
  {
   "cell_type": "code",
   "execution_count": 154,
   "metadata": {},
   "outputs": [],
   "source": [
    "class PatienFlowModel(Model):\n",
    "    def __init__(self, n_agents=20, max_agents=50, n_doctors=3, n_nurses=250,service_level=1): #agent_LOS,\n",
    "        super().__init__()\n",
    "        \n",
    "        self.n_agents = n_agents\n",
    "        self.max_agents = max_agents\n",
    "        self.n_doctors = n_doctors\n",
    "        self.n_nurses = n_nurses\n",
    "        self.max_cap_by = 0\n",
    "        self.max_cap_daily = 0\n",
    "        self.service_level = service_level\n",
    "        self.caretime_doctors = 0\n",
    "        self.caretime_nurses = 0\n",
    "        self.count_discharges = 0\n",
    "        self.count_deaths = 0\n",
    "        self.demand_serviced = 0\n",
    "                \n",
    "        # keep track of the the remaining life of an agent and\n",
    "        # how many ticks it has seen\n",
    "        self.datacollector = DataCollector(model_reporters={\"agent_count\":lambda m: m.schedule.get_agent_count(),\n",
    "                                                           \"max_cap_by\":lambda m: m.max_cap_by,\n",
    "                                                           \"max_cap_daily\":lambda m: m.max_cap_daily,\n",
    "                                                           \"count_discharges\":lambda m: m.count_discharges,\n",
    "                                                           \"count_deaths\":lambda m: m.count_deaths,\n",
    "                                                           \"demand_serviced\":lambda m: m.demand_serviced},\n",
    "            agent_reporters={\"out_flag\": lambda a: a.out_flag,\n",
    "                             \"days_in_hospital\": lambda a: a.steps, # +1 Because if prediction of out_flag is 0 or -1, then LOS is 1 not 0\n",
    "                            \"info\": lambda a: a.info,\n",
    "                            \"NPI\": lambda a: a.NPI,\n",
    "                            \"Careunit\": lambda a: a.careunit,\n",
    "                            \"cum_caretime_doctors\": lambda a: a.caretime_doctors,\n",
    "                            \"cum_caretime_nurses\": lambda a: a.caretime_nurses}) \n",
    "\n",
    "        self.current_ID = 0\n",
    "        self.schedule = MyActivation(self)\n",
    "\n",
    "        for _ in range(self.n_agents):\n",
    "            prior_steps = np.random.randint(low=1,high=4,size=1)[0] \n",
    "            self.schedule.add(PatienFlowAgent(self.next_id(),self,prior_steps))\n",
    "\n",
    "    def step(self):\n",
    "        \n",
    "        # Here we define how many new agents/patients are drawn from ECDF(based on empirical distribution from real data)\n",
    "        new_patients = draw_patient_inflow()\n",
    "\n",
    "        if len(self.schedule.agents) + new_patients <= round(self.service_level * self.max_agents):\n",
    "            for _ in range(new_patients):\n",
    "                self.schedule.add(PatienFlowAgent(self.next_id(),self))\n",
    "            self.max_cap_daily = 0\n",
    "        elif len(self.schedule.agents) < round(self.service_level * self.max_agents):\n",
    "            new_patients_2 = round(self.service_level * self.max_agents) - len(self.schedule.agents)\n",
    "            for _ in range(new_patients_2):\n",
    "                self.schedule.add(PatienFlowAgent(self.next_id(),self))    \n",
    "            self.max_cap_daily = new_patients - new_patients_2\n",
    "            self.max_cap_by += self.max_cap_daily\n",
    "        else:\n",
    "            self.max_cap_daily = new_patients\n",
    "            self.max_cap_by += self.max_cap_daily\n",
    "            \n",
    "        self.caretime_doctors = self.n_doctors/len(self.schedule.agents)\n",
    "        self.caretime_nurses = self.n_nurses/len(self.schedule.agents)\n",
    "        \n",
    "        self.schedule.step()\n",
    "        self.datacollector.collect(self)\n",
    "        self.schedule.advance()\n",
    "\n",
    "        self.demand_serviced = 1-self.max_cap_by/(len(self.schedule.agents)+self.max_cap_by+self.count_discharges+self.count_deaths)\n",
    "\n",
    "    def run_model(self, step_count=100):\n",
    "        for _ in range(step_count):\n",
    "            self.step()\n",
    "\n",
    "\n",
    "class PatienFlowAgent(Agent):\n",
    "\n",
    "    def __init__(self, unique_id, model, prior_steps=0): #LOS, \n",
    "        super().__init__(unique_id, model)\n",
    "        self.steps = prior_steps\n",
    "        self.model = model\n",
    "         # Simulation of new agents\n",
    "        self.info = simulate(1, df2, df3, df6, X_train, age_cmf, od_40,od_40_64,od_65_89,od_89, diagnosis_encoder, col_ord)\n",
    "        self.info['cum_caretime_doctors'] = 0\n",
    "        self.info['cum_caretime_nurses'] = 0\n",
    "        self.caretime_doctors = 0\n",
    "        self.caretime_nurses = 0\n",
    "        self.NPI = 3\n",
    "        self.careunit = self.info.apply(get_location, axis=1)[0]\n",
    "        self.out_flag = 0\n",
    "        \n",
    "    def step(self):\n",
    "            curr_info = self.info.loc[[self.steps]]\n",
    "            self.caretime_doctors += self.model.caretime_doctors\n",
    "            self.caretime_nurses  += self.model.caretime_nurses\n",
    "            curr_info['cum_caretime_doctors'] += self.caretime_doctors\n",
    "            curr_info['cum_caretime_nurses'] += self.caretime_nurses\n",
    "            self.NPI = self.model.n_nurses / len(self.model.schedule.agents)\n",
    "            self.careunit = self.info.apply(get_location, axis=1)[0]\n",
    "            self.out_flag = prediction_svm(curr_info,False)[0]\n",
    "            \n",
    "            # This part is to correct for very short-term releases that occur too often:\n",
    "            if self.out_flag != 0 and self.steps < 4:\n",
    "                draw = np.random.binomial(1,0.5)\n",
    "                if draw==0:\n",
    "                    self.out_flag = 0\n",
    "            \n",
    "            self.steps += 1  # keep track of how many ticks are seen\n",
    "                \n",
    "    def advance(self):\n",
    "        #if  self.out_flag == 1 or self.out_flag == 2: #  When the patient is discharged/passes away, remove from model\n",
    "            #self.model.schedule.remove(self)\n",
    "        if self.out_flag == 2:\n",
    "            self.model.count_discharges +=1\n",
    "            self.model.schedule.remove(self)\n",
    "        if self.out_flag == 1:\n",
    "            self.model.count_deaths +=1\n",
    "            self.model.schedule.remove(self)\n"
   ]
  },
  {
   "cell_type": "code",
   "execution_count": 159,
   "metadata": {},
   "outputs": [],
   "source": [
    "\n",
    "fixed_params = {\n",
    "   \"n_agents\": 50,\n",
    "    \"max_agents\": 80\n",
    "}\n",
    "parameters = {\"n_doctors\": [1,3,5], \"n_nurses\": [200,300,400]}\n",
    "batch_run = BatchRunner(PatienFlowModel, \n",
    "                        parameters,\n",
    "                        fixed_params,\n",
    "                        iterations=1,\n",
    "                        max_steps=100,\n",
    "                        model_reporters={\"all\":lambda m: m.datacollector})\n",
    "batch_run.run_all()\n",
    "\n",
    "run_data = batch_run.get_model_vars_dataframe()\n",
    "write_to_csv(run_data,11)\n",
    "del batch_run\n",
    "del run_data"
   ]
  },
  {
   "cell_type": "code",
   "execution_count": null,
   "metadata": {},
   "outputs": [],
   "source": [
    "\n",
    "fixed_params = {\n",
    "   \"n_agents\": 50,\n",
    "    \"max_agents\": 80\n",
    "}\n",
    "parameters = {\"n_doctors\": [1,3,5], \"n_nurses\": [200,300,400]}\n",
    "batch_run = BatchRunner(PatienFlowModel, \n",
    "                        parameters,\n",
    "                        fixed_params,\n",
    "                        iterations=1,\n",
    "                        max_steps=100,\n",
    "                        model_reporters={\"all\":lambda m: m.datacollector})\n",
    "batch_run.run_all()\n",
    "\n",
    "run_data = batch_run.get_model_vars_dataframe()\n",
    "write_to_csv(run_data,12)\n",
    "del batch_run\n",
    "del run_data"
   ]
  },
  {
   "cell_type": "code",
   "execution_count": null,
   "metadata": {},
   "outputs": [],
   "source": [
    "\n",
    "fixed_params = {\n",
    "   \"n_agents\": 50,\n",
    "    \"max_agents\": 80\n",
    "}\n",
    "parameters = {\"n_doctors\": [1,3,5], \"n_nurses\": [200,300,400]}\n",
    "batch_run = BatchRunner(PatienFlowModel, \n",
    "                        parameters,\n",
    "                        fixed_params,\n",
    "                        iterations=1,\n",
    "                        max_steps=100,\n",
    "                        model_reporters={\"all\":lambda m: m.datacollector})\n",
    "batch_run.run_all()\n",
    "\n",
    "run_data = batch_run.get_model_vars_dataframe()\n",
    "write_to_csv(run_data,13)\n",
    "del batch_run\n",
    "del run_data"
   ]
  },
  {
   "cell_type": "code",
   "execution_count": null,
   "metadata": {},
   "outputs": [],
   "source": [
    "\n",
    "fixed_params = {\n",
    "   \"n_agents\": 50,\n",
    "    \"max_agents\": 100\n",
    "}\n",
    "parameters = {\"n_doctors\": [1,3,5], \"n_nurses\": [200,300,400]}\n",
    "batch_run = BatchRunner(PatienFlowModel, \n",
    "                        parameters,\n",
    "                        fixed_params,\n",
    "                        iterations=1,\n",
    "                        max_steps=100,\n",
    "                        model_reporters={\"all\":lambda m: m.datacollector})\n",
    "batch_run.run_all()\n",
    "\n",
    "run_data2 = batch_run.get_model_vars_dataframe()\n",
    "write_to_csv(run_data2,21)\n",
    "del batch_run\n",
    "del run_data2"
   ]
  },
  {
   "cell_type": "code",
   "execution_count": null,
   "metadata": {},
   "outputs": [],
   "source": [
    "\n",
    "fixed_params = {\n",
    "   \"n_agents\": 50,\n",
    "    \"max_agents\": 100\n",
    "}\n",
    "parameters = {\"n_doctors\": [1,3,5], \"n_nurses\": [200,300,400]}\n",
    "batch_run = BatchRunner(PatienFlowModel, \n",
    "                        parameters,\n",
    "                        fixed_params,\n",
    "                        iterations=1,\n",
    "                        max_steps=100,\n",
    "                        model_reporters={\"all\":lambda m: m.datacollector})\n",
    "batch_run.run_all()\n",
    "\n",
    "run_data2 = batch_run.get_model_vars_dataframe()\n",
    "write_to_csv(run_data2,22)\n",
    "del batch_run\n",
    "del run_data2"
   ]
  },
  {
   "cell_type": "code",
   "execution_count": null,
   "metadata": {},
   "outputs": [],
   "source": [
    "\n",
    "fixed_params = {\n",
    "   \"n_agents\": 50,\n",
    "    \"max_agents\": 100\n",
    "}\n",
    "parameters = {\"n_doctors\": [1,3,5], \"n_nurses\": [200,300,400]}\n",
    "batch_run = BatchRunner(PatienFlowModel, \n",
    "                        parameters,\n",
    "                        fixed_params,\n",
    "                        iterations=1,\n",
    "                        max_steps=100,\n",
    "                        model_reporters={\"all\":lambda m: m.datacollector})\n",
    "batch_run.run_all()\n",
    "\n",
    "run_data2 = batch_run.get_model_vars_dataframe()\n",
    "write_to_csv(run_data2,23)\n",
    "del batch_run\n",
    "del run_data2"
   ]
  },
  {
   "cell_type": "code",
   "execution_count": null,
   "metadata": {},
   "outputs": [],
   "source": [
    "\n",
    "fixed_params = {\n",
    "   \"n_agents\": 50,\n",
    "    \"max_agents\": 120\n",
    "}\n",
    "parameters = {\"n_doctors\": [1,3,5], \"n_nurses\": [200,300,400]}\n",
    "batch_run = BatchRunner(PatienFlowModel, \n",
    "                        parameters,\n",
    "                        fixed_params,\n",
    "                        iterations=1,\n",
    "                        max_steps=100,\n",
    "                        model_reporters={\"all\":lambda m: m.datacollector})\n",
    "batch_run.run_all()\n",
    "\n",
    "run_data3 = batch_run.get_model_vars_dataframe()\n",
    "write_to_csv(run_data3,31)\n",
    "del batch_run\n",
    "del run_data3"
   ]
  },
  {
   "cell_type": "code",
   "execution_count": null,
   "metadata": {},
   "outputs": [],
   "source": [
    "\n",
    "fixed_params = {\n",
    "   \"n_agents\": 50,\n",
    "    \"max_agents\": 120\n",
    "}\n",
    "parameters = {\"n_doctors\": [1,3,5], \"n_nurses\": [200,300,400]}\n",
    "batch_run = BatchRunner(PatienFlowModel, \n",
    "                        parameters,\n",
    "                        fixed_params,\n",
    "                        iterations=1,\n",
    "                        max_steps=100,\n",
    "                        model_reporters={\"all\":lambda m: m.datacollector})\n",
    "batch_run.run_all()\n",
    "\n",
    "run_data3 = batch_run.get_model_vars_dataframe()\n",
    "write_to_csv(run_data3,32)\n",
    "del batch_run\n",
    "del run_data3"
   ]
  },
  {
   "cell_type": "code",
   "execution_count": null,
   "metadata": {},
   "outputs": [],
   "source": [
    "\n",
    "fixed_params = {\n",
    "   \"n_agents\": 50,\n",
    "    \"max_agents\": 120\n",
    "}\n",
    "parameters = {\"n_doctors\": [1,3,5], \"n_nurses\": [200,300,400]}\n",
    "batch_run = BatchRunner(PatienFlowModel, \n",
    "                        parameters,\n",
    "                        fixed_params,\n",
    "                        iterations=1,\n",
    "                        max_steps=100,\n",
    "                        model_reporters={\"all\":lambda m: m.datacollector})\n",
    "batch_run.run_all()\n",
    "\n",
    "run_data3 = batch_run.get_model_vars_dataframe()\n",
    "write_to_csv(run_data3,33)\n",
    "del batch_run\n",
    "del run_data3"
   ]
  },
  {
   "cell_type": "markdown",
   "metadata": {},
   "source": [
    "## Model Runs for XGB"
   ]
  },
  {
   "cell_type": "code",
   "execution_count": 108,
   "metadata": {},
   "outputs": [],
   "source": [
    "class MyActivation(BaseScheduler):\n",
    "\n",
    "    def step(self): # -> None\n",
    "\n",
    "        for agent in self.agent_buffer(shuffled=True):\n",
    "            agent.step()\n",
    "        self.steps += 1\n",
    "        self.time += 1\n",
    "        \n",
    "    def advance(self) :#-> None\n",
    "        for agent in self.agent_buffer(shuffled=True):\n",
    "            agent.advance()"
   ]
  },
  {
   "cell_type": "code",
   "execution_count": 109,
   "metadata": {},
   "outputs": [],
   "source": [
    "class PatienFlowModel(Model):\n",
    "    def __init__(self, n_agents=50, max_agents=80, n_doctors=3, n_nurses=250,service_level=1): #agent_LOS,\n",
    "        super().__init__()\n",
    "        \n",
    "        self.n_agents = n_agents\n",
    "        self.max_agents = max_agents\n",
    "        self.n_doctors = n_doctors\n",
    "        self.n_nurses = n_nurses\n",
    "        self.max_cap_by = 0\n",
    "        self.max_cap_daily = 0\n",
    "        self.service_level = service_level\n",
    "        self.caretime_doctors = 0\n",
    "        self.caretime_nurses = 0\n",
    "        self.count_discharges = 0\n",
    "        self.count_deaths = 0\n",
    "        self.demand_serviced = 0\n",
    "                \n",
    "        # keep track of the the remaining life of an agent and\n",
    "        # how many ticks it has seen\n",
    "        self.datacollector = DataCollector(model_reporters={\"agent_count\":lambda m: m.schedule.get_agent_count(),\n",
    "                                                           \"max_cap_by\":lambda m: m.max_cap_by,\n",
    "                                                           \"max_cap_daily\":lambda m: m.max_cap_daily,\n",
    "                                                           \"count_discharges\":lambda m: m.count_discharges,\n",
    "                                                           \"count_deaths\":lambda m: m.count_deaths,\n",
    "                                                           \"demand_serviced\":lambda m: m.demand_serviced},\n",
    "            agent_reporters={\"out_flag\": lambda a: a.out_flag,\n",
    "                             \"days_in_hospital\": lambda a: a.steps, # +1 Because if prediction of out_flag is 0 or -1, then LOS is 1 not 0\n",
    "                            \"info\": lambda a: a.info,\n",
    "                            \"NPI\": lambda a: a.NPI,\n",
    "                            \"Careunit\": lambda a: a.careunit,\n",
    "                            \"cum_caretime_doctors\": lambda a: a.caretime_doctors,\n",
    "                            \"cum_caretime_nurses\": lambda a: a.caretime_nurses}) \n",
    "\n",
    "        self.current_ID = 0\n",
    "        self.schedule = MyActivation(self)\n",
    "\n",
    "        for _ in range(self.n_agents):\n",
    "            # Set seed here\n",
    "            prior_steps = np.random.randint(low=1,high=4,size=1)[0] #Should be a random draw\n",
    "            self.schedule.add(PatienFlowAgent(self.next_id(),self,prior_steps))\n",
    "\n",
    "    def step(self):\n",
    "        \n",
    "        # Here we define how many new agents/patients are drawn from ECDF(based on empirical distribution from real data)\n",
    "        new_patients = draw_patient_inflow()\n",
    "\n",
    "        if len(self.schedule.agents) + new_patients <= round(self.service_level * self.max_agents):\n",
    "            for _ in range(new_patients):\n",
    "                self.schedule.add(PatienFlowAgent(self.next_id(),self))\n",
    "            self.max_cap_daily = 0\n",
    "        elif len(self.schedule.agents) < round(self.service_level * self.max_agents):\n",
    "            new_patients_2 = round(self.service_level * self.max_agents) - len(self.schedule.agents)\n",
    "            for _ in range(new_patients_2):\n",
    "                self.schedule.add(PatienFlowAgent(self.next_id(),self))    \n",
    "            self.max_cap_daily = new_patients - new_patients_2\n",
    "            self.max_cap_by += self.max_cap_daily\n",
    "        else:\n",
    "            self.max_cap_daily = new_patients\n",
    "            self.max_cap_by += self.max_cap_daily\n",
    "            \n",
    "        self.caretime_doctors = self.n_doctors/len(self.schedule.agents)\n",
    "        self.caretime_nurses = self.n_nurses/len(self.schedule.agents)\n",
    "        \n",
    "        self.schedule.step()\n",
    "        self.datacollector.collect(self)\n",
    "        self.schedule.advance()\n",
    "\n",
    "        self.demand_serviced = 1-self.max_cap_by/(len(self.schedule.agents)+self.max_cap_by+self.count_discharges+self.count_deaths)\n",
    "\n",
    "    def run_model(self, step_count=100):\n",
    "        for _ in range(step_count):\n",
    "            self.step()\n",
    "\n",
    "\n",
    "class PatienFlowAgent(Agent):\n",
    "\n",
    "    def __init__(self, unique_id, model, prior_steps=0): #LOS, \n",
    "        super().__init__(unique_id, model)\n",
    "        self.steps = prior_steps\n",
    "        self.model = model\n",
    "         # Simulation of new agents\n",
    "        self.info = simulate(1, df2, df3, df6, X_train, age_cmf, od_40,od_40_64,od_65_89,od_89, diagnosis_encoder, col_ord)\n",
    "        self.info['cum_caretime_doctors'] = 0\n",
    "        self.info['cum_caretime_nurses'] = 0\n",
    "        self.caretime_doctors = 0\n",
    "        self.caretime_nurses = 0\n",
    "        self.NPI = 3\n",
    "        self.careunit = self.info.apply(get_location, axis=1)[0]\n",
    "        self.out_flag = 0\n",
    "        \n",
    "    def step(self):\n",
    "            curr_info = self.info.loc[[self.steps]]\n",
    "            self.caretime_doctors += self.model.caretime_doctors\n",
    "            self.caretime_nurses  += self.model.caretime_nurses\n",
    "            curr_info['cum_caretime_doctors'] += self.caretime_doctors\n",
    "            curr_info['cum_caretime_nurses'] += self.caretime_nurses\n",
    "\n",
    "            self.NPI = self.model.n_nurses / len(self.model.schedule.agents)\n",
    "            self.careunit = self.info.apply(get_location, axis=1)[0]\n",
    "            self.out_flag = prediction_xgb(curr_info,False)[0] #forest.predict(self.info)[0]\n",
    "            # This part is to correct for very short-term releases that occur too often:\n",
    "            if self.out_flag != 0 and self.steps < 4:\n",
    "                draw = np.random.binomial(1,0.5)\n",
    "                if draw==0:\n",
    "                    self.out_flag = 0\n",
    "            \n",
    "            self.steps += 1  # keep track of how many ticks are seen\n",
    "            \n",
    "                \n",
    "    def advance(self):\n",
    "        if self.out_flag == 2:\n",
    "            self.model.count_discharges +=1\n",
    "            self.model.schedule.remove(self)\n",
    "        if self.out_flag == 1:\n",
    "            self.model.count_deaths +=1\n",
    "            self.model.schedule.remove(self)\n"
   ]
  },
  {
   "cell_type": "code",
   "execution_count": null,
   "metadata": {},
   "outputs": [],
   "source": [
    "\n",
    "fixed_params = {\n",
    "   \"n_agents\": 50,\n",
    "    \"max_agents\": 80\n",
    "}\n",
    "parameters = {\"n_doctors\": [1,3,5], \"n_nurses\": [200,300,400]} \n",
    "batch_run = BatchRunner(PatienFlowModel, \n",
    "                        parameters,\n",
    "                        fixed_params,\n",
    "                        iterations=3, \n",
    "                        max_steps=100, \n",
    "                        model_reporters={\"all\":lambda m: m.datacollector})\n",
    "batch_run.run_all()\n",
    "\n",
    "run_data = batch_run.get_model_vars_dataframe()\n",
    "write_to_csv(run_data,1)"
   ]
  },
  {
   "cell_type": "code",
   "execution_count": null,
   "metadata": {},
   "outputs": [],
   "source": [
    "\n",
    "fixed_params = {\n",
    "   \"n_agents\": 50,\n",
    "    \"max_agents\": 100\n",
    "}\n",
    "parameters = {\"n_doctors\": [1,3,5], \"n_nurses\": [200,300,400]}\n",
    "batch_run = BatchRunner(PatienFlowModel, \n",
    "                        parameters,\n",
    "                        fixed_params,\n",
    "                        iterations=3,\n",
    "                        max_steps=100,\n",
    "                        model_reporters={\"all\":lambda m: m.datacollector})\n",
    "batch_run.run_all()\n",
    "\n",
    "run_data2 = batch_run.get_model_vars_dataframe()\n",
    "write_to_csv(run_data2,2)"
   ]
  },
  {
   "cell_type": "code",
   "execution_count": null,
   "metadata": {},
   "outputs": [],
   "source": [
    "\n",
    "fixed_params = {\n",
    "   \"n_agents\": 50,\n",
    "    \"max_agents\": 120\n",
    "}\n",
    "parameters = {\"n_doctors\": [1,3,5], \"n_nurses\": [200,300,400]}\n",
    "batch_run = BatchRunner(PatienFlowModel, \n",
    "                        parameters,\n",
    "                        fixed_params,\n",
    "                        iterations=3,\n",
    "                        max_steps=100,\n",
    "                        model_reporters={\"all\":lambda m: m.datacollector})\n",
    "batch_run.run_all()\n",
    "\n",
    "run_data3 = batch_run.get_model_vars_dataframe()\n",
    "write_to_csv(run_data3,3)"
   ]
  },
  {
   "cell_type": "markdown",
   "metadata": {},
   "source": [
    "# Analysis of ABM Runs"
   ]
  },
  {
   "cell_type": "code",
   "execution_count": null,
   "metadata": {},
   "outputs": [],
   "source": [
    "# Information from MIMIC Data\n",
    "\n",
    "caretime_info = pd.DataFrame(df3[['ICUSTAY_ID','cum_caretime_doctors','cum_caretime_nurses']]\n",
    "                             .groupby('ICUSTAY_ID').max().to_records())\n",
    "\n",
    "LOS_info = df3[['ICUSTAY_ID','LOS']].groupby('ICUSTAY_ID').max()['LOS']\n",
    "\n",
    "mortality_LOS_info = pd.DataFrame(df3[['ICUSTAY_ID','HOSPITAL_EXPIRE_FLAG','LOS']]\n",
    "                             .groupby('ICUSTAY_ID').max().to_records())\n",
    "\n",
    "# Getting LOS only of those cases where patients passes away\n",
    "mortality_LOS_info2 = mortality_LOS_info[mortality_LOS_info['HOSPITAL_EXPIRE_FLAG']==1]\n",
    "\n",
    "fatal_df=df6[df6[\"HOSPITAL_EXPIRE_FLAG\"]==1] # Fatalities"
   ]
  },
  {
   "cell_type": "markdown",
   "metadata": {},
   "source": [
    "## For SVM submodel"
   ]
  },
  {
   "cell_type": "code",
   "execution_count": 511,
   "metadata": {},
   "outputs": [],
   "source": [
    "model_11 = pd.read_csv('output_svm2/model_output_11.csv')\n",
    "agent_11 = pd.read_csv('output_svm2/agent_output_11.csv')\n",
    "model_12 = pd.read_csv('output_svm2/model_output_12.csv')\n",
    "agent_12 = pd.read_csv('output_svm2/agent_output_12.csv')\n",
    "model_13 = pd.read_csv('output_svm2/model_output_13.csv')\n",
    "agent_13 = pd.read_csv('output_svm2/agent_output_13.csv')\n",
    "model_21 = pd.read_csv('output_svm2/model_output_21.csv')\n",
    "agent_21 = pd.read_csv('output_svm2/agent_output_21.csv')\n",
    "model_22 = pd.read_csv('output_svm2/model_output_22.csv')\n",
    "agent_22 = pd.read_csv('output_svm2/agent_output_22.csv')\n",
    "model_23 = pd.read_csv('output_svm2/model_output_23.csv')\n",
    "agent_23 = pd.read_csv('output_svm2/agent_output_23.csv')\n",
    "model_31 = pd.read_csv('output_svm2/model_output_31.csv')\n",
    "agent_31 = pd.read_csv('output_svm2/agent_output_31.csv')\n",
    "model_32 = pd.read_csv('output_svm2/model_output_32.csv')\n",
    "agent_32 = pd.read_csv('output_svm2/agent_output_32.csv')\n",
    "model_33 = pd.read_csv('output_svm2/model_output_33.csv')\n",
    "agent_33 = pd.read_csv('output_svm2/agent_output_33.csv')\n"
   ]
  },
  {
   "cell_type": "code",
   "execution_count": 512,
   "metadata": {},
   "outputs": [],
   "source": [
    "model_12['run_number'] = model_12['run_number']+9\n",
    "agent_12['run_number'] = agent_12['run_number']+9\n",
    "model_13['run_number'] = model_13['run_number']+9*2\n",
    "agent_13['run_number'] = agent_13['run_number']+9*2\n",
    "model_21['run_number'] = model_21['run_number']+9*3\n",
    "agent_21['run_number'] = agent_21['run_number']+9*3\n",
    "model_22['run_number'] = model_22['run_number']+9*4\n",
    "agent_22['run_number'] = agent_22['run_number']+9*4\n",
    "model_23['run_number'] = model_23['run_number']+9*5\n",
    "agent_23['run_number'] = agent_23['run_number']+9*5\n",
    "model_31['run_number'] = model_31['run_number']+9*6\n",
    "agent_31['run_number'] = agent_31['run_number']+9*6\n",
    "model_32['run_number'] = model_32['run_number']+9*7\n",
    "agent_32['run_number'] = agent_32['run_number']+9*7\n",
    "model_33['run_number'] = model_33['run_number']+9*8\n",
    "agent_33['run_number'] = agent_33['run_number']+9*8"
   ]
  },
  {
   "cell_type": "code",
   "execution_count": 513,
   "metadata": {},
   "outputs": [],
   "source": [
    "df_model_vars = pd.concat([model_11,model_12,model_13,model_21,model_22,model_23,model_31,model_32,model_33],axis=0)\n",
    "df_agent_vars = pd.concat([agent_11,agent_12,agent_13,agent_21,agent_22,agent_23,agent_31,agent_32,agent_33],axis=0)\n"
   ]
  },
  {
   "cell_type": "code",
   "execution_count": 755,
   "metadata": {},
   "outputs": [],
   "source": [
    "data = df_agent_vars[df_agent_vars['run_number']==18]#.get_agent_vars_dataframe()\n",
    "data_model = df_model_vars[df_model_vars['run_number']==18]\n",
    "cap = data_model['max_agents'].max()\n",
    "flat_info = pd.DataFrame(data.to_records())\n",
    "# flat_info[flat_info['Step']==10]['Careunit'].value_counts()"
   ]
  },
  {
   "cell_type": "code",
   "execution_count": 768,
   "metadata": {},
   "outputs": [
    {
     "data": {
      "image/png": "[encoded data removed]",
      "text/plain": [
       "<Figure size 576x432 with 1 Axes>"
      ]
     },
     "metadata": {
      "needs_background": "light"
     },
     "output_type": "display_data"
    }
   ],
   "source": [
    "unit_count1 =[]\n",
    "for i in range(df_agent_vars['run_number'].max()):\n",
    "    #data = run_data.loc[i,'all'].get_agent_vars_dataframe()\n",
    "    data = df_agent_vars[df_agent_vars['run_number']==i]#.get_agent_vars_dataframe()\n",
    "    data_model = df_model_vars[df_model_vars['run_number']==i]\n",
    "    cap = data_model['max_agents'].max()\n",
    "    flat_info = pd.DataFrame(data.to_records())\n",
    "    \n",
    "    for i in flat_info['Step'].unique():\n",
    "        unit_count1.append((flat_info[flat_info['Step']==i]['Careunit'].value_counts()/cap*100).to_dict())\n",
    "\n",
    "unit_count1 = pd.DataFrame(unit_count1)\n",
    "    #all_values.append(max(unit_count['MICU']))\n",
    "    #plt.plot(unit_count1['MICU'],color='grey',alpha=0.1)\n",
    "\n",
    "unit_count_all= unit_count1\n",
    "unit_count_all['Others']=unit_count_all['Other']\n",
    "unit_count_all=unit_count_all.drop(columns='Other')\n",
    "\n",
    "plt.figure(figsize=(8,6))\n",
    "unit_count_all.boxplot(grid=False)\n",
    "plt.ylabel(\"Proportion of beds occupied (% of capacity)\")\n",
    "plt.title(\"Occupancy of Care Units\")\n",
    "plt.xlabel('Care Units')\n",
    "plt.savefig('careunit_countpatients2.png')\n",
    "plt.show()"
   ]
  },
  {
   "cell_type": "code",
   "execution_count": 709,
   "metadata": {},
   "outputs": [
    {
     "data": {
      "image/png": "[encoded data removed]",
      "text/plain": [
       "<Figure size 432x288 with 1 Axes>"
      ]
     },
     "metadata": {
      "needs_background": "light"
     },
     "output_type": "display_data"
    }
   ],
   "source": [
    "#plt.figure(figsize=(12,6))\n",
    "plt.rcParams.update({'font.size': 12})\n",
    "# data2 = model_output_1[0::101] # 100 iterations per param setting\n",
    "# data3 = model_output_2[0::101]\n",
    "# data4 = model_output_3[0::101]\n",
    "demand_serviced =[]\n",
    "n_docs =[]\n",
    "for i in range(df_model_vars['run_number'].max()):\n",
    "    #data = run_data.loc[i,'all'].get_model_vars_dataframe()\n",
    "    data = df_model_vars[df_model_vars['run_number']==i]\n",
    "#     param1 = data['n_nurses'].iloc[i]#data2['n_nurses'].iloc[i]\n",
    "    param2 = data[['n_doctors','n_nurses']].iloc[0].min()#data2['n_doctors'].iloc[i]\n",
    "    param3 = data['max_agents'].iloc[0]#data2['max_agents'].iloc[i]\n",
    "    n_docs.append(param2)\n",
    "    flat_info = pd.DataFrame(data.to_records())\n",
    "    overall_demand_serviced = flat_info['demand_serviced'].iloc[-1] # take the last value as that represent the aggregated demand serviced\n",
    "    demand_serviced.append(overall_demand_serviced)\n",
    "\n",
    "sns.stripplot(n_docs,demand_serviced, jitter=0.4)\n",
    "\n",
    "plt.title('Patient Inflow Being Serviced per n_doctors')\n",
    "plt.xlabel('Number of Doctors')\n",
    "plt.ylabel('Demand Serviced')\n",
    "plt.locator_params(axis='x', nbins=len(np.unique(n_docs)))\n",
    "#plt.xlim(20,80)\n",
    "#plt.ylim(0.80,1.01)\n",
    "#plt.legend()\n",
    "plt.savefig('demand_serviced4.png')\n",
    "plt.show()"
   ]
  },
  {
   "cell_type": "code",
   "execution_count": 717,
   "metadata": {},
   "outputs": [
    {
     "data": {
      "image/png": "[encoded data removed]",
      "text/plain": [
       "<Figure size 432x288 with 1 Axes>"
      ]
     },
     "metadata": {
      "needs_background": "light"
     },
     "output_type": "display_data"
    }
   ],
   "source": [
    "cols = {80:'blue',100:'orange',120:'green'}\n",
    "#plt.figure(figsize=(12,6))\n",
    "plt.rcParams.update({'font.size': 12})\n",
    "# data2 = model_output_1[0::100] # 100 iterations per param setting\n",
    "# data3 = model_output_2[0::100]\n",
    "# data4 = model_output_3[0::100]\n",
    "demand_serviced =[]\n",
    "max_agents =[]\n",
    "for i in range(df_model_vars['run_number'].max()):\n",
    "    #data = run_data.loc[i,'all'].get_model_vars_dataframe()\n",
    "    data = df_model_vars[df_model_vars['run_number']==i]\n",
    "    param1 = data[['n_doctors','n_nurses']].iloc[0].max()\n",
    "    param2 = data[['n_doctors','n_nurses']].iloc[0].min()\n",
    "    param3 = data['max_agents'].iloc[0]\n",
    "\n",
    "    max_agents.append(param3)\n",
    "    flat_info = pd.DataFrame(data.to_records())\n",
    "    overall_demand_serviced = flat_info['demand_serviced'].iloc[-1] # take the last value as that represent the aggregated demand serviced\n",
    "    demand_serviced.append(overall_demand_serviced)\n",
    "#     if param2 == 1:\n",
    "        #plt.scatter(max_agents,demand_serviced,color='red',alpha=0.01,marker='o',label='n_doctors {}'.format(param2))\n",
    "\n",
    "color_plot = [cols[m] for m in max_agents]\n",
    "sns.stripplot(max_agents,demand_serviced, jitter=0.4,palette=['blue','orange','green'])\n",
    "\n",
    "plt.title('Patient Inflow Being Serviced per max_agents')\n",
    "plt.xlabel('ICU Maximum Capacity (max_agents)')\n",
    "plt.ylabel('Demand Serviced')\n",
    "plt.locator_params(axis='x', nbins=len(np.unique(max_agents)))\n",
    "#plt.xlim(20,80)\n",
    "plt.ylim(0.885,1.015)\n",
    "#plt.legend()\n",
    "plt.savefig('demand_serviced2.png')\n",
    "plt.show()"
   ]
  },
  {
   "cell_type": "code",
   "execution_count": 687,
   "metadata": {},
   "outputs": [
    {
     "data": {
      "image/png": "[encoded data removed]",
      "text/plain": [
       "<Figure size 432x288 with 1 Axes>"
      ]
     },
     "metadata": {
      "needs_background": "light"
     },
     "output_type": "display_data"
    }
   ],
   "source": [
    "#plt.figure(figsize=(12,6))\n",
    "plt.rcParams.update({'font.size': 12})\n",
    "\n",
    "demand_serviced =[]\n",
    "n_nurses =[]\n",
    "for i in range(df_model_vars['run_number'].max()):\n",
    "    #data = run_data.loc[i,'all'].get_model_vars_dataframe()\n",
    "    data = df_model_vars[df_model_vars['run_number']==i]\n",
    "    param1 = data[['n_doctors','n_nurses']].iloc[0].max()\n",
    "    param2 = data[['n_doctors','n_nurses']].iloc[0].min()\n",
    "    param3 = data['max_agents'].iloc[0]\n",
    "    n_nurses.append(param1)\n",
    "    flat_info = pd.DataFrame(data.to_records())\n",
    "    overall_demand_serviced = flat_info['demand_serviced'].iloc[-1] # take the last value as that represent the aggregated demand serviced\n",
    "    demand_serviced.append(overall_demand_serviced)\n",
    "    sns.stripplot(n_nurses,demand_serviced, jitter=0.4)\n",
    "\n",
    "\n",
    "plt.title('Patient Inflow Being Serviced per n_nurses')\n",
    "plt.xlabel('Number of Nurses')\n",
    "plt.ylabel('Demand Serviced')\n",
    "plt.locator_params(axis='x', nbins=len(np.unique(n_nurses)))\n",
    "#plt.xlim(20,80)\n",
    "#plt.ylim(0.80,1.01)\n",
    "#plt.legend()\n",
    "plt.savefig('demand_serviced3.png')\n",
    "plt.show()"
   ]
  },
  {
   "cell_type": "code",
   "execution_count": 515,
   "metadata": {},
   "outputs": [
    {
     "data": {
      "image/png": "[encoded data removed]",
      "text/plain": [
       "<Figure size 576x432 with 1 Axes>"
      ]
     },
     "metadata": {
      "needs_background": "light"
     },
     "output_type": "display_data"
    }
   ],
   "source": [
    "plt.figure(figsize=(8,6))\n",
    "\n",
    "for i in range(df_agent_vars['run_number'].max()):\n",
    "    flat_info = df_agent_vars[df_agent_vars['run_number']==i]\n",
    "    LOS = []\n",
    "    for j in flat_info['AgentID'].unique():\n",
    "        LOS.append(flat_info[flat_info['AgentID']==j]['days_in_hospital'].max())   \n",
    "    plt.plot(np.arange(0,1,1/len(LOS))[:len(LOS)],sorted(LOS),color='blue',alpha=0.3)\n",
    "\n",
    "plt.plot(np.arange(0,1,1/len(LOS_info)),sorted(round(LOS_info)),color='red')\n",
    "\n",
    "plt.ylim((0,30))\n",
    "plt.xlabel('Proportion of Patients')\n",
    "plt.ylabel('Length of Stay')\n",
    "plt.savefig('LOS_svm.png')\n",
    "plt.show()"
   ]
  },
  {
   "cell_type": "code",
   "execution_count": 535,
   "metadata": {},
   "outputs": [
    {
     "data": {
      "text/plain": [
       "1"
      ]
     },
     "execution_count": 535,
     "metadata": {},
     "output_type": "execute_result"
    }
   ],
   "source": [
    "df_model_vars[df_model_vars['run_number']==1][['n_nurses','n_doctors']].iloc[0,:].min()"
   ]
  },
  {
   "cell_type": "code",
   "execution_count": 707,
   "metadata": {},
   "outputs": [
    {
     "data": {
      "image/png": "[encoded data removed]",
      "text/plain": [
       "<Figure size 576x432 with 1 Axes>"
      ]
     },
     "metadata": {
      "needs_background": "light"
     },
     "output_type": "display_data"
    }
   ],
   "source": [
    "import matplotlib as mpl\n",
    "norm = mpl.colors.Normalize(vmin=1, vmax=5)\n",
    "cmap = mpl.cm.ScalarMappable(norm=norm, cmap=mpl.cm.Blues)\n",
    "cmap.set_array([])\n",
    "\n",
    "plt.rcParams.update({'font.size': 20})\n",
    "\n",
    "plt.figure(figsize=(8,6))\n",
    "\n",
    "for i in range(df_agent_vars['run_number'].max()):\n",
    "    flat_info = df_agent_vars[df_agent_vars['run_number']==i]\n",
    "    model_vars = df_model_vars[df_model_vars['run_number']==i][['n_nurses','n_doctors']]\n",
    "    n_docs = model_vars.iloc[0,:].min()\n",
    "    cum_caretime_doctors = []\n",
    "    for j in flat_info['AgentID'].unique():\n",
    "        cum_caretime_doctors.append(flat_info[flat_info['AgentID']==j]['cum_caretime_doctors'].max())\n",
    "        \n",
    "    plt.plot(np.arange(0,1,1/len(cum_caretime_doctors))[:len(cum_caretime_doctors)],sorted(cum_caretime_doctors),\n",
    "             color=cmap.to_rgba(n_docs + 1),alpha=0.3,label='_')\n",
    "\n",
    "plt.vlines(2,0,1,color='red',label='MIMIC Data')\n",
    "    \n",
    "for n_docs in [1,3,5]:\n",
    "    plt.vlines(2,0,1,color=cmap.to_rgba(n_docs + 1),label='ABM: n_doctors = '+str(n_docs))\n",
    "\n",
    "plt.plot(np.arange(0,1,1/len(caretime_info['cum_caretime_doctors'])),\n",
    "         sorted(caretime_info['cum_caretime_doctors']),color='red')\n",
    "    \n",
    "plt.ylim((0,1.2))\n",
    "plt.xlim(0,1)\n",
    "plt.xlabel('Proportion of Patients')\n",
    "plt.ylabel('Cumulative Doctor Caretime (man-days)')\n",
    "plt.legend(loc='upper left',fontsize='small')\n",
    "plt.savefig('doctor_caretime_svm.png')\n",
    "plt.show()"
   ]
  },
  {
   "cell_type": "code",
   "execution_count": 708,
   "metadata": {},
   "outputs": [
    {
     "data": {
      "image/png": "[encoded data removed]",
      "text/plain": [
       "<Figure size 576x432 with 1 Axes>"
      ]
     },
     "metadata": {
      "needs_background": "light"
     },
     "output_type": "display_data"
    }
   ],
   "source": [
    "import matplotlib as mpl\n",
    "norm = mpl.colors.Normalize(vmin=100, vmax=400)\n",
    "cmap = mpl.cm.ScalarMappable(norm=norm, cmap=mpl.cm.Blues)\n",
    "cmap.set_array([])\n",
    "\n",
    "plt.rcParams.update({'font.size': 20})\n",
    "\n",
    "plt.figure(figsize=(8,6))\n",
    "quants = np.arange(0,1,1/len(cum_caretime_nurses)) #1/len(cum_caretime_nurses)\n",
    "\n",
    "\n",
    "\n",
    "for i in range(df_agent_vars['run_number'].max()):\n",
    "    flat_info = df_agent_vars[df_agent_vars['run_number']==i]\n",
    "    model_vars = df_model_vars[df_model_vars['run_number']==i][['n_nurses','n_doctors']]\n",
    "    n_nurses = model_vars.iloc[0,:].max()\n",
    "    cum_caretime_nurses = []\n",
    "    for j in flat_info['AgentID'].unique():\n",
    "        cum_caretime_nurses.append(flat_info[flat_info['AgentID']==j]['cum_caretime_nurses'].max())\n",
    "    plt.plot(quants,np.quantile(sorted(cum_caretime_nurses),quants),\n",
    "             color=cmap.to_rgba(n_nurses),alpha=0.3,label='_')\n",
    "\n",
    "plt.vlines(2,0,1,color='red',label='MIMIC Data')\n",
    "    \n",
    "for n_nurse in [200,300,400]:\n",
    "    plt.vlines(2,0,1,color=cmap.to_rgba(n_nurse),label='ABM: n_nurses = '+str(n_nurse))\n",
    "\n",
    "\n",
    "plt.plot(np.arange(0,1,1/len(caretime_info['cum_caretime_nurses'])),\n",
    "         sorted(caretime_info['cum_caretime_nurses']),color='red')\n",
    "    \n",
    "plt.ylim((0,200))\n",
    "plt.xlim(0,1)\n",
    "plt.xlabel('Proportion of Patients')\n",
    "plt.ylabel('Cumulative Nurse Caretime (man-days)')\n",
    "plt.legend(loc='upper left',fontsize='small')\n",
    "plt.savefig('nurse_caretime_svm.png')\n",
    "plt.show()"
   ]
  },
  {
   "cell_type": "code",
   "execution_count": 577,
   "metadata": {},
   "outputs": [],
   "source": [
    "fat_info = fatal_df[['ICUSTAY_ID','LOS']].groupby('ICUSTAY_ID').max()['LOS']"
   ]
  },
  {
   "cell_type": "code",
   "execution_count": 630,
   "metadata": {},
   "outputs": [
    {
     "data": {
      "image/png": "[encoded data removed]",
      "text/plain": [
       "<Figure size 1440x720 with 1 Axes>"
      ]
     },
     "metadata": {
      "needs_background": "light"
     },
     "output_type": "display_data"
    }
   ],
   "source": [
    "plt.rcParams.update({'font.size': 20})\n",
    "\n",
    "plt.figure(figsize=(20,10))\n",
    "import seaborn as sns\n",
    "# Reference Data:\n",
    "fatal_df=df6[df6[\"HOSPITAL_EXPIRE_FLAG\"]==1] # Fatalities\n",
    "\n",
    "#ABM Data:\n",
    "count_deaths_series =[]\n",
    "for i in range(df_agent_vars['run_number'].max()):\n",
    "#     data = run_data.loc[i,'all'].get_agent_vars_dataframe()\n",
    "    flat_info = df_agent_vars[df_agent_vars['run_number']==i]\n",
    "    flat_info2 = flat_info[flat_info['out_flag']==1] # Fatalities\n",
    "    count_LOS =[]\n",
    "    #for j in range(0,len(flat_info2)):\n",
    "        #count_LOS.append(list(flat_info2.days_in_hospital)[j])\n",
    "    for j in flat_info2['AgentID'].unique():\n",
    "        count_LOS.append(flat_info2[flat_info2['AgentID']==j]['days_in_hospital'].max()) \n",
    "    sns.kdeplot(count_LOS, bw=.6,color='blue',alpha=0.3)\n",
    "    #sns.distplot(count_LOS,hist = False, kde = True,\n",
    "    #             kde_kws = {'shade': True, 'linewidth': 1},color='grey',label='ABM Simulation')\n",
    "plt.vlines(0,0,0.01, color='blue',label='ABM Runs')\n",
    "sns.kdeplot(round(fat_info), bw=.6,color='red',label='MIMIC Data')\n",
    "#sns.distplot(round(fatal_df[\"LOS\"]),hist = False, kde = True,\n",
    "   #         kde_kws = {'shade': True, 'linewidth': 1},color='blue',label='Actual Data')\n",
    "\n",
    "#plt.xlim((30,50))\n",
    "#plt.ylim((0.8,1))\n",
    "#plt.savefig('LOS_fat_final.png')\n",
    "plt.title('Density Plot of Length of Stay for Fatalities')\n",
    "plt.xlabel('LOS (days) of patients who passed away')\n",
    "plt.ylabel('Density')\n",
    "plt.legend()\n",
    "plt.xlim((0,50))\n",
    "plt.ylim((0,0.32))\n",
    "plt.savefig('LOS_fat_final.png')\n",
    "plt.show()"
   ]
  },
  {
   "cell_type": "code",
   "execution_count": 588,
   "metadata": {},
   "outputs": [
    {
     "data": {
      "image/png": "[encoded data removed]",
      "text/plain": [
       "<Figure size 1440x720 with 1 Axes>"
      ]
     },
     "metadata": {
      "needs_background": "light"
     },
     "output_type": "display_data"
    }
   ],
   "source": [
    "import seaborn as sns\n",
    "\n",
    "plt.rcParams.update({'font.size': 20})\n",
    "plt.figure(figsize=(20,10))\n",
    "\n",
    "count_deaths_series =[]\n",
    "for i in range(df_agent_vars['run_number'].max()):\n",
    "    flat_info = df_agent_vars[df_agent_vars['run_number']==i]\n",
    "    count_LOS =[]\n",
    "\n",
    "    for j in flat_info['AgentID'].unique():\n",
    "        count_LOS.append(flat_info[flat_info['AgentID']==j]['days_in_hospital'].max()) \n",
    "    sns.kdeplot(count_LOS, bw=.6,color='blue',alpha=0.3)\n",
    "\n",
    "plt.vlines(0,0,0.01, color='blue',label='ABM Runs')\n",
    "sns.kdeplot(round(LOS_info), bw=0.6,color='red',label='MIMIC Data')\n",
    "\n",
    "plt.title('Density Plot of Length of Stay')\n",
    "plt.xlabel('LOS (days)')\n",
    "plt.ylabel('Density')\n",
    "plt.legend()\n",
    "plt.xlim((0,50))\n",
    "plt.ylim((0,0.31))\n",
    "plt.savefig('LOS_all_final.png')\n",
    "plt.show()"
   ]
  },
  {
   "cell_type": "markdown",
   "metadata": {},
   "source": [
    "## For XGB submodel"
   ]
  },
  {
   "cell_type": "code",
   "execution_count": null,
   "metadata": {},
   "outputs": [],
   "source": [
    "agent_1 = pd.read_csv(\"./output/agent_output_1.csv\")\n",
    "agent_2 = pd.read_csv(\"./output/agent_output_2.csv\")\n",
    "agent_3 = pd.read_csv(\"./output/agent_output_3.csv\")"
   ]
  },
  {
   "cell_type": "code",
   "execution_count": null,
   "metadata": {},
   "outputs": [],
   "source": [
    "model_1 = pd.read_csv(\"./output/model_output_1.csv\")\n",
    "model_2 = pd.read_csv(\"./output/model_output_2.csv\")\n",
    "model_3 = pd.read_csv(\"./output/model_output_3.csv\")"
   ]
  },
  {
   "cell_type": "code",
   "execution_count": null,
   "metadata": {},
   "outputs": [],
   "source": [
    "model_2['run_number'] = model_2['run_number']+27\n",
    "agent_2['run_number'] = agent_2['run_number']+27\n",
    "model_3['run_number'] = model_3['run_number']+27*2\n",
    "agent_3['run_number'] = agent_3['run_number']+27*2"
   ]
  },
  {
   "cell_type": "code",
   "execution_count": null,
   "metadata": {},
   "outputs": [],
   "source": [
    "df_model_vars = pd.concat([model_1,model_2,model_3],axis=0)\n",
    "df_agent_vars = pd.concat([agent_1,agent_2,agent_3],axis=0)"
   ]
  },
  {
   "cell_type": "code",
   "execution_count": null,
   "metadata": {},
   "outputs": [],
   "source": [
    "data = df_agent_vars[df_agent_vars['run_number']==18]\n",
    "data_model = df_model_vars[df_model_vars['run_number']==18]\n",
    "cap = data_model['max_agents'].max()\n",
    "flat_info = pd.DataFrame(data.to_records())"
   ]
  },
  {
   "cell_type": "code",
   "execution_count": null,
   "metadata": {},
   "outputs": [],
   "source": []
  },
  {
   "cell_type": "code",
   "execution_count": null,
   "metadata": {},
   "outputs": [],
   "source": [
    "caretime_info = pd.DataFrame(df3[['ICUSTAY_ID','cum_caretime_doctors','cum_caretime_nurses']]\n",
    "                             .groupby('ICUSTAY_ID').max().to_records())"
   ]
  },
  {
   "cell_type": "code",
   "execution_count": null,
   "metadata": {},
   "outputs": [],
   "source": [
    "LOS_info = df3[['ICUSTAY_ID','LOS']].groupby('ICUSTAY_ID').max()['LOS']"
   ]
  },
  {
   "cell_type": "code",
   "execution_count": null,
   "metadata": {},
   "outputs": [],
   "source": [
    "fatal_df=df6[df6[\"HOSPITAL_EXPIRE_FLAG\"]==1] # Fatalities"
   ]
  },
  {
   "cell_type": "code",
   "execution_count": null,
   "metadata": {},
   "outputs": [],
   "source": [
    "unit_count1 =[]\n",
    "for i in range(df_agent_vars['run_number'].max()):\n",
    "    data = df_agent_vars[df_agent_vars['run_number']==i]\n",
    "    data_model = df_model_vars[df_model_vars['run_number']==i]\n",
    "    cap = data_model['max_agents'].max()\n",
    "    flat_info = pd.DataFrame(data.to_records())\n",
    "    \n",
    "    for i in flat_info['Step'].unique():\n",
    "        unit_count1.append((flat_info[flat_info['Step']==i]['Careunit'].value_counts()/cap*100).to_dict())\n",
    "\n",
    "unit_count1 = pd.DataFrame(unit_count1)\n",
    "\n",
    "unit_count_all= unit_count1\n",
    "unit_count_all['Others']=unit_count_all['Other']\n",
    "unit_count_all=unit_count_all.drop(columns='Other')\n",
    "\n",
    "plt.figure(figsize=(8,6))\n",
    "unit_count_all.boxplot(grid=False)\n",
    "plt.ylabel(\"Proportion of beds occupied (% of capacity)\")\n",
    "plt.title(\"Occupancy of Care Units\")\n",
    "plt.xlabel('Care Units')\n",
    "plt.savefig('careunit_countpatients2_xgb.png')\n",
    "plt.show()"
   ]
  },
  {
   "cell_type": "code",
   "execution_count": null,
   "metadata": {},
   "outputs": [],
   "source": [
    "plt.rcParams.update({'font.size': 12})\n",
    "demand_serviced =[]\n",
    "n_docs =[]\n",
    "for i in range(df_model_vars['run_number'].max()):\n",
    "    data = df_model_vars[df_model_vars['run_number']==i]\n",
    "    param2 = data[['n_doctors','n_nurses']].iloc[0].min()\n",
    "    param3 = data['max_agents'].iloc[0]\n",
    "    n_docs.append(param2)\n",
    "    flat_info = pd.DataFrame(data.to_records())\n",
    "    overall_demand_serviced = flat_info['demand_serviced'].iloc[-1] # take the last value as that represent the aggregated demand serviced\n",
    "    demand_serviced.append(overall_demand_serviced)\n",
    "\n",
    "sns.stripplot(n_docs,demand_serviced, jitter=0.4)\n",
    "\n",
    "plt.title('Patient Inflow Being Serviced per n_doctors')\n",
    "plt.xlabel('Number of Doctors')\n",
    "plt.ylabel('Demand Serviced')\n",
    "plt.locator_params(axis='x', nbins=len(np.unique(n_docs)))\n",
    "plt.savefig('demand_serviced4_xgb.png')\n",
    "plt.show()"
   ]
  },
  {
   "cell_type": "code",
   "execution_count": null,
   "metadata": {},
   "outputs": [],
   "source": [
    "cols = {80:'blue',100:'orange',120:'green'}\n",
    "plt.rcParams.update({'font.size': 12})\n",
    "\n",
    "demand_serviced =[]\n",
    "max_agents =[]\n",
    "for i in range(df_model_vars['run_number'].max()):\n",
    "    data = df_model_vars[df_model_vars['run_number']==i]\n",
    "    param1 = data[['n_doctors','n_nurses']].iloc[0].max()\n",
    "    param2 = data[['n_doctors','n_nurses']].iloc[0].min()\n",
    "    param3 = data['max_agents'].iloc[0]\n",
    "    max_agents.append(param3)\n",
    "    flat_info = pd.DataFrame(data.to_records())\n",
    "    overall_demand_serviced = flat_info['demand_serviced'].iloc[-1] # take the last value as that represent the aggregated demand serviced\n",
    "    demand_serviced.append(overall_demand_serviced)\n",
    "\n",
    "color_plot = [cols[m] for m in max_agents]\n",
    "sns.stripplot(max_agents,demand_serviced, jitter=0.4,palette=['blue','orange','green'])\n",
    "\n",
    "plt.title('Patient Inflow Being Serviced per max_agents')\n",
    "plt.xlabel('ICU Maximum Capacity (max_agents)')\n",
    "plt.ylabel('Demand Serviced')\n",
    "plt.locator_params(axis='x', nbins=len(np.unique(max_agents)))\n",
    "#plt.xlim(20,80)\n",
    "plt.ylim(0.885,1.015)\n",
    "#plt.legend()\n",
    "plt.savefig('demand_serviced2_xgb.png')\n",
    "plt.show()"
   ]
  },
  {
   "cell_type": "code",
   "execution_count": null,
   "metadata": {},
   "outputs": [],
   "source": [
    "plt.rcParams.update({'font.size': 12})\n",
    "demand_serviced =[]\n",
    "n_nurses =[]\n",
    "for i in range(df_model_vars['run_number'].max()):\n",
    "    data = df_model_vars[df_model_vars['run_number']==i]\n",
    "    param1 = data[['n_doctors','n_nurses']].iloc[0].max()\n",
    "    param2 = data[['n_doctors','n_nurses']].iloc[0].min()\n",
    "    param3 = data['max_agents'].iloc[0]\n",
    "    n_nurses.append(param1)\n",
    "    flat_info = pd.DataFrame(data.to_records())\n",
    "    overall_demand_serviced = flat_info['demand_serviced'].iloc[-1] # take the last value as that represent the aggregated demand serviced\n",
    "    demand_serviced.append(overall_demand_serviced)\n",
    "sns.stripplot(n_nurses,demand_serviced, jitter=0.4)\n",
    "\n",
    "plt.title('Patient Inflow Being Serviced per n_nurses')\n",
    "plt.xlabel('Number of Nurses')\n",
    "plt.ylabel('Demand Serviced')\n",
    "plt.locator_params(axis='x', nbins=len(np.unique(n_nurses)))\n",
    "plt.savefig('demand_serviced3_xgb.png')\n",
    "plt.show()"
   ]
  },
  {
   "cell_type": "code",
   "execution_count": null,
   "metadata": {},
   "outputs": [],
   "source": [
    "import matplotlib as mpl\n",
    "norm = mpl.colors.Normalize(vmin=1, vmax=5)\n",
    "cmap = mpl.cm.ScalarMappable(norm=norm, cmap=mpl.cm.Blues)\n",
    "cmap.set_array([])\n",
    "\n",
    "plt.rcParams.update({'font.size': 20})\n",
    "\n",
    "plt.figure(figsize=(8,6))\n",
    "\n",
    "for i in range(df_agent_vars['run_number'].max()):\n",
    "    flat_info = df_agent_vars[df_agent_vars['run_number']==i]\n",
    "    model_vars = df_model_vars[df_model_vars['run_number']==i][['n_nurses','n_doctors']]\n",
    "    n_docs = model_vars.iloc[0,:].min()\n",
    "    cum_caretime_doctors = []\n",
    "    for j in flat_info['AgentID'].unique():\n",
    "        cum_caretime_doctors.append(flat_info[flat_info['AgentID']==j]['cum_caretime_doctors'].max())\n",
    "        \n",
    "    plt.plot(np.arange(0,1,1/len(cum_caretime_doctors))[:len(cum_caretime_doctors)],sorted(cum_caretime_doctors),\n",
    "             color=cmap.to_rgba(n_docs + 1),alpha=0.3,label='_')\n",
    "\n",
    "plt.vlines(2,0,1,color='red',label='MIMIC Data')\n",
    "    \n",
    "for n_docs in [1,3,5]:\n",
    "    plt.vlines(2,0,1,color=cmap.to_rgba(n_docs + 1),label='ABM: n_doctors = '+str(n_docs))\n",
    "\n",
    "plt.plot(np.arange(0,1,1/len(caretime_info['cum_caretime_doctors'])),\n",
    "         sorted(caretime_info['cum_caretime_doctors']),color='red')\n",
    "    \n",
    "plt.ylim((0,1.2))\n",
    "plt.xlim(0,1)\n",
    "plt.xlabel('Proportion of Patients')\n",
    "plt.ylabel('Cumulative Doctor Caretime (man-days)')\n",
    "plt.legend(loc='upper left',fontsize='small')\n",
    "plt.savefig('doctor_caretime_xgb.png')\n",
    "plt.show()"
   ]
  },
  {
   "cell_type": "code",
   "execution_count": null,
   "metadata": {},
   "outputs": [],
   "source": [
    "import matplotlib as mpl\n",
    "norm = mpl.colors.Normalize(vmin=100, vmax=400)\n",
    "cmap = mpl.cm.ScalarMappable(norm=norm, cmap=mpl.cm.Blues)\n",
    "cmap.set_array([])\n",
    "\n",
    "plt.rcParams.update({'font.size': 20})\n",
    "\n",
    "plt.figure(figsize=(8,6))\n",
    "quants = np.arange(0,1,1/len(cum_caretime_nurses)) #1/len(cum_caretime_nurses)\n",
    "\n",
    "\n",
    "\n",
    "for i in range(df_agent_vars['run_number'].max()):\n",
    "    flat_info = df_agent_vars[df_agent_vars['run_number']==i]\n",
    "    model_vars = df_model_vars[df_model_vars['run_number']==i][['n_nurses','n_doctors']]\n",
    "    n_nurses = model_vars.iloc[0,:].max()\n",
    "    cum_caretime_nurses = []\n",
    "    for j in flat_info['AgentID'].unique():\n",
    "        cum_caretime_nurses.append(flat_info[flat_info['AgentID']==j]['cum_caretime_nurses'].max())\n",
    "    plt.plot(quants,np.quantile(sorted(cum_caretime_nurses),quants),\n",
    "             color=cmap.to_rgba(n_nurses),alpha=0.3,label='_')\n",
    "\n",
    "plt.vlines(2,0,1,color='red',label='MIMIC Data')\n",
    "    \n",
    "for n_nurse in [200,300,400]:\n",
    "    plt.vlines(2,0,1,color=cmap.to_rgba(n_nurse),label='ABM: n_nurses = '+str(n_nurse))\n",
    "\n",
    "\n",
    "plt.plot(np.arange(0,1,1/len(caretime_info['cum_caretime_nurses'])),\n",
    "         sorted(caretime_info['cum_caretime_nurses']),color='red')\n",
    "    \n",
    "plt.ylim((0,200))\n",
    "plt.xlim(0,1)\n",
    "plt.xlabel('Proportion of Patients')\n",
    "plt.ylabel('Cumulative Nurse Caretime (man-days)')\n",
    "plt.legend(loc='upper left',fontsize='small')\n",
    "plt.savefig('nurse_caretime_xgb.png')\n",
    "plt.show()"
   ]
  },
  {
   "cell_type": "code",
   "execution_count": null,
   "metadata": {},
   "outputs": [],
   "source": [
    "fat_info = fatal_df[['ICUSTAY_ID','LOS']].groupby('ICUSTAY_ID').max()['LOS']"
   ]
  },
  {
   "cell_type": "code",
   "execution_count": null,
   "metadata": {},
   "outputs": [],
   "source": [
    "plt.rcParams.update({'font.size': 20})\n",
    "plt.figure(figsize=(20,10))\n",
    "\n",
    "# Reference Data:\n",
    "fatal_df=df6[df6[\"HOSPITAL_EXPIRE_FLAG\"]==1] # Fatalities\n",
    "\n",
    "#ABM Data:\n",
    "count_deaths_series =[]\n",
    "for i in range(df_agent_vars['run_number'].max()):\n",
    "    flat_info = df_agent_vars[df_agent_vars['run_number']==i]\n",
    "    flat_info2 = flat_info[flat_info['out_flag']==1] # Fatalities\n",
    "    count_LOS =[]\n",
    "    for j in flat_info2['AgentID'].unique():\n",
    "        count_LOS.append(flat_info2[flat_info2['AgentID']==j]['days_in_hospital'].max()) \n",
    "    sns.kdeplot(count_LOS, bw=.6,color='blue',alpha=0.3)\n",
    "plt.vlines(0,0,0.01, color='blue',label='ABM Runs')\n",
    "sns.kdeplot(round(fat_info), bw=.6,color='red',label='MIMIC Data')\n",
    "\n",
    "plt.title('Density Plot of Length of Stay for Fatalities')\n",
    "plt.xlabel('LOS (days) of patients who passed away')\n",
    "plt.ylabel('Density')\n",
    "plt.legend()\n",
    "plt.xlim((0,50))\n",
    "plt.ylim((0,0.32))\n",
    "plt.savefig('LOS_fat_final_xgb.png')\n",
    "plt.show()"
   ]
  },
  {
   "cell_type": "code",
   "execution_count": null,
   "metadata": {},
   "outputs": [],
   "source": [
    "plt.rcParams.update({'font.size': 20})\n",
    "plt.figure(figsize=(20,10))\n",
    "\n",
    "# Reference Data:\n",
    "\n",
    "#ABM Data:\n",
    "count_deaths_series =[]\n",
    "for i in range(df_agent_vars['run_number'].max()):\n",
    "    flat_info = df_agent_vars[df_agent_vars['run_number']==i]\n",
    "    count_LOS =[]\n",
    "    for j in flat_info['AgentID'].unique():\n",
    "        count_LOS.append(flat_info[flat_info['AgentID']==j]['days_in_hospital'].max()) \n",
    "    sns.kdeplot(count_LOS, bw=.6,color='blue',alpha=0.3)\n",
    "plt.vlines(0,0,0.01, color='blue',label='ABM Runs')\n",
    "sns.kdeplot(round(LOS_info), bw=0.6,color='red',label='MIMIC Data')\n",
    "\n",
    "plt.title('Density Plot of Length of Stay')\n",
    "plt.xlabel('LOS (days)')\n",
    "plt.ylabel('Density')\n",
    "plt.legend()\n",
    "plt.xlim((0,50))\n",
    "plt.ylim((0,0.31))\n",
    "plt.savefig('LOS_all_final_xgb.png')\n",
    "plt.show()"
   ]
  }
 ],
 "metadata": {
  "kernelspec": {
   "display_name": "Python 3",
   "language": "python",
   "name": "python3"
  },
  "language_info": {
   "codemirror_mode": {
    "name": "ipython",
    "version": 3
   },
   "file_extension": ".py",
   "mimetype": "text/x-python",
   "name": "python",
   "nbconvert_exporter": "python",
   "pygments_lexer": "ipython3",
   "version": "3.7.1"
  },
  "toc": {
   "base_numbering": 1,
   "nav_menu": {},
   "number_sections": true,
   "sideBar": true,
   "skip_h1_title": false,
   "title_cell": "Table of Contents",
   "title_sidebar": "Contents",
   "toc_cell": false,
   "toc_position": {
    "height": "calc(100% - 180px)",
    "left": "10px",
    "top": "150px",
    "width": "244px"
   },
   "toc_section_display": true,
   "toc_window_display": true
  }
 },
 "nbformat": 4,
 "nbformat_minor": 2
}
