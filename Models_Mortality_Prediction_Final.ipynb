{
 "cells": [
  {
   "cell_type": "code",
   "execution_count": 595,
   "metadata": {},
   "outputs": [],
   "source": [
    "import pandas as pd\n",
    "import numpy as np\n",
    "import matplotlib.pyplot as plt\n",
    "import os\n",
    "import seaborn as sns\n",
    "\n",
    "from sklearn import preprocessing\n",
    "from sklearn.neighbors import NearestNeighbors, KNeighborsClassifier # Load k-NN from sklearn\n",
    "from sklearn.svm import SVC\n",
    "from sklearn.model_selection import GridSearchCV\n",
    "from sklearn.model_selection import train_test_split\n",
    "from sklearn.metrics import mean_squared_error\n",
    "from sklearn.metrics import r2_score\n",
    "import datetime as dt\n",
    "\n",
    "\n",
    "from sklearn.ensemble import RandomForestClassifier\n",
    "from sklearn.model_selection import cross_val_score\n",
    "from sklearn.linear_model import LassoCV\n",
    "from sklearn.metrics import accuracy_score, roc_curve, roc_auc_score\n",
    "from sklearn.metrics import accuracy_score,recall_score,precision_score,f1_score, confusion_matrix\n",
    "\n",
    "from sklearn.ensemble import GradientBoostingClassifier\n",
    "import xgboost as xgb\n",
    "from mlens.ensemble import SuperLearner\n",
    "from sklearn.ensemble import ExtraTreesClassifier\n",
    "from sklearn.metrics import auc, precision_recall_curve\n",
    "from category_encoders.binary import BinaryEncoder\n",
    "\n"
   ]
  },
  {
   "cell_type": "code",
   "execution_count": 596,
   "metadata": {},
   "outputs": [],
   "source": [
    "def get_auc(y, y_pred_probabilities, class_labels, column =1, plot = True):\n",
    "    fpr, tpr, _ = roc_curve(y == column, y_pred_probabilities[:,column])\n",
    "    roc_auc = roc_auc_score(y_true=y, y_score=y_pred_probabilities[:,1])\n",
    "    print (\"AUC: \", roc_auc)\n",
    "    plt.plot(fpr, tpr, label='ROC curve (area = %0.2f)' % roc_auc)\n",
    "    plt.plot([0, 1], [0, 1], linestyle='--')\n",
    "    plt.xlim([0.0, 1.0])\n",
    "    plt.ylim([0.0, 1.0])\n",
    "    plt.xlabel('False Positive Rate')\n",
    "    plt.ylabel('True Positive Rate')\n",
    "    plt.title('Receiver operating characteristic example')\n",
    "    plt.legend(loc=\"lower right\")\n",
    "    plt.show()"
   ]
  },
  {
   "cell_type": "code",
   "execution_count": 597,
   "metadata": {},
   "outputs": [],
   "source": [
    "def plot_confusion_matrix(cm, class_labels):\n",
    "    \"\"\"Pretty prints a confusion matrix as a figure\n",
    "\n",
    "    Args:\n",
    "        cm:  A confusion matrix for example\n",
    "        [[245, 5 ], \n",
    "         [ 34, 245]]\n",
    "         \n",
    "        class_labels: The list of class labels to be plotted on x-y axis\n",
    "\n",
    "    Rerturns:\n",
    "        Just plots the confusion matrix.\n",
    "    \"\"\"\n",
    "    \n",
    "    accuracy = np.trace(cm) / np.sum(cm).astype('float')\n",
    "    misclass = 1 - accuracy\n",
    "    \n",
    "    df_cm = pd.DataFrame(cm, index = [i for i in class_labels],\n",
    "                  columns = [i for i in class_labels])\n",
    "    #sns.set(font_scale=1)\n",
    "    sns.heatmap(df_cm, annot=True, fmt='g', cmap='Blues',annot_kws={\"size\": 16})\n",
    "    plt.tight_layout()\n",
    "    #plt.xlabel(\"Predicted label\")\n",
    "    plt.xlabel('Predicted label\\naccuracy={:0.4f}; misclass={:0.4f}'.format(accuracy, misclass))\n",
    "    plt.ylabel(\"Real label\")\n",
    "    plt.figure(figsize = (10,7))\n",
    "    plt.show()"
   ]
  },
  {
   "cell_type": "markdown",
   "metadata": {},
   "source": [
    "# Loading datasets"
   ]
  },
  {
   "cell_type": "code",
   "execution_count": 598,
   "metadata": {},
   "outputs": [],
   "source": [
    "main_df2 = pd.read_csv('all_diagnoses.csv')\n",
    "vitals_df = pd.read_csv(\"vitals_df.csv\")\n",
    "severity_scores_df = pd.read_csv('severity_scores_df.csv')"
   ]
  },
  {
   "cell_type": "code",
   "execution_count": 599,
   "metadata": {},
   "outputs": [
    {
     "data": {
      "text/plain": [
       "(968526, 21)"
      ]
     },
     "execution_count": 599,
     "metadata": {},
     "output_type": "execute_result"
    }
   ],
   "source": [
    "main_df2.shape"
   ]
  },
  {
   "cell_type": "code",
   "execution_count": 600,
   "metadata": {},
   "outputs": [
    {
     "data": {
      "text/plain": [
       "(26106, 27)"
      ]
     },
     "execution_count": 600,
     "metadata": {},
     "output_type": "execute_result"
    }
   ],
   "source": [
    "vitals_df.shape"
   ]
  },
  {
   "cell_type": "code",
   "execution_count": 601,
   "metadata": {},
   "outputs": [],
   "source": [
    "severity_scores_df=severity_scores_df.drop_duplicates(subset='subject_id',keep='first').sort_values(by='subject_id')"
   ]
  },
  {
   "cell_type": "code",
   "execution_count": 602,
   "metadata": {},
   "outputs": [],
   "source": [
    "# Removing redundant columns Subject_ID and HADM_ID\n",
    "severity_scores_df = severity_scores_df.drop(['subject_id','hadm_id','hospital_expire_flag','ICUSTAY_AGE_GROUP',\n",
    "                                              'OASIS', 'OASIS_PROB','age_score','preiculos_score', 'gcs_score',\n",
    "                                                'heartrate_score', 'meanbp_score',\n",
    "                                               'resprate_score', 'temp_score',\n",
    "                                               'UrineOutput_score', 'mechvent_score',\n",
    "                                               'electivesurgery_score', 'SAPS', 'resp_score', 'vent_score',\n",
    "                                               'hematocrit_score', 'glucose_score', 'SAPSII', 'SAPSII_PROB',\n",
    "                                               'PaO2FiO2_score', 'bilirubin_score', 'comorbidity_score',\n",
    "                                               'admissiontype_score', 'SOFA','INTIME','age'], axis=1) \n",
    "#icustay_expire_flag"
   ]
  },
  {
   "cell_type": "code",
   "execution_count": null,
   "metadata": {},
   "outputs": [],
   "source": []
  },
  {
   "cell_type": "markdown",
   "metadata": {},
   "source": [
    "# Pre-Processing"
   ]
  },
  {
   "cell_type": "markdown",
   "metadata": {},
   "source": [
    "**This part here will be commented out since this takes some time to run and has been saved out for computational reasons**"
   ]
  },
  {
   "cell_type": "markdown",
   "metadata": {},
   "source": [
    "## Top 50 Diagnoses & Interactions"
   ]
  },
  {
   "cell_type": "code",
   "execution_count": 603,
   "metadata": {},
   "outputs": [],
   "source": [
    "#from itertools import combinations\n",
    "\n",
    "#def check_interactions(data,diagnoses):\n",
    "#    #a = [\"Single lb in-hosp w/o cs\",\"Crnry athrscl natve vssl\"]\n",
    "#    count_all = []\n",
    "#    count_deaths_all = []\n",
    "#    combo1 = []\n",
    "#    combo2 = []\n",
    "#    icu_ids = []\n",
    "#    for i,j in combinations(diagnoses, 2):\n",
    "#        count = 0\n",
    "#        count_deaths = 0\n",
    "#        print(i,j)\n",
    "#        icu_i = data['ICUSTAY_ID'][data['SHORT_TITLE'] == i].unique()\n",
    "#        icu_j = data['ICUSTAY_ID'][data['SHORT_TITLE'] == j].unique()\n",
    "#        both = [value for value in icu_i if value in icu_j]\n",
    "        \n",
    "#        for icu_stay in both:\n",
    "#            data_subset = data[data['ICUSTAY_ID'] == icu_stay]\n",
    "#            count += 1\n",
    "#            count_deaths += [i for i in data_subset['HOSPITAL_EXPIRE_FLAG']][0] #data_subset['HOSPITAL_EXPIRE_FLAG'].to_list()[0] \n",
    "#        print(count_deaths)\n",
    "#        print(count)\n",
    "#        combo1.append(i)\n",
    "#        combo2.append(j)\n",
    "#        count_all.append(count)\n",
    "#        count_deaths_all.append(count_deaths)\n",
    "#        icu_ids.append(both)\n",
    "#    return combo1, combo2, count_all, count_deaths_all, icu_ids"
   ]
  },
  {
   "cell_type": "code",
   "execution_count": 604,
   "metadata": {},
   "outputs": [],
   "source": [
    "#deathrate = []\n",
    "#count_deaths_list = []\n",
    "\n",
    "#for condition in main_df2['SHORT_TITLE'].unique():\n",
    "#    subset = main_df2[main_df2['SHORT_TITLE']==condition]\n",
    "#    count = subset.shape[0]\n",
    "#    count_deaths = subset['HOSPITAL_EXPIRE_FLAG'].sum()\n",
    "#    deathrate.append(count_deaths/count)\n",
    "#    count_deaths_list.append(count_deaths)"
   ]
  },
  {
   "cell_type": "code",
   "execution_count": 605,
   "metadata": {},
   "outputs": [],
   "source": [
    "#deathrate_df = pd.DataFrame()\n",
    "#deathrate_df['SHORT_TITLE'] = main_df2['SHORT_TITLE'].unique()\n",
    "#deathrate_df['DEATHRATE'] = deathrate\n",
    "#deathrate_df['PATIENT_COUNT'] = count_deaths_list\n",
    "#deathrate_df_sorted = deathrate_df.sort_values(by='DEATHRATE',ascending=False)\n",
    "#deathrate_df_sorted_top=deathrate_df_sorted[deathrate_df_sorted[\"PATIENT_COUNT\"]>=10]"
   ]
  },
  {
   "cell_type": "code",
   "execution_count": 606,
   "metadata": {},
   "outputs": [],
   "source": [
    "#dr_df = deathrate_df_sorted_top.copy()\n",
    "#dr_df.loc[(dr_df['DEATHRATE'] >= 0.7), 'DEATHRATE_CAT'] = 2\n",
    "#dr_df.loc[(dr_df['DEATHRATE'] < 0.7) & (dr_df['DEATHRATE'] >= 0.5), 'DEATHRATE_CAT'] = 1\n",
    "#dr_df.loc[(dr_df['DEATHRATE'] < 0.5), 'DEATHRATE_CAT'] = 0"
   ]
  },
  {
   "cell_type": "code",
   "execution_count": 607,
   "metadata": {},
   "outputs": [],
   "source": [
    "#top50_diagn = dr_df[dr_df[\"PATIENT_COUNT\"]>=10].head(50)['SHORT_TITLE']\n",
    "#combo1, combo2, count_all, count_deaths_all, icu_ids = check_interactions(main_df2,top50_diagn)"
   ]
  },
  {
   "cell_type": "code",
   "execution_count": 608,
   "metadata": {},
   "outputs": [],
   "source": [
    "#interactions_df = pd.DataFrame()\n",
    "#interactions_df['diagnosis1']=combo1\n",
    "#interactions_df['diagnosis2']=combo2\n",
    "#interactions_df['total_count']=count_all\n",
    "#interactions_df['death_count']=count_deaths_all\n",
    "#interactions_df['icu_ids'] = icu_ids\n",
    "#death_rate=[]\n",
    "#for i,j in zip(count_deaths_all,count_all):\n",
    "#    if j!=0:\n",
    "#        death_rate.append(i/j)\n",
    "#    else:\n",
    "#        death_rate.append(0)\n",
    "#interactions_df['death_rate']=death_rate \n",
    "#interactions_df= interactions_df[interactions_df['total_count']>=10].sort_values(by='death_rate', ascending=False)\n",
    "\n",
    "## Join first Diagnosis with individual diagnosis deathrates\n",
    "#df_comp = interactions_df.merge(dr_df, how='left', left_on='diagnosis1',right_on=\"SHORT_TITLE\")\n",
    "#df_comp = df_comp.drop(['SHORT_TITLE','PATIENT_COUNT','DEATHRATE_CAT'], axis=1)\n",
    "#df_comp = df_comp.rename(columns={\"DEATHRATE\": \"deathrate_diagn1\"})\n",
    "\n",
    "## Join first Diagnosis with individual diagnosis deathrates\n",
    "#df_comp = df_comp.merge(dr_df, how='left', left_on='diagnosis2',right_on=\"SHORT_TITLE\")\n",
    "#df_comp = df_comp.drop(['SHORT_TITLE','PATIENT_COUNT','DEATHRATE_CAT'], axis=1)\n",
    "#df_comp = df_comp.rename(columns={\"DEATHRATE\": \"deathrate_diagn2\"})\n",
    "\n",
    "#data_subset1 = df_comp[(df_comp['death_rate']) > (0.25 + df_comp['deathrate_diagn1'] ) ]\n",
    "#data_subset2 = df_comp[(df_comp['death_rate']) > (0.25 + df_comp['deathrate_diagn2'] ) ]\n",
    "#data_subset3 = pd.concat([data_subset1,data_subset2]).drop_duplicates(subset=['diagnosis1','diagnosis2','death_rate'])\n",
    "#data_subset3 = data_subset3.sort_values(by='death_rate',ascending=False)"
   ]
  },
  {
   "cell_type": "code",
   "execution_count": 609,
   "metadata": {},
   "outputs": [],
   "source": [
    "# Set threshold at 0.9\n",
    "#data_subset3.loc[data_subset3['death_rate'] >= 0.9, 'death_rate_int_cat'] = 2\n",
    "#data_subset3.loc[(data_subset3['death_rate'] < 0.9) & (data_subset3['death_rate'] >= 0.5), 'death_rate_int_cat'] = 1"
   ]
  },
  {
   "cell_type": "code",
   "execution_count": 610,
   "metadata": {},
   "outputs": [],
   "source": [
    "#data_subset4 = data_subset3[['icu_ids','death_rate_int_cat']]"
   ]
  },
  {
   "cell_type": "code",
   "execution_count": 611,
   "metadata": {},
   "outputs": [],
   "source": [
    "#data_subset5 = pd.DataFrame(data_subset4.icu_ids.tolist(), index=data_subset4.death_rate_int_cat).stack().reset_index(level=1, drop=True).reset_index(name='icu_ids')[['icu_ids','death_rate_int_cat']]\n",
    "\n",
    "#data_subset6 = pd.concat([data_subset5.icu_ids,pd.get_dummies(data_subset5['death_rate_int_cat'], prefix='DEATHRATE_INT_CAT_',drop_first=False)],axis=1)\n",
    "#data_subset7 = data_subset6.groupby('icu_ids').sum()\n",
    "\n",
    "#data_subset8 = data_subset7.where(data_subset7<=1, 1)"
   ]
  },
  {
   "cell_type": "code",
   "execution_count": 612,
   "metadata": {},
   "outputs": [],
   "source": [
    "#categories = pd.get_dummies(dr_df['DEATHRATE_CAT'], prefix='DEATHRATE_CAT_',drop_first=True)\n",
    "#conditions_encoding = pd.concat([dr_df['SHORT_TITLE'],categories], axis=1)"
   ]
  },
  {
   "cell_type": "code",
   "execution_count": 613,
   "metadata": {},
   "outputs": [],
   "source": [
    "#main_df3 = main_df2.merge(conditions_encoding, how='left', on='SHORT_TITLE')"
   ]
  },
  {
   "cell_type": "code",
   "execution_count": 614,
   "metadata": {},
   "outputs": [],
   "source": [
    "#collapse_categories = main_df3[['ICUSTAY_ID','DEATHRATE_CAT__1.0', 'DEATHRATE_CAT__2.0']].groupby('ICUSTAY_ID').sum() #, 'DEATHRATE_CAT__3.0',\n",
    "       #'DEATHRATE_CAT__4.0'\n",
    "#main_df2=main_df2.drop_duplicates(subset='ICUSTAY_ID',keep='first').sort_values(by='ICUSTAY_ID')\n",
    "#main_df2 = main_df2.merge(collapse_categories, how='left', on='ICUSTAY_ID')"
   ]
  },
  {
   "cell_type": "code",
   "execution_count": 615,
   "metadata": {},
   "outputs": [],
   "source": [
    "#main_sub = main_df2[['ICUSTAY_ID']].merge(data_subset8.reset_index(), how='left', left_on='ICUSTAY_ID', right_on='icu_ids')\n",
    "#main_sub = main_sub.drop('icu_ids',axis=1).fillna(0)\n",
    "#main_df2 = main_df2.merge(main_sub, how='left', on='ICUSTAY_ID')\n"
   ]
  },
  {
   "cell_type": "code",
   "execution_count": 616,
   "metadata": {},
   "outputs": [],
   "source": [
    "#df = main_df2.merge(severity_scores_df, how='left', left_on = 'ICUSTAY_ID' ,right_on='icustay_id')\n",
    "#df = df.merge(vitals_df, how='inner', on='icustay_id')"
   ]
  },
  {
   "cell_type": "markdown",
   "metadata": {},
   "source": [
    "## Binary & One-Hot Encoding"
   ]
  },
  {
   "cell_type": "code",
   "execution_count": 617,
   "metadata": {},
   "outputs": [],
   "source": [
    "# Binary Encoding\n",
    "#diagnosis_encoder = BinaryEncoder()\n",
    "#diagnosis_binary = diagnosis_encoder.fit_transform(df['ICD9_CODE'].astype(str))"
   ]
  },
  {
   "cell_type": "code",
   "execution_count": 618,
   "metadata": {},
   "outputs": [],
   "source": [
    "# Create dummies for Gender\n",
    "#gender_df =pd.get_dummies(df ['GENDER'],prefix='gender_', drop_first=True)\n",
    "\n",
    "# Create dummies for Age Group\n",
    "#age_group_df =pd.get_dummies(df ['ICUSTAY_AGE_GROUP'], prefix='age_group_', drop_first=True)\n",
    "\n",
    "# Merge all encoded variables\n",
    "#df2 = pd.concat([df,gender_df,age_group_df], axis=1) #, diagnosis_binary"
   ]
  },
  {
   "cell_type": "code",
   "execution_count": 619,
   "metadata": {},
   "outputs": [],
   "source": [
    "#df3 = df2.drop(['icustay_id', 'HOSPITAL_EXPIRE_FLAG', #hospital_expire_flag\n",
    "#               'ICUSTAY_ID', 'SUBJECT_ID', 'HADM_ID', 'INTIME', 'OUTTIME', 'DIFF',\n",
    "#               'LAST_WARDID', 'GENDER','DOB', 'ICD9_CODE', 'SHORT_TITLE',\n",
    "#               'LONG_TITLE', 'SEQ_NUM', 'DEATHTIME','ICUSTAY_AGE_GROUP',\"ADMISSION_TYPE\",'INSURANCE','CURR_CAREUNIT','LOS'], axis=1)"
   ]
  },
  {
   "cell_type": "code",
   "execution_count": null,
   "metadata": {},
   "outputs": [],
   "source": []
  },
  {
   "cell_type": "code",
   "execution_count": 620,
   "metadata": {},
   "outputs": [],
   "source": [
    "# Loading the pre-saved input\n",
    "severity_scores_df = pd.read_csv('severity_scores_df.csv')\n",
    "severity_scores_df=severity_scores_df.drop_duplicates(subset='subject_id',keep='first').sort_values(by='subject_id')\n",
    "\n",
    "# Removing redundant columns Subject_ID and HADM_ID\n",
    "severity_scores_df = severity_scores_df.drop(['subject_id','hadm_id','ICUSTAY_AGE_GROUP',\n",
    "                                              'OASIS', 'OASIS_PROB','age_score','preiculos_score', 'gcs_score',\n",
    "                                                'heartrate_score', 'meanbp_score',\n",
    "                                               'resprate_score', 'temp_score',\n",
    "                                               'UrineOutput_score', 'mechvent_score',\n",
    "                                               'electivesurgery_score', 'SAPS', 'resp_score', 'vent_score',\n",
    "                                               'hematocrit_score', 'glucose_score', 'SAPSII', 'SAPSII_PROB',\n",
    "                                               'PaO2FiO2_score', 'bilirubin_score', 'comorbidity_score',\n",
    "                                               'admissiontype_score', 'SOFA','INTIME','age'], axis=1)"
   ]
  },
  {
   "cell_type": "code",
   "execution_count": 621,
   "metadata": {},
   "outputs": [],
   "source": [
    "main_df2 = pd.read_csv(\"main_df2.csv\")\n",
    "\n",
    "# Remove duplicate 'DEATHRATE_INT_CAT__' columns\n",
    "main_df2 = main_df2.drop(['DEATHRATE_INT_CAT__1.0_x', 'DEATHRATE_INT_CAT__2.0_x'],axis=1)\n",
    "main_df2 = main_df2.rename({'DEATHRATE_INT_CAT__1.0_y':'DEATHRATE_INT_CAT__1.0',\n",
    "                            'DEATHRATE_INT_CAT__2.0_y':'DEATHRATE_INT_CAT__2.0'},axis=1)"
   ]
  },
  {
   "cell_type": "code",
   "execution_count": 622,
   "metadata": {},
   "outputs": [],
   "source": [
    "df = main_df2.merge(severity_scores_df, how='left', left_on = 'ICUSTAY_ID' ,right_on='icustay_id')\n",
    "\n",
    "vitals_df = pd.read_csv(\"vitals_df.csv\")\n",
    "df = df.merge(vitals_df, how='inner', on='icustay_id')"
   ]
  },
  {
   "cell_type": "code",
   "execution_count": 623,
   "metadata": {},
   "outputs": [],
   "source": [
    "# Binary Encoding\n",
    "\n",
    "diagnosis_encoder = BinaryEncoder()\n",
    "diagnosis_binary = diagnosis_encoder.fit_transform(df['ICD9_CODE'].astype(str))\n",
    "\n",
    "# Create dummies for Gender\n",
    "gender_df =pd.get_dummies(df ['GENDER'],prefix='gender_', drop_first=True)\n",
    "\n",
    "# Create dummies for Age Group\n",
    "age_group_df =pd.get_dummies(df ['ICUSTAY_AGE_GROUP'], prefix='age_group_', drop_first=True)\n",
    "\n",
    "# Create dummies for Admission Type\n",
    "admtype_df =pd.get_dummies(df ['ADMISSION_TYPE'],prefix='ADMISSION_TYPE_', drop_first=True)\n",
    "\n",
    "# Create dummies for Insurance Type\n",
    "instype_df =pd.get_dummies(df ['INSURANCE'],prefix='INSURANCE_TYPE_', drop_first=True)\n",
    "\n",
    "# Creat dummies for car_unit\n",
    "care_unit = pd.get_dummies(df ['CURR_CAREUNIT'], prefix='careunit_', drop_first=True)\n",
    "\n",
    "# Merge all encoded variables\n",
    "df2 = pd.concat([df,gender_df,age_group_df,admtype_df,instype_df,care_unit], axis=1) #, diagnosis_binary\n"
   ]
  },
  {
   "cell_type": "code",
   "execution_count": 624,
   "metadata": {},
   "outputs": [],
   "source": [
    "# Dealing with time variables\n",
    "\n",
    "df2['OUTTIME'] = pd.to_datetime(df2['OUTTIME'],format='%Y-%m-%d')\n",
    "df2['INTIME'] = pd.to_datetime(df2['INTIME'],format='%Y-%m-%d')\n",
    "# df2['DOB'] = pd.to_datetime(df2['DOB'],format='%Y-%m-%d')\n",
    "\n",
    "# Shift timescale\n",
    "df2['INTIME_ACTUAL']= df2['INTIME']+ pd.to_timedelta(df2['DIFF'],unit='D')\n",
    "df2['OUTTIME_ACTUAL']= df2['OUTTIME']+ pd.to_timedelta(df2['DIFF'],unit='D')\n",
    "# df2['DOB_ACTUAL']= df2['DOB']+ pd.to_timedelta(df2['DIFF'],unit='D')"
   ]
  },
  {
   "cell_type": "code",
   "execution_count": 625,
   "metadata": {},
   "outputs": [],
   "source": [
    "df3 = df2.drop(['icustay_id', 'hospital_expire_flag','HOSPITAL_EXPIRE_FLAG',\n",
    "               'ICUSTAY_ID', 'SUBJECT_ID', 'HADM_ID', 'INTIME', 'OUTTIME', 'DIFF',\n",
    "               'LAST_WARDID', 'GENDER','DOB', 'ICD9_CODE', 'SHORT_TITLE',\n",
    "               'LONG_TITLE', 'SEQ_NUM', 'DEATHTIME','ICUSTAY_AGE_GROUP',\n",
    "               'INTIME_ACTUAL','OUTTIME_ACTUAL',\"ADMISSION_TYPE\",'INSURANCE','CURR_CAREUNIT'], axis=1)"
   ]
  },
  {
   "cell_type": "code",
   "execution_count": null,
   "metadata": {},
   "outputs": [],
   "source": []
  },
  {
   "cell_type": "code",
   "execution_count": null,
   "metadata": {},
   "outputs": [],
   "source": []
  },
  {
   "cell_type": "code",
   "execution_count": null,
   "metadata": {},
   "outputs": [],
   "source": []
  },
  {
   "cell_type": "code",
   "execution_count": 626,
   "metadata": {},
   "outputs": [],
   "source": [
    "# Prepare variables for model\n",
    "y=df3['icustay_expire_flag']\n",
    "X=df3.drop(['icustay_expire_flag'],axis=1)\n",
    "\n",
    "# Split data in train and test\n",
    "X_train, X_test, y_train, y_test = train_test_split(X, y, random_state=42)"
   ]
  },
  {
   "cell_type": "code",
   "execution_count": 627,
   "metadata": {},
   "outputs": [],
   "source": [
    "orig_index = X_train.index"
   ]
  },
  {
   "cell_type": "markdown",
   "metadata": {},
   "source": [
    "## Iterative Imputer"
   ]
  },
  {
   "cell_type": "code",
   "execution_count": 628,
   "metadata": {},
   "outputs": [],
   "source": [
    "from sklearn.experimental import enable_iterative_imputer  # noqa\n",
    "from sklearn.impute import IterativeImputer\n",
    "\n",
    "imp_iter = IterativeImputer(random_state=0)\n",
    "imp_iter.fit(X_train)\n",
    "X_train = imp_iter.transform(X_train)"
   ]
  },
  {
   "cell_type": "code",
   "execution_count": 629,
   "metadata": {},
   "outputs": [],
   "source": [
    "X_train = pd.DataFrame(X_train)\n",
    "X_train.columns = df3.drop(['icustay_expire_flag'],axis=1).columns"
   ]
  },
  {
   "cell_type": "code",
   "execution_count": 630,
   "metadata": {},
   "outputs": [],
   "source": [
    "X_train.index = orig_index"
   ]
  },
  {
   "cell_type": "code",
   "execution_count": 631,
   "metadata": {},
   "outputs": [],
   "source": [
    "X_test = imp_iter.transform(X_test)\n",
    "X_test = pd.DataFrame(X_test)\n",
    "X_test.columns = df3.drop(['icustay_expire_flag'],axis=1).columns"
   ]
  },
  {
   "cell_type": "code",
   "execution_count": 632,
   "metadata": {},
   "outputs": [],
   "source": [
    "#X_train.isnull().sum()"
   ]
  },
  {
   "cell_type": "code",
   "execution_count": 633,
   "metadata": {},
   "outputs": [
    {
     "data": {
      "text/plain": [
       "((13497,), (13497, 61))"
      ]
     },
     "execution_count": 633,
     "metadata": {},
     "output_type": "execute_result"
    }
   ],
   "source": [
    "y_train.shape, X_train.shape"
   ]
  },
  {
   "cell_type": "code",
   "execution_count": 634,
   "metadata": {},
   "outputs": [
    {
     "data": {
      "text/plain": [
       "0.07557234941098022"
      ]
     },
     "execution_count": 634,
     "metadata": {},
     "output_type": "execute_result"
    }
   ],
   "source": [
    "# Class imbalance\n",
    "np.mean(y_train)"
   ]
  },
  {
   "cell_type": "code",
   "execution_count": 635,
   "metadata": {},
   "outputs": [],
   "source": [
    "X_train_unbalanced, X_test_unbalanced, y_train_unbalanced, y_test_unbalanced = X_train, X_test, y_train, y_test"
   ]
  },
  {
   "cell_type": "code",
   "execution_count": 636,
   "metadata": {},
   "outputs": [],
   "source": [
    "# Remove some entries of class 0\n",
    "import random\n",
    "index_0 = [i for i in y_train[y_train == 0].index]\n",
    "index_1 = [i for i in y_train[y_train == 1].index]\n",
    "samp = random.sample(index_0, len(index_1))\n",
    "samp.extend(index_1)\n",
    "X_train = X_train.loc[samp,]\n",
    "y_train = y_train.loc[samp,]"
   ]
  },
  {
   "cell_type": "markdown",
   "metadata": {},
   "source": [
    "## Scaling"
   ]
  },
  {
   "cell_type": "code",
   "execution_count": 637,
   "metadata": {},
   "outputs": [],
   "source": [
    "# Choose columns to be scaled for X_train\n",
    "#scale_columns = ['age','preiculos', 'gcs', 'heartrate', 'meanbp', 'resprate', 'temp',\n",
    " #      'urineoutput', 'respiration',\n",
    " #      'coagulation', 'liver', 'cardiovascular', 'cns', 'renal'] #,'DAYS_FROM_ADMISSION'\n",
    "\n",
    "scale_columns = ['age','preiculos', 'gcs', 'heartrate', 'meanbp', 'resprate', 'temp',\n",
    "       'urineoutput', 'respiration',\n",
    "       'coagulation', 'liver', 'cardiovascular', 'cns', 'renal','mechvent',\n",
    "       'electivesurgery', 'subject_id', 'hadm_id', 'HeartRate_Min',\n",
    "       'HeartRate_Max', 'HeartRate_Mean', 'SysBP_Min', 'SysBP_Max',\n",
    "       'SysBP_Mean', 'DiasBP_Min', 'DiasBP_Max', 'DiasBP_Mean', 'MeanBP_Min',\n",
    "       'MeanBP_Max', 'MeanBP_Mean', 'RespRate_Min', 'RespRate_Max',\n",
    "       'RespRate_Mean', 'TempC_Min', 'TempC_Max', 'TempC_Mean', 'SpO2_Min',\n",
    "       'SpO2_Max', 'SpO2_Mean', 'Glucose_Min', 'Glucose_Max', 'Glucose_Mean'] #,'DAYS_FROM_ADMISSION'\n",
    "\n",
    "\n",
    "scale_df = X_train[scale_columns]\n",
    "\n",
    "# Seperate the non-scaled columns (dummies) X_train\n",
    "temp = X_train.drop(scale_columns,axis=1)\n",
    "temp = temp.reset_index(drop=True)\n",
    "\n",
    "# Apply actual scaling to X_train\n",
    "scaler = preprocessing.StandardScaler().fit(scale_df) \n",
    "scale_tr = scaler.transform(scale_df) \n",
    "scale_df = pd.DataFrame(scale_tr,columns=scale_columns)\n",
    "\n",
    "# Add the non-scaled and scaled dataframes back together\n",
    "X_train = pd.concat([scale_df,temp], axis=1) \n",
    "\n",
    "#Choose columns to be scaled for X_test\n",
    "scale_df2 = X_test[scale_columns]\n",
    "\n",
    "# Seperate the non-scaled columns (dummies) X_test\n",
    "temp2 = X_test.drop(scale_columns,axis=1)\n",
    "temp2 = temp2.reset_index(drop=True)\n",
    "\n",
    "# Apply actual scaling to X_test\n",
    "# scaler2 = preprocessing.StandardScaler().fit(scale_df2) \n",
    "scale_tr2= scaler.transform(scale_df2) \n",
    "scale_df2=pd.DataFrame(scale_tr2,columns=scale_columns)\n",
    "\n",
    "# Add the non-scaled and scaled dataframes back together X_test\n",
    "X_test = pd.concat([scale_df2,temp2], axis=1) "
   ]
  },
  {
   "cell_type": "code",
   "execution_count": null,
   "metadata": {},
   "outputs": [],
   "source": []
  },
  {
   "cell_type": "markdown",
   "metadata": {},
   "source": [
    "# Models"
   ]
  },
  {
   "cell_type": "markdown",
   "metadata": {},
   "source": [
    "## Lasso"
   ]
  },
  {
   "cell_type": "code",
   "execution_count": 638,
   "metadata": {},
   "outputs": [
    {
     "name": "stderr",
     "output_type": "stream",
     "text": [
      "/Users/keyvanamini/anaconda3/lib/python3.7/site-packages/sklearn/model_selection/_split.py:1978: FutureWarning: The default value of cv will change from 3 to 5 in version 0.22. Specify it explicitly to silence this warning.\n",
      "  warnings.warn(CV_WARNING, FutureWarning)\n"
     ]
    }
   ],
   "source": [
    "#Applying Lasso\n",
    "model_lasso = LassoCV(alphas=[1,0.1,0.01,0.0005]).fit(X_train, y_train) #variating through different alphas\n",
    "coef = pd.Series(model_lasso.coef_, index = X_train.columns)\n",
    "#y_pred_lasso = model_lasso.predict(X_test)"
   ]
  },
  {
   "cell_type": "code",
   "execution_count": 639,
   "metadata": {},
   "outputs": [],
   "source": [
    "df_coefs= coef"
   ]
  },
  {
   "cell_type": "code",
   "execution_count": 640,
   "metadata": {},
   "outputs": [
    {
     "data": {
      "text/plain": [
       "gcs                         -0.104065\n",
       "careunit__CSRU              -0.078225\n",
       "cns                         -0.058356\n",
       "age_group__>89              -0.051855\n",
       "SpO2_Min                    -0.042078\n",
       "                               ...   \n",
       "mechvent                     0.114902\n",
       "age_group__65-89             0.122361\n",
       "DEATHRATE_CAT__2.0           0.144032\n",
       "careunit__SICU               0.145511\n",
       "ADMISSION_TYPE__EMERGENCY    0.241357\n",
       "Length: 61, dtype: float64"
      ]
     },
     "execution_count": 640,
     "metadata": {},
     "output_type": "execute_result"
    }
   ],
   "source": [
    "df_coefs.sort_values(ascending=True)"
   ]
  },
  {
   "cell_type": "markdown",
   "metadata": {},
   "source": [
    "## Random Forest"
   ]
  },
  {
   "cell_type": "code",
   "execution_count": 641,
   "metadata": {},
   "outputs": [],
   "source": [
    "# IMPORTANT!!!!\n",
    "# But one-hot encoding also presents two problems that are more particular to tree-based models:\n",
    "# The resulting sparsity virtually ensures that continuous variables are assigned higher feature importance.\n",
    "# A single level of a categorical variable must meet a very high bar in order to be selected for splitting early in the tree building. This can degrade predictive performance.\n",
    "\n",
    "feature_names = X_train.columns\n",
    "forest = RandomForestClassifier(n_estimators=20)  #Setting n_estimator to prevent overfitting\n",
    "forest_fitted = forest.fit(X_train, y_train) \n",
    "scores = cross_val_score(forest, X_train, y_train, cv=5)\n",
    "y_pred_forest = forest.predict(X_test)\n",
    "y_pred_prob = forest.predict_proba(X_test)"
   ]
  },
  {
   "cell_type": "code",
   "execution_count": 642,
   "metadata": {
    "scrolled": false
   },
   "outputs": [
    {
     "name": "stdout",
     "output_type": "stream",
     "text": [
      "Accuracy: 0.83 (+/- 0.03)\n"
     ]
    },
    {
     "data": {
      "text/plain": [
       "urineoutput                 1.000000\n",
       "LOS                         0.933208\n",
       "SpO2_Min                    0.819419\n",
       "mechvent                    0.779377\n",
       "SysBP_Min                   0.705981\n",
       "                              ...   \n",
       "careunit__SICU              0.020819\n",
       "careunit__TSICU             0.018051\n",
       "DEATHRATE_INT_CAT__2.0      0.016745\n",
       "ADMISSION_TYPE__URGENT      0.014981\n",
       "INSURANCE_TYPE__Self Pay    0.001440\n",
       "Length: 61, dtype: float64"
      ]
     },
     "execution_count": 642,
     "metadata": {},
     "output_type": "execute_result"
    }
   ],
   "source": [
    "# Step 5: Assess expected accuracy\n",
    "print(\"Accuracy: %0.2f (+/- %0.2f)\" % (scores.mean(), scores.std() * 2))\n",
    "\n",
    "# Step 6: Assess variable importance\n",
    "importances = forest_fitted.feature_importances_\n",
    "important_features = pd.Series(data=importances/importances.max() ,index=feature_names)\n",
    "important_features.sort_values(ascending=False)"
   ]
  },
  {
   "cell_type": "code",
   "execution_count": 643,
   "metadata": {},
   "outputs": [],
   "source": [
    "def reweight(pi,q1=0.5,r1=0.5):\n",
    "    r0 = 1-r1\n",
    "    q0 = 1-q1\n",
    "    tot = pi*(q1/r1)+(1-pi)*(q0/r0)\n",
    "    w = pi*(q1/r1)\n",
    "    w /= tot\n",
    "    return w\n",
    "\n",
    "q1 = 0.1 # population\n",
    "r1 = 0.5 # training set\n",
    "\n",
    "# Reweight class prediction probability\n",
    "\n",
    "\n",
    "pred_rew_prob = reweight(y_pred_prob[:,1], q1, r1) #[i for i in \n",
    "# y_pred_prob = np.append(y_pred_prob, np.atleast_2d(pred_rew_prob).T, axis=1)\n",
    "# Classification\n",
    "pred_rew = [1 if i>0.5 else 0 for i in pred_rew_prob]\n",
    "\n",
    "pred_prob = y_pred_prob[:,1]"
   ]
  },
  {
   "cell_type": "code",
   "execution_count": 644,
   "metadata": {},
   "outputs": [
    {
     "name": "stdout",
     "output_type": "stream",
     "text": [
      "AUC:  0.9149119579394586\n"
     ]
    },
    {
     "data": {
      "image/png": "[encoded data removed]",
      "text/plain": [
       "<Figure size 432x288 with 1 Axes>"
      ]
     },
     "metadata": {},
     "output_type": "display_data"
    }
   ],
   "source": [
    "fpr, tpr, _ = roc_curve(y_test == 1, pred_rew_prob)\n",
    "roc_auc = roc_auc_score(y_test, pred_rew_prob)\n",
    "print (\"AUC: \", roc_auc)\n",
    "plt.plot(fpr, tpr, label='ROC curve (area = %0.2f)' % roc_auc)\n",
    "plt.plot([0, 1], [0, 1], linestyle='--')\n",
    "plt.xlim([0.0, 1.0])\n",
    "plt.ylim([0.0, 1.0])\n",
    "plt.xlabel('False Positive Rate')\n",
    "plt.ylabel('True Positive Rate')\n",
    "plt.title('Receiver operating characteristic example')\n",
    "plt.legend(loc=\"lower right\")\n",
    "plt.show()"
   ]
  },
  {
   "cell_type": "code",
   "execution_count": 645,
   "metadata": {},
   "outputs": [
    {
     "name": "stdout",
     "output_type": "stream",
     "text": [
      "Recall Score:\n",
      "0.8440111420612814\n",
      "Precision Score:\n",
      "0.31962025316455694\n",
      "Confusion matrix\n"
     ]
    },
    {
     "data": {
      "text/plain": [
       "array([[3496,  645],\n",
       "       [  56,  303]])"
      ]
     },
     "execution_count": 645,
     "metadata": {},
     "output_type": "execute_result"
    }
   ],
   "source": [
    "print(\"Recall Score:\")\n",
    "print(recall_score(y_test,y_pred_forest))\n",
    "print(\"Precision Score:\")\n",
    "print(precision_score(y_test,y_pred_forest))\n",
    "print(\"Confusion matrix\")\n",
    "confusion_matrix(y_test,y_pred_forest)"
   ]
  },
  {
   "cell_type": "code",
   "execution_count": 646,
   "metadata": {},
   "outputs": [
    {
     "data": {
      "text/plain": [
       "0.5505932613115663"
      ]
     },
     "execution_count": 646,
     "metadata": {},
     "output_type": "execute_result"
    }
   ],
   "source": [
    "precision, recall, thresholds = precision_recall_curve(y_test,pred_prob)\n",
    "auc(recall, precision)"
   ]
  },
  {
   "cell_type": "code",
   "execution_count": 647,
   "metadata": {},
   "outputs": [
    {
     "name": "stdout",
     "output_type": "stream",
     "text": [
      "Recall Score:\n",
      "0.25348189415041783\n",
      "Precision Score:\n",
      "0.7165354330708661\n",
      "Confusion matrix\n"
     ]
    },
    {
     "data": {
      "text/plain": [
       "array([[4105,   36],\n",
       "       [ 268,   91]])"
      ]
     },
     "execution_count": 647,
     "metadata": {},
     "output_type": "execute_result"
    }
   ],
   "source": [
    "print(\"Recall Score:\")\n",
    "print(recall_score(y_test,pred_rew))\n",
    "print(\"Precision Score:\")\n",
    "print(precision_score(y_test,pred_rew))\n",
    "print(\"Confusion matrix\")\n",
    "confusion_matrix(y_test,pred_rew)"
   ]
  },
  {
   "cell_type": "code",
   "execution_count": 648,
   "metadata": {},
   "outputs": [
    {
     "data": {
      "text/plain": [
       "0.5505932613115663"
      ]
     },
     "execution_count": 648,
     "metadata": {},
     "output_type": "execute_result"
    }
   ],
   "source": [
    "precision, recall, thresholds = precision_recall_curve(y_test,pred_rew_prob)\n",
    "auc(recall, precision)"
   ]
  },
  {
   "cell_type": "code",
   "execution_count": 649,
   "metadata": {},
   "outputs": [],
   "source": [
    "thresh = np.arange(0,1,.05)\n",
    "scores = []\n",
    "\n",
    "for t in thresh:\n",
    "    preds = [1 if i>t else 0 for i in pred_rew_prob]\n",
    "    scores.append(f1_score(y_test, preds))"
   ]
  },
  {
   "cell_type": "code",
   "execution_count": 650,
   "metadata": {
    "scrolled": true
   },
   "outputs": [
    {
     "name": "stdout",
     "output_type": "stream",
     "text": [
      "0.2\n"
     ]
    },
    {
     "data": {
      "text/plain": [
       "[<matplotlib.lines.Line2D at 0x132477438>]"
      ]
     },
     "execution_count": 650,
     "metadata": {},
     "output_type": "execute_result"
    },
    {
     "data": {
      "image/png": "[encoded data removed]",
      "text/plain": [
       "<Figure size 432x288 with 1 Axes>"
      ]
     },
     "metadata": {},
     "output_type": "display_data"
    }
   ],
   "source": [
    "print(thresh[np.argmax(scores)])\n",
    "plt.plot(thresh,scores)"
   ]
  },
  {
   "cell_type": "code",
   "execution_count": 651,
   "metadata": {},
   "outputs": [
    {
     "name": "stdout",
     "output_type": "stream",
     "text": [
      "Recall Score:\n",
      "0.6183844011142061\n",
      "Precision Score:\n",
      "0.4530612244897959\n",
      "Confusion matrix\n"
     ]
    },
    {
     "data": {
      "text/plain": [
       "array([[3873,  268],\n",
       "       [ 137,  222]])"
      ]
     },
     "execution_count": 651,
     "metadata": {},
     "output_type": "execute_result"
    }
   ],
   "source": [
    "pred_rew_best = [1 if i>thresh[np.argmax(scores)] else 0 for i in pred_rew_prob]\n",
    "print(\"Recall Score:\")\n",
    "print(recall_score(y_test,pred_rew_best))\n",
    "print(\"Precision Score:\")\n",
    "print(precision_score(y_test,pred_rew_best))\n",
    "print(\"Confusion matrix\")\n",
    "confusion_matrix(y_test,pred_rew_best)"
   ]
  },
  {
   "cell_type": "markdown",
   "metadata": {},
   "source": [
    "## Gradient Boosting"
   ]
  },
  {
   "cell_type": "code",
   "execution_count": 652,
   "metadata": {},
   "outputs": [],
   "source": [
    "feature_names = X_train.columns\n",
    "tree = GradientBoostingClassifier(n_estimators=50)  #Setting n_estimator to prevent overfitting\n",
    "tree_fitted = tree.fit(X_train, y_train) \n",
    "scores = cross_val_score(tree, X_train, y_train, cv=5)\n",
    "y_pred_tree = tree.predict(X_test)\n",
    "y_pred_prob_tree = tree.predict_proba(X_test)\n",
    " \n",
    "scores = cross_val_score(tree, X_train, y_train, cv=5)\n",
    "y_pred_tree = tree.predict(X_test)\n",
    "y_pred_prob_tree = tree.predict_proba(X_test)"
   ]
  },
  {
   "cell_type": "code",
   "execution_count": 653,
   "metadata": {},
   "outputs": [
    {
     "name": "stdout",
     "output_type": "stream",
     "text": [
      "Accuracy: 0.85 (+/- 0.03)\n"
     ]
    },
    {
     "data": {
      "text/plain": [
       "mechvent                    1.000000\n",
       "DEATHRATE_CAT__2.0          0.754500\n",
       "DEATHRATE_CAT__1.0          0.624390\n",
       "SpO2_Min                    0.605602\n",
       "urineoutput                 0.542353\n",
       "                              ...   \n",
       "INSURANCE_TYPE__Medicare    0.000000\n",
       "DiasBP_Mean                 0.000000\n",
       "INSURANCE_TYPE__Private     0.000000\n",
       "careunit__MICU              0.000000\n",
       "subject_id                  0.000000\n",
       "Length: 61, dtype: float64"
      ]
     },
     "execution_count": 653,
     "metadata": {},
     "output_type": "execute_result"
    }
   ],
   "source": [
    "# Step 5: Assess expected accuracy\n",
    "print(\"Accuracy: %0.2f (+/- %0.2f)\" % (scores.mean(), scores.std() * 2))\n",
    "\n",
    "# Step 6: Assess variable importance\n",
    "importances = tree_fitted.feature_importances_\n",
    "important_features = pd.Series(data=importances/importances.max() ,index=feature_names)\n",
    "important_features.sort_values(ascending=False)"
   ]
  },
  {
   "cell_type": "code",
   "execution_count": 654,
   "metadata": {},
   "outputs": [],
   "source": [
    "def reweight(pi,q1=0.5,r1=0.5):\n",
    "    r0 = 1-r1\n",
    "    q0 = 1-q1\n",
    "    tot = pi*(q1/r1)+(1-pi)*(q0/r0)\n",
    "    w = pi*(q1/r1)\n",
    "    w /= tot\n",
    "    return w\n",
    "\n",
    "q1 = 0.1 # population\n",
    "r1 = 0.5 # training set\n",
    "\n",
    "# Reweight class prediction probability\n",
    "\n",
    "\n",
    "pred_rew_prob = reweight(y_pred_prob_tree[:,1], q1, r1) #[i for i in \n",
    "# y_pred_prob = np.append(y_pred_prob, np.atleast_2d(pred_rew_prob).T, axis=1)\n",
    "# Classification\n",
    "pred_rew = [1 if i>0.5 else 0 for i in pred_rew_prob]\n",
    "\n",
    "pred_prob = y_pred_prob_tree[:,1]"
   ]
  },
  {
   "cell_type": "code",
   "execution_count": 655,
   "metadata": {},
   "outputs": [
    {
     "name": "stdout",
     "output_type": "stream",
     "text": [
      "AUC:  0.9292374172535128\n"
     ]
    },
    {
     "data": {
      "image/png": "[encoded data removed]",
      "text/plain": [
       "<Figure size 432x288 with 1 Axes>"
      ]
     },
     "metadata": {},
     "output_type": "display_data"
    }
   ],
   "source": [
    "fpr, tpr, _ = roc_curve(y_test == 1, pred_rew_prob)\n",
    "roc_auc = roc_auc_score(y_test, pred_rew_prob)\n",
    "print (\"AUC: \", roc_auc)\n",
    "plt.plot(fpr, tpr, label='ROC curve (area = %0.2f)' % roc_auc)\n",
    "plt.plot([0, 1], [0, 1], linestyle='--')\n",
    "plt.xlim([0.0, 1.0])\n",
    "plt.ylim([0.0, 1.0])\n",
    "plt.xlabel('False Positive Rate')\n",
    "plt.ylabel('True Positive Rate')\n",
    "plt.title('Receiver operating characteristic example')\n",
    "plt.legend(loc=\"lower right\")\n",
    "plt.show()"
   ]
  },
  {
   "cell_type": "code",
   "execution_count": 656,
   "metadata": {},
   "outputs": [
    {
     "name": "stdout",
     "output_type": "stream",
     "text": [
      "Recall Score:\n",
      "0.8467966573816156\n",
      "Precision Score:\n",
      "0.346636259977195\n",
      "Confusion matrix\n"
     ]
    },
    {
     "data": {
      "text/plain": [
       "array([[3568,  573],\n",
       "       [  55,  304]])"
      ]
     },
     "execution_count": 656,
     "metadata": {},
     "output_type": "execute_result"
    }
   ],
   "source": [
    "print(\"Recall Score:\")\n",
    "print(recall_score(y_test,y_pred_tree))\n",
    "print(\"Precision Score:\")\n",
    "print(precision_score(y_test,y_pred_tree))\n",
    "print(\"Confusion matrix\")\n",
    "confusion_matrix(y_test,y_pred_tree)"
   ]
  },
  {
   "cell_type": "code",
   "execution_count": 657,
   "metadata": {},
   "outputs": [
    {
     "data": {
      "text/plain": [
       "0.630349322124315"
      ]
     },
     "execution_count": 657,
     "metadata": {},
     "output_type": "execute_result"
    }
   ],
   "source": [
    "precision, recall, thresholds = precision_recall_curve(y_test,pred_prob)\n",
    "auc(recall, precision)"
   ]
  },
  {
   "cell_type": "code",
   "execution_count": 658,
   "metadata": {},
   "outputs": [
    {
     "name": "stdout",
     "output_type": "stream",
     "text": [
      "Recall Score:\n",
      "0.31754874651810583\n",
      "Precision Score:\n",
      "0.8085106382978723\n",
      "Confusion matrix\n"
     ]
    },
    {
     "data": {
      "text/plain": [
       "array([[4114,   27],\n",
       "       [ 245,  114]])"
      ]
     },
     "execution_count": 658,
     "metadata": {},
     "output_type": "execute_result"
    }
   ],
   "source": [
    "print(\"Recall Score:\")\n",
    "print(recall_score(y_test,pred_rew))\n",
    "print(\"Precision Score:\")\n",
    "print(precision_score(y_test,pred_rew))\n",
    "print(\"Confusion matrix\")\n",
    "confusion_matrix(y_test,pred_rew)"
   ]
  },
  {
   "cell_type": "code",
   "execution_count": 659,
   "metadata": {},
   "outputs": [
    {
     "data": {
      "text/plain": [
       "0.630349322124315"
      ]
     },
     "execution_count": 659,
     "metadata": {},
     "output_type": "execute_result"
    }
   ],
   "source": [
    "precision, recall, thresholds = precision_recall_curve(y_test,pred_rew_prob)\n",
    "auc(recall, precision)"
   ]
  },
  {
   "cell_type": "code",
   "execution_count": 660,
   "metadata": {},
   "outputs": [
    {
     "name": "stderr",
     "output_type": "stream",
     "text": [
      "/Users/keyvanamini/anaconda3/lib/python3.7/site-packages/sklearn/metrics/classification.py:1437: UndefinedMetricWarning: F-score is ill-defined and being set to 0.0 due to no predicted samples.\n",
      "  'precision', 'predicted', average, warn_for)\n"
     ]
    }
   ],
   "source": [
    "thresh = np.arange(0,1,.05)\n",
    "scores = []\n",
    "\n",
    "for t in thresh:\n",
    "    preds = [1 if i>t else 0 for i in pred_rew_prob]\n",
    "    scores.append(f1_score(y_test, preds))"
   ]
  },
  {
   "cell_type": "code",
   "execution_count": 661,
   "metadata": {
    "scrolled": true
   },
   "outputs": [
    {
     "name": "stdout",
     "output_type": "stream",
     "text": [
      "0.25\n"
     ]
    },
    {
     "data": {
      "text/plain": [
       "[<matplotlib.lines.Line2D at 0x12a0c5668>]"
      ]
     },
     "execution_count": 661,
     "metadata": {},
     "output_type": "execute_result"
    },
    {
     "data": {
      "image/png": "[encoded data removed]",
      "text/plain": [
       "<Figure size 432x288 with 1 Axes>"
      ]
     },
     "metadata": {},
     "output_type": "display_data"
    }
   ],
   "source": [
    "print(thresh[np.argmax(scores)])\n",
    "plt.plot(thresh,scores)"
   ]
  },
  {
   "cell_type": "code",
   "execution_count": 662,
   "metadata": {},
   "outputs": [
    {
     "name": "stdout",
     "output_type": "stream",
     "text": [
      "Recall Score:\n",
      "0.6100278551532033\n",
      "Precision Score:\n",
      "0.5718015665796344\n",
      "Confusion matrix\n"
     ]
    },
    {
     "data": {
      "text/plain": [
       "array([[3977,  164],\n",
       "       [ 140,  219]])"
      ]
     },
     "execution_count": 662,
     "metadata": {},
     "output_type": "execute_result"
    }
   ],
   "source": [
    "pred_rew_best = [1 if i>thresh[np.argmax(scores)] else 0 for i in pred_rew_prob]\n",
    "print(\"Recall Score:\")\n",
    "print(recall_score(y_test,pred_rew_best))\n",
    "print(\"Precision Score:\")\n",
    "print(precision_score(y_test,pred_rew_best))\n",
    "print(\"Confusion matrix\")\n",
    "confusion_matrix(y_test,pred_rew_best)"
   ]
  },
  {
   "cell_type": "markdown",
   "metadata": {},
   "source": [
    "## XGBOOST"
   ]
  },
  {
   "cell_type": "code",
   "execution_count": 663,
   "metadata": {},
   "outputs": [],
   "source": [
    "# feature importance\n",
    "xgb_model = xgb.XGBClassifier(base_score=0.5, booster='gbtree',\n",
    "                                     colsample_bylevel=1, colsample_bynode=1,\n",
    "                                     colsample_bytree=0.8, gamma=0,\n",
    "                                     learning_rate=0.1, max_delta_step=0,\n",
    "                                     max_depth=5, min_child_weight=1,\n",
    "                                     missing=None, n_estimators=140, n_jobs=1,\n",
    "                                     nthread=4, objective='binary:logistic',\n",
    "                                     random_state=0, reg_alpha=0, reg_lambda=1,\n",
    "                                     scale_pos_weight=1, seed=27, silent=None,\n",
    "                                     subsample=0.8, verbosity=1)\n",
    "\n",
    "xgb_model.fit(X_train,y_train)\n",
    "\n",
    "y_pred_xgb = xgb_model.predict(X_test)\n",
    "y_pred_prob_xgb = xgb_model.predict_proba(X_test)\n",
    "scores = cross_val_score(xgb_model, X_train, y_train, cv=5)\n",
    "y_pred_xgb = xgb_model.predict(X_test)\n",
    "y_pred_prob_xgb = xgb_model.predict_proba(X_test)"
   ]
  },
  {
   "cell_type": "code",
   "execution_count": 664,
   "metadata": {},
   "outputs": [
    {
     "name": "stdout",
     "output_type": "stream",
     "text": [
      "Accuracy: 0.86 (+/- 0.01)\n"
     ]
    },
    {
     "data": {
      "text/plain": [
       "mechvent                     1.000000\n",
       "DEATHRATE_CAT__2.0           0.915711\n",
       "cardiovascular               0.832860\n",
       "DEATHRATE_CAT__1.0           0.709884\n",
       "ADMISSION_TYPE__EMERGENCY    0.569324\n",
       "                               ...   \n",
       "DEATHRATE_INT_CAT__1.0       0.000000\n",
       "ADMISSION_TYPE__URGENT       0.000000\n",
       "INSURANCE_TYPE__Medicaid     0.000000\n",
       "INSURANCE_TYPE__Self Pay     0.000000\n",
       "DEATHRATE_INT_CAT__2.0       0.000000\n",
       "Length: 61, dtype: float32"
      ]
     },
     "execution_count": 664,
     "metadata": {},
     "output_type": "execute_result"
    }
   ],
   "source": [
    "print(\"Accuracy: %0.2f (+/- %0.2f)\" % (scores.mean(), scores.std() * 2))\n",
    "\n",
    "importances = xgb_model.feature_importances_\n",
    "important_features = pd.Series(data=importances/importances.max() ,index=feature_names)\n",
    "important_features.sort_values(ascending=False)"
   ]
  },
  {
   "cell_type": "code",
   "execution_count": 665,
   "metadata": {},
   "outputs": [],
   "source": [
    "q1 = 0.1 # population\n",
    "r1 = 0.5 # training set\n",
    "\n",
    "# Reweight class prediction probability\n",
    "\n",
    "pred_rew_prob = reweight(y_pred_prob_xgb[:,1], q1, r1) #[i for i in \n",
    "# y_pred_prob = np.append(y_pred_prob, np.atleast_2d(pred_rew_prob).T, axis=1)\n",
    "# Classification\n",
    "pred_rew = [1 if i>0.5 else 0 for i in pred_rew_prob]\n",
    "\n",
    "pred_prob = y_pred_prob_xgb[:,1]"
   ]
  },
  {
   "cell_type": "code",
   "execution_count": 666,
   "metadata": {},
   "outputs": [
    {
     "name": "stdout",
     "output_type": "stream",
     "text": [
      "AUC:  0.9406236567674704\n"
     ]
    },
    {
     "data": {
      "image/png": "[encoded data removed]",
      "text/plain": [
       "<Figure size 432x288 with 1 Axes>"
      ]
     },
     "metadata": {},
     "output_type": "display_data"
    }
   ],
   "source": [
    "fpr, tpr, _ = roc_curve(y_test == 1, pred_rew_prob)\n",
    "roc_auc = roc_auc_score(y_test, pred_rew_prob)\n",
    "print (\"AUC: \", roc_auc)\n",
    "plt.plot(fpr, tpr, label='ROC curve (area = %0.2f)' % roc_auc)\n",
    "plt.plot([0, 1], [0, 1], linestyle='--')\n",
    "plt.xlim([0.0, 1.0])\n",
    "plt.ylim([0.0, 1.0])\n",
    "plt.xlabel('False Positive Rate')\n",
    "plt.ylabel('True Positive Rate')\n",
    "plt.title('Receiver operating characteristic example')\n",
    "plt.legend(loc=\"lower right\")\n",
    "plt.show()"
   ]
  },
  {
   "cell_type": "code",
   "execution_count": 667,
   "metadata": {},
   "outputs": [
    {
     "name": "stdout",
     "output_type": "stream",
     "text": [
      "Recall Score:\n",
      "0.8802228412256268\n",
      "Precision Score:\n",
      "0.3511111111111111\n",
      "Confusion matrix\n"
     ]
    }
   ],
   "source": [
    "print(\"Recall Score:\")\n",
    "print(recall_score(y_test,y_pred_xgb))\n",
    "print(\"Precision Score:\")\n",
    "print(precision_score(y_test,y_pred_xgb))\n",
    "print(\"Confusion matrix\")\n",
    "cm=confusion_matrix(y_test,y_pred_xgb)"
   ]
  },
  {
   "cell_type": "code",
   "execution_count": 668,
   "metadata": {},
   "outputs": [
    {
     "data": {
      "image/png": "[encoded data removed]",
      "text/plain": [
       "<Figure size 432x288 with 2 Axes>"
      ]
     },
     "metadata": {},
     "output_type": "display_data"
    },
    {
     "data": {
      "text/plain": [
       "<Figure size 720x504 with 0 Axes>"
      ]
     },
     "metadata": {},
     "output_type": "display_data"
    }
   ],
   "source": [
    "plot_confusion_matrix(cm,[\"0\", \"1\"])"
   ]
  },
  {
   "cell_type": "code",
   "execution_count": 669,
   "metadata": {},
   "outputs": [
    {
     "data": {
      "text/plain": [
       "0.6771882558885125"
      ]
     },
     "execution_count": 669,
     "metadata": {},
     "output_type": "execute_result"
    }
   ],
   "source": [
    "precision, recall, thresholds = precision_recall_curve(y_test,pred_prob)\n",
    "auc(recall, precision)"
   ]
  },
  {
   "cell_type": "code",
   "execution_count": 670,
   "metadata": {},
   "outputs": [
    {
     "name": "stdout",
     "output_type": "stream",
     "text": [
      "Recall Score:\n",
      "0.6128133704735376\n",
      "Precision Score:\n",
      "0.6376811594202898\n",
      "Confusion matrix\n"
     ]
    },
    {
     "data": {
      "text/plain": [
       "array([[4016,  125],\n",
       "       [ 139,  220]])"
      ]
     },
     "execution_count": 670,
     "metadata": {},
     "output_type": "execute_result"
    }
   ],
   "source": [
    "print(\"Recall Score:\")\n",
    "print(recall_score(y_test,pred_rew))\n",
    "print(\"Precision Score:\")\n",
    "print(precision_score(y_test,pred_rew))\n",
    "print(\"Confusion matrix\")\n",
    "confusion_matrix(y_test,pred_rew)"
   ]
  },
  {
   "cell_type": "code",
   "execution_count": 671,
   "metadata": {},
   "outputs": [
    {
     "data": {
      "text/plain": [
       "0.6771882558885125"
      ]
     },
     "execution_count": 671,
     "metadata": {},
     "output_type": "execute_result"
    }
   ],
   "source": [
    "precision, recall, thresholds = precision_recall_curve(y_test,pred_rew_prob)\n",
    "auc(recall, precision)"
   ]
  },
  {
   "cell_type": "code",
   "execution_count": 672,
   "metadata": {},
   "outputs": [],
   "source": [
    "thresh = np.arange(0,1,.05)\n",
    "scores = []\n",
    "\n",
    "for t in thresh:\n",
    "    preds = [1 if i>t else 0 for i in pred_rew_prob]\n",
    "    scores.append(f1_score(y_test, preds))"
   ]
  },
  {
   "cell_type": "code",
   "execution_count": 673,
   "metadata": {
    "scrolled": true
   },
   "outputs": [
    {
     "name": "stdout",
     "output_type": "stream",
     "text": [
      "0.55\n"
     ]
    },
    {
     "data": {
      "text/plain": [
       "[<matplotlib.lines.Line2D at 0x134393860>]"
      ]
     },
     "execution_count": 673,
     "metadata": {},
     "output_type": "execute_result"
    },
    {
     "data": {
      "image/png": "[encoded data removed]",
      "text/plain": [
       "<Figure size 432x288 with 1 Axes>"
      ]
     },
     "metadata": {},
     "output_type": "display_data"
    }
   ],
   "source": [
    "print(thresh[np.argmax(scores)])\n",
    "plt.plot(thresh,scores)"
   ]
  },
  {
   "cell_type": "code",
   "execution_count": 674,
   "metadata": {},
   "outputs": [
    {
     "name": "stdout",
     "output_type": "stream",
     "text": [
      "Recall Score:\n",
      "0.5933147632311978\n",
      "Precision Score:\n",
      "0.6677115987460815\n",
      "Confusion matrix\n"
     ]
    },
    {
     "data": {
      "text/plain": [
       "array([[4035,  106],\n",
       "       [ 146,  213]])"
      ]
     },
     "execution_count": 674,
     "metadata": {},
     "output_type": "execute_result"
    }
   ],
   "source": [
    "pred_rew_best = [1 if i>thresh[np.argmax(scores)] else 0 for i in pred_rew_prob]\n",
    "print(\"Recall Score:\")\n",
    "print(recall_score(y_test,pred_rew_best))\n",
    "print(\"Precision Score:\")\n",
    "print(precision_score(y_test,pred_rew_best))\n",
    "print(\"Confusion matrix\")\n",
    "confusion_matrix(y_test,pred_rew_best)"
   ]
  },
  {
   "cell_type": "markdown",
   "metadata": {},
   "source": [
    "## SVC"
   ]
  },
  {
   "cell_type": "code",
   "execution_count": 710,
   "metadata": {},
   "outputs": [],
   "source": [
    "svm_model = SVC(C=10, kernel='linear', probability=True, gamma='scale', random_state=1)\n",
    "svm_model.fit(X_train, y_train)\n",
    "y_pred_svm = svm_model.predict(X_test)\n",
    "y_pred_prob_svm = svm_model.predict_proba(X_test)\n",
    "scores = cross_val_score(svm_model, X_train, y_train, cv=5)"
   ]
  },
  {
   "cell_type": "code",
   "execution_count": 711,
   "metadata": {},
   "outputs": [
    {
     "name": "stdout",
     "output_type": "stream",
     "text": [
      "Accuracy: 0.84 (+/- 0.05)\n"
     ]
    }
   ],
   "source": [
    "print(\"Accuracy: %0.2f (+/- %0.2f)\" % (scores.mean(), scores.std() * 2))\n",
    "\n",
    "#importances = svm_model.feature_importances_\n",
    "#important_features = pd.Series(data=importances/importances.max() ,index=feature_names)\n",
    "#important_features.sort_values(ascending=False)"
   ]
  },
  {
   "cell_type": "code",
   "execution_count": 712,
   "metadata": {},
   "outputs": [],
   "source": [
    "q1 = 0.1 # population\n",
    "r1 = 0.5 # training set\n",
    "\n",
    "# Reweight class prediction probability\n",
    "\n",
    "pred_rew_prob = reweight(y_pred_prob_svm[:,1], q1, r1) #[i for i in \n",
    "# y_pred_prob = np.append(y_pred_prob, np.atleast_2d(pred_rew_prob).T, axis=1)\n",
    "# Classification\n",
    "pred_rew = [1 if i>0.5 else 0 for i in pred_rew_prob]\n",
    "\n",
    "pred_prob = y_pred_prob_svm[:,1]"
   ]
  },
  {
   "cell_type": "code",
   "execution_count": 713,
   "metadata": {},
   "outputs": [
    {
     "name": "stdout",
     "output_type": "stream",
     "text": [
      "AUC:  0.9191110836064923\n"
     ]
    },
    {
     "data": {
      "image/png": "[encoded data removed]",
      "text/plain": [
       "<Figure size 432x288 with 1 Axes>"
      ]
     },
     "metadata": {},
     "output_type": "display_data"
    }
   ],
   "source": [
    "fpr, tpr, _ = roc_curve(y_test == 1, pred_rew_prob)\n",
    "roc_auc = roc_auc_score(y_test, pred_rew_prob)\n",
    "print (\"AUC: \", roc_auc)\n",
    "plt.plot(fpr, tpr, label='ROC curve (area = %0.2f)' % roc_auc)\n",
    "plt.plot([0, 1], [0, 1], linestyle='--')\n",
    "plt.xlim([0.0, 1.0])\n",
    "plt.ylim([0.0, 1.0])\n",
    "plt.xlabel('False Positive Rate')\n",
    "plt.ylabel('True Positive Rate')\n",
    "plt.title('Receiver operating characteristic example')\n",
    "plt.legend(loc=\"lower right\")\n",
    "plt.show()"
   ]
  },
  {
   "cell_type": "code",
   "execution_count": 714,
   "metadata": {},
   "outputs": [
    {
     "name": "stdout",
     "output_type": "stream",
     "text": [
      "Recall Score:\n",
      "0.8245125348189415\n",
      "Precision Score:\n",
      "0.3337091319052988\n",
      "Confusion matrix\n"
     ]
    }
   ],
   "source": [
    "print(\"Recall Score:\")\n",
    "print(recall_score(y_test,y_pred_svm))\n",
    "print(\"Precision Score:\")\n",
    "print(precision_score(y_test,y_pred_svm))\n",
    "print(\"Confusion matrix\")\n",
    "cm=confusion_matrix(y_test,y_pred_svm)"
   ]
  },
  {
   "cell_type": "code",
   "execution_count": 715,
   "metadata": {},
   "outputs": [
    {
     "data": {
      "image/png": "[encoded data removed]",
      "text/plain": [
       "<Figure size 432x288 with 2 Axes>"
      ]
     },
     "metadata": {},
     "output_type": "display_data"
    },
    {
     "data": {
      "text/plain": [
       "<Figure size 720x504 with 0 Axes>"
      ]
     },
     "metadata": {},
     "output_type": "display_data"
    }
   ],
   "source": [
    "plot_confusion_matrix(cm,[\"0\", \"1\"])"
   ]
  },
  {
   "cell_type": "code",
   "execution_count": 716,
   "metadata": {},
   "outputs": [
    {
     "data": {
      "text/plain": [
       "0.5668011631086818"
      ]
     },
     "execution_count": 716,
     "metadata": {},
     "output_type": "execute_result"
    }
   ],
   "source": [
    "from sklearn.metrics import auc, precision_recall_curve\n",
    "\n",
    "precision, recall, thresholds = precision_recall_curve(y_test,pred_prob)\n",
    "auc(recall, precision)"
   ]
  },
  {
   "cell_type": "code",
   "execution_count": 717,
   "metadata": {},
   "outputs": [
    {
     "name": "stdout",
     "output_type": "stream",
     "text": [
      "Recall Score:\n",
      "0.4373259052924791\n",
      "Precision Score:\n",
      "0.6382113821138211\n",
      "Confusion matrix\n"
     ]
    },
    {
     "data": {
      "text/plain": [
       "array([[4052,   89],\n",
       "       [ 202,  157]])"
      ]
     },
     "execution_count": 717,
     "metadata": {},
     "output_type": "execute_result"
    }
   ],
   "source": [
    "print(\"Recall Score:\")\n",
    "print(recall_score(y_test,pred_rew))\n",
    "print(\"Precision Score:\")\n",
    "print(precision_score(y_test,pred_rew))\n",
    "print(\"Confusion matrix\")\n",
    "confusion_matrix(y_test,pred_rew)"
   ]
  },
  {
   "cell_type": "code",
   "execution_count": 718,
   "metadata": {},
   "outputs": [
    {
     "data": {
      "text/plain": [
       "0.5668011631086818"
      ]
     },
     "execution_count": 718,
     "metadata": {},
     "output_type": "execute_result"
    }
   ],
   "source": [
    "from sklearn.metrics import auc, precision_recall_curve\n",
    "\n",
    "precision, recall, thresholds = precision_recall_curve(y_test,pred_rew_prob)\n",
    "auc(recall, precision)"
   ]
  },
  {
   "cell_type": "code",
   "execution_count": 719,
   "metadata": {},
   "outputs": [],
   "source": [
    "thresh = np.arange(0,1,.05)\n",
    "scores = []\n",
    "\n",
    "for t in thresh:\n",
    "    preds = [1 if i>t else 0 for i in pred_rew_prob]\n",
    "    scores.append(f1_score(y_test, preds))"
   ]
  },
  {
   "cell_type": "code",
   "execution_count": 720,
   "metadata": {
    "scrolled": true
   },
   "outputs": [
    {
     "name": "stdout",
     "output_type": "stream",
     "text": [
      "0.25\n"
     ]
    },
    {
     "data": {
      "text/plain": [
       "[<matplotlib.lines.Line2D at 0x133e10860>]"
      ]
     },
     "execution_count": 720,
     "metadata": {},
     "output_type": "execute_result"
    },
    {
     "data": {
      "image/png": "[encoded data removed]",
      "text/plain": [
       "<Figure size 432x288 with 1 Axes>"
      ]
     },
     "metadata": {},
     "output_type": "display_data"
    }
   ],
   "source": [
    "print(thresh[np.argmax(scores)])\n",
    "plt.plot(thresh,scores)"
   ]
  },
  {
   "cell_type": "code",
   "execution_count": 721,
   "metadata": {},
   "outputs": [
    {
     "name": "stdout",
     "output_type": "stream",
     "text": [
      "Recall Score:\n",
      "0.6323119777158774\n",
      "Precision Score:\n",
      "0.5147392290249433\n",
      "Confusion matrix\n"
     ]
    },
    {
     "data": {
      "text/plain": [
       "array([[3927,  214],\n",
       "       [ 132,  227]])"
      ]
     },
     "execution_count": 721,
     "metadata": {},
     "output_type": "execute_result"
    }
   ],
   "source": [
    "pred_rew_best = [1 if i>thresh[np.argmax(scores)] else 0 for i in pred_rew_prob]\n",
    "print(\"Recall Score:\")\n",
    "print(recall_score(y_test,pred_rew_best))\n",
    "print(\"Precision Score:\")\n",
    "print(precision_score(y_test,pred_rew_best))\n",
    "print(\"Confusion matrix\")\n",
    "confusion_matrix(y_test,pred_rew_best)"
   ]
  },
  {
   "cell_type": "markdown",
   "metadata": {},
   "source": [
    "## Logistic Regression"
   ]
  },
  {
   "cell_type": "code",
   "execution_count": 687,
   "metadata": {},
   "outputs": [],
   "source": [
    "from sklearn.linear_model import LogisticRegression\n",
    "\n",
    "lregr = LogisticRegression(penalty='l2', C=100.0, \n",
    "                           fit_intercept=True, \n",
    "                           intercept_scaling=1, \n",
    "                           solver='liblinear', max_iter=500)\n",
    "\n",
    "# Fiting logistic regression\n",
    "\n",
    "lregr.fit(X_train,y_train)      \n",
    "\n",
    "#Predictions\n",
    "y_pred_log = lregr.predict(X_test)\n",
    "y_pred_prob_log = lregr.predict_proba(X_test)"
   ]
  },
  {
   "cell_type": "code",
   "execution_count": 688,
   "metadata": {},
   "outputs": [],
   "source": [
    "q1 = 0.1 # population\n",
    "r1 = 0.5 # training set\n",
    "\n",
    "# Reweight class prediction probability\n",
    "\n",
    "pred_rew_prob = reweight(y_pred_prob_log[:,1], q1, r1) #[i for i in \n",
    "\n",
    "# Classification\n",
    "pred_rew = [1 if i>0.5 else 0 for i in pred_rew_prob]\n",
    "\n",
    "pred_prob = y_pred_prob_log[:,1]"
   ]
  },
  {
   "cell_type": "code",
   "execution_count": 689,
   "metadata": {},
   "outputs": [
    {
     "name": "stdout",
     "output_type": "stream",
     "text": [
      "AUC:  0.918901211406554\n"
     ]
    },
    {
     "data": {
      "image/png": "[encoded data removed]",
      "text/plain": [
       "<Figure size 432x288 with 1 Axes>"
      ]
     },
     "metadata": {},
     "output_type": "display_data"
    }
   ],
   "source": [
    "fpr, tpr, _ = roc_curve(y_test == 1, pred_rew_prob)\n",
    "roc_auc = roc_auc_score(y_test, pred_rew_prob)\n",
    "print (\"AUC: \", roc_auc)\n",
    "plt.plot(fpr, tpr, label='ROC curve (area = %0.2f)' % roc_auc)\n",
    "plt.plot([0, 1], [0, 1], linestyle='--')\n",
    "plt.xlim([0.0, 1.0])\n",
    "plt.ylim([0.0, 1.0])\n",
    "plt.xlabel('False Positive Rate')\n",
    "plt.ylabel('True Positive Rate')\n",
    "plt.title('Receiver operating characteristic example')\n",
    "plt.legend(loc=\"lower right\")\n",
    "plt.show()"
   ]
  },
  {
   "cell_type": "code",
   "execution_count": 690,
   "metadata": {},
   "outputs": [
    {
     "name": "stdout",
     "output_type": "stream",
     "text": [
      "Recall Score:\n",
      "0.83008356545961\n",
      "Precision Score:\n",
      "0.33979475484606614\n",
      "Confusion matrix\n"
     ]
    },
    {
     "data": {
      "text/plain": [
       "array([[3557,  584],\n",
       "       [  43,  316]])"
      ]
     },
     "execution_count": 690,
     "metadata": {},
     "output_type": "execute_result"
    }
   ],
   "source": [
    "print(\"Recall Score:\")\n",
    "print(recall_score(y_test,y_pred_log))\n",
    "print(\"Precision Score:\")\n",
    "print(precision_score(y_test,y_pred_log))\n",
    "print(\"Confusion matrix\")\n",
    "confusion_matrix(y_test,y_pred_xgb)"
   ]
  },
  {
   "cell_type": "code",
   "execution_count": 691,
   "metadata": {},
   "outputs": [
    {
     "data": {
      "text/plain": [
       "0.5805517603110161"
      ]
     },
     "execution_count": 691,
     "metadata": {},
     "output_type": "execute_result"
    }
   ],
   "source": [
    "from sklearn.metrics import auc, precision_recall_curve\n",
    "\n",
    "precision, recall, thresholds = precision_recall_curve(y_test,pred_prob)\n",
    "auc(recall, precision)"
   ]
  },
  {
   "cell_type": "code",
   "execution_count": 692,
   "metadata": {},
   "outputs": [
    {
     "name": "stdout",
     "output_type": "stream",
     "text": [
      "Recall Score:\n",
      "0.49303621169916434\n",
      "Precision Score:\n",
      "0.6254416961130742\n",
      "Confusion matrix\n"
     ]
    },
    {
     "data": {
      "text/plain": [
       "array([[4035,  106],\n",
       "       [ 182,  177]])"
      ]
     },
     "execution_count": 692,
     "metadata": {},
     "output_type": "execute_result"
    }
   ],
   "source": [
    "print(\"Recall Score:\")\n",
    "print(recall_score(y_test,pred_rew))\n",
    "print(\"Precision Score:\")\n",
    "print(precision_score(y_test,pred_rew))\n",
    "print(\"Confusion matrix\")\n",
    "confusion_matrix(y_test,pred_rew)"
   ]
  },
  {
   "cell_type": "code",
   "execution_count": 693,
   "metadata": {},
   "outputs": [
    {
     "data": {
      "text/plain": [
       "0.5805517603110161"
      ]
     },
     "execution_count": 693,
     "metadata": {},
     "output_type": "execute_result"
    }
   ],
   "source": [
    "from sklearn.metrics import auc, precision_recall_curve\n",
    "\n",
    "precision, recall, thresholds = precision_recall_curve(y_test,pred_rew_prob)\n",
    "auc(recall, precision)"
   ]
  },
  {
   "cell_type": "code",
   "execution_count": 694,
   "metadata": {},
   "outputs": [],
   "source": [
    "thresh = np.arange(0,1,.05)\n",
    "scores = []\n",
    "\n",
    "for t in thresh:\n",
    "    preds = [1 if i>t else 0 for i in pred_rew_prob]\n",
    "    scores.append(f1_score(y_test, preds))"
   ]
  },
  {
   "cell_type": "code",
   "execution_count": 695,
   "metadata": {
    "scrolled": true
   },
   "outputs": [
    {
     "name": "stdout",
     "output_type": "stream",
     "text": [
      "0.35000000000000003\n"
     ]
    },
    {
     "data": {
      "text/plain": [
       "[<matplotlib.lines.Line2D at 0x1534e0588>]"
      ]
     },
     "execution_count": 695,
     "metadata": {},
     "output_type": "execute_result"
    },
    {
     "data": {
      "image/png": "[encoded data removed]",
      "text/plain": [
       "<Figure size 432x288 with 1 Axes>"
      ]
     },
     "metadata": {},
     "output_type": "display_data"
    }
   ],
   "source": [
    "print(thresh[np.argmax(scores)])\n",
    "plt.plot(thresh,scores)"
   ]
  },
  {
   "cell_type": "code",
   "execution_count": 696,
   "metadata": {},
   "outputs": [
    {
     "name": "stdout",
     "output_type": "stream",
     "text": [
      "Recall Score:\n",
      "0.584958217270195\n",
      "Precision Score:\n",
      "0.5511811023622047\n",
      "Confusion matrix\n"
     ]
    },
    {
     "data": {
      "text/plain": [
       "array([[3970,  171],\n",
       "       [ 149,  210]])"
      ]
     },
     "execution_count": 696,
     "metadata": {},
     "output_type": "execute_result"
    }
   ],
   "source": [
    "pred_rew_best = [1 if i>thresh[np.argmax(scores)] else 0 for i in pred_rew_prob]\n",
    "print(\"Recall Score:\")\n",
    "print(recall_score(y_test,pred_rew_best))\n",
    "print(\"Precision Score:\")\n",
    "print(precision_score(y_test,pred_rew_best))\n",
    "print(\"Confusion matrix\")\n",
    "confusion_matrix(y_test,pred_rew_best)"
   ]
  },
  {
   "cell_type": "markdown",
   "metadata": {},
   "source": [
    "## Ensemble"
   ]
  },
  {
   "cell_type": "code",
   "execution_count": 697,
   "metadata": {},
   "outputs": [],
   "source": [
    "def get_models():\n",
    "    #Generate a library of simple learners\n",
    "    rf = RandomForestClassifier(n_estimators=20)\n",
    "    tree = GradientBoostingClassifier(n_estimators=50)\n",
    "    xgb_mod = xgb.XGBClassifier(base_score=0.5, booster='gbtree',\n",
    "                                     colsample_bylevel=1, colsample_bynode=1,\n",
    "                                     colsample_bytree=0.8, gamma=0,\n",
    "                                     learning_rate=0.1, max_delta_step=0,\n",
    "                                     max_depth=5, min_child_weight=1,\n",
    "                                     missing=None, n_estimators=140, n_jobs=1,\n",
    "                                     nthread=4, objective='binary:logistic',\n",
    "                                     random_state=0, reg_alpha=0, reg_lambda=1,\n",
    "                                     scale_pos_weight=1, seed=27, silent=None,\n",
    "                                     subsample=0.8, verbosity=1)\n",
    "    lr = LogisticRegression(penalty='l2', C=100.0, \n",
    "                           fit_intercept=True, \n",
    "                           intercept_scaling=1, \n",
    "                           solver='liblinear', max_iter=500)\n",
    "\n",
    "    models = {'random forest': rf,\n",
    "              'gradient boosting': tree,\n",
    "              'xgboost': xgb_mod,\n",
    "              'logistic': lr,\n",
    "              }\n",
    "\n",
    "    return models\n",
    "\n",
    "models = get_models()"
   ]
  },
  {
   "cell_type": "code",
   "execution_count": 698,
   "metadata": {},
   "outputs": [],
   "source": [
    "meta_learner = ExtraTreesClassifier(\n",
    "    n_estimators=50,\n",
    "    bootstrap=True,\n",
    "    max_features=0.7)"
   ]
  },
  {
   "cell_type": "code",
   "execution_count": 699,
   "metadata": {},
   "outputs": [
    {
     "name": "stdout",
     "output_type": "stream",
     "text": [
      "\n",
      "Fitting 2 layers\n",
      "Processing layer-1             done | 00:00:05\n",
      "Processing layer-2             done | 00:00:00\n",
      "Fit complete                        | 00:00:07\n",
      "\n",
      "Predicting 2 layers\n",
      "Processing layer-1             done | 00:00:00\n",
      "Processing layer-2             done | 00:00:00\n",
      "Predict complete                    | 00:00:00\n"
     ]
    }
   ],
   "source": [
    "# Instantiate the ensemble with 5 folds (stacking meta-learner)\n",
    "sl = SuperLearner(\n",
    "    folds=5,\n",
    "    verbose=2\n",
    ")\n",
    "\n",
    "# Add the base learners and the meta learner\n",
    "sl.add(list(models.values()), proba=True)\n",
    "sl.add_meta(meta_learner, proba=True)\n",
    "\n",
    "# Train the ensemble\n",
    "sl.fit(X_train, y_train)\n",
    "\n",
    "y_pred_prob_sl = sl.predict_proba(X_test)"
   ]
  },
  {
   "cell_type": "code",
   "execution_count": 700,
   "metadata": {},
   "outputs": [],
   "source": [
    "y_pred_sl = [1 if i>0.5 else 0 for i in y_pred_prob_sl[:,1]]"
   ]
  },
  {
   "cell_type": "code",
   "execution_count": 701,
   "metadata": {},
   "outputs": [],
   "source": [
    "q1 = 0.1 # population\n",
    "r1 = 0.5 # training set\n",
    "\n",
    "# Reweight class prediction probability\n",
    "\n",
    "\n",
    "pred_rew_prob = reweight(y_pred_prob_sl[:,1], q1, r1) #[i for i in \n",
    "\n",
    "# Classification\n",
    "pred_rew = [1 if i>0.5 else 0 for i in pred_rew_prob]\n",
    "\n",
    "pred_prob = y_pred_prob_sl[:,1]"
   ]
  },
  {
   "cell_type": "code",
   "execution_count": 702,
   "metadata": {},
   "outputs": [
    {
     "name": "stdout",
     "output_type": "stream",
     "text": [
      "AUC:  0.9193011121208595\n"
     ]
    },
    {
     "data": {
      "image/png": "[encoded data removed]",
      "text/plain": [
       "<Figure size 432x288 with 1 Axes>"
      ]
     },
     "metadata": {},
     "output_type": "display_data"
    }
   ],
   "source": [
    "fpr, tpr, _ = roc_curve(y_test == 1, pred_rew_prob)\n",
    "roc_auc = roc_auc_score(y_test, pred_rew_prob)\n",
    "print (\"AUC: \", roc_auc)\n",
    "plt.plot(fpr, tpr, label='ROC curve (area = %0.2f)' % roc_auc)\n",
    "plt.plot([0, 1], [0, 1], linestyle='--')\n",
    "plt.xlim([0.0, 1.0])\n",
    "plt.ylim([0.0, 1.0])\n",
    "plt.xlabel('False Positive Rate')\n",
    "plt.ylabel('True Positive Rate')\n",
    "plt.title('Receiver operating characteristic example')\n",
    "plt.legend(loc=\"lower right\")\n",
    "plt.show()"
   ]
  },
  {
   "cell_type": "code",
   "execution_count": 703,
   "metadata": {},
   "outputs": [
    {
     "name": "stdout",
     "output_type": "stream",
     "text": [
      "Recall Score:\n",
      "0.8495821727019499\n",
      "Precision Score:\n",
      "0.3220696937697994\n",
      "Confusion matrix\n"
     ]
    },
    {
     "data": {
      "text/plain": [
       "array([[3499,  642],\n",
       "       [  54,  305]])"
      ]
     },
     "execution_count": 703,
     "metadata": {},
     "output_type": "execute_result"
    }
   ],
   "source": [
    "print(\"Recall Score:\")\n",
    "print(recall_score(y_test,y_pred_sl))\n",
    "print(\"Precision Score:\")\n",
    "print(precision_score(y_test,y_pred_sl))\n",
    "print(\"Confusion matrix\")\n",
    "confusion_matrix(y_test,y_pred_sl)"
   ]
  },
  {
   "cell_type": "code",
   "execution_count": 704,
   "metadata": {},
   "outputs": [
    {
     "data": {
      "text/plain": [
       "0.5761846757420641"
      ]
     },
     "execution_count": 704,
     "metadata": {},
     "output_type": "execute_result"
    }
   ],
   "source": [
    "from sklearn.metrics import auc, precision_recall_curve\n",
    "\n",
    "precision, recall, thresholds = precision_recall_curve(y_test,pred_prob)\n",
    "auc(recall, precision)"
   ]
  },
  {
   "cell_type": "code",
   "execution_count": 705,
   "metadata": {},
   "outputs": [
    {
     "name": "stdout",
     "output_type": "stream",
     "text": [
      "Recall Score:\n",
      "0.3816155988857939\n",
      "Precision Score:\n",
      "0.7025641025641025\n",
      "Confusion matrix\n"
     ]
    },
    {
     "data": {
      "text/plain": [
       "array([[4083,   58],\n",
       "       [ 222,  137]])"
      ]
     },
     "execution_count": 705,
     "metadata": {},
     "output_type": "execute_result"
    }
   ],
   "source": [
    "print(\"Recall Score:\")\n",
    "print(recall_score(y_test,pred_rew))\n",
    "print(\"Precision Score:\")\n",
    "print(precision_score(y_test,pred_rew))\n",
    "print(\"Confusion matrix\")\n",
    "confusion_matrix(y_test,pred_rew)"
   ]
  },
  {
   "cell_type": "code",
   "execution_count": 706,
   "metadata": {},
   "outputs": [
    {
     "data": {
      "text/plain": [
       "0.5761846757420641"
      ]
     },
     "execution_count": 706,
     "metadata": {},
     "output_type": "execute_result"
    }
   ],
   "source": [
    "from sklearn.metrics import auc, precision_recall_curve\n",
    "\n",
    "precision, recall, thresholds = precision_recall_curve(y_test,pred_rew_prob)\n",
    "auc(recall, precision)"
   ]
  },
  {
   "cell_type": "code",
   "execution_count": 707,
   "metadata": {},
   "outputs": [],
   "source": [
    "thresh = np.arange(0,1,.05)\n",
    "scores = []\n",
    "\n",
    "for t in thresh:\n",
    "    preds = [1 if i>t else 0 for i in pred_rew_prob]\n",
    "    scores.append(f1_score(y_test, preds))"
   ]
  },
  {
   "cell_type": "code",
   "execution_count": 708,
   "metadata": {
    "scrolled": true
   },
   "outputs": [
    {
     "name": "stdout",
     "output_type": "stream",
     "text": [
      "0.4\n"
     ]
    },
    {
     "data": {
      "text/plain": [
       "[<matplotlib.lines.Line2D at 0x131ab4b70>]"
      ]
     },
     "execution_count": 708,
     "metadata": {},
     "output_type": "execute_result"
    },
    {
     "data": {
      "image/png": "[encoded data removed]",
      "text/plain": [
       "<Figure size 432x288 with 1 Axes>"
      ]
     },
     "metadata": {},
     "output_type": "display_data"
    }
   ],
   "source": [
    "print(thresh[np.argmax(scores)])\n",
    "plt.plot(thresh,scores)"
   ]
  },
  {
   "cell_type": "code",
   "execution_count": 709,
   "metadata": {
    "scrolled": false
   },
   "outputs": [
    {
     "name": "stdout",
     "output_type": "stream",
     "text": [
      "Recall Score:\n",
      "0.5125348189415042\n",
      "Precision Score:\n",
      "0.5878594249201278\n",
      "Confusion matrix\n"
     ]
    },
    {
     "data": {
      "text/plain": [
       "array([[4012,  129],\n",
       "       [ 175,  184]])"
      ]
     },
     "execution_count": 709,
     "metadata": {},
     "output_type": "execute_result"
    }
   ],
   "source": [
    "pred_rew_best = [1 if i>thresh[np.argmax(scores)] else 0 for i in pred_rew_prob]\n",
    "print(\"Recall Score:\")\n",
    "print(recall_score(y_test,pred_rew_best))\n",
    "print(\"Precision Score:\")\n",
    "print(precision_score(y_test,pred_rew_best))\n",
    "print(\"Confusion matrix\")\n",
    "confusion_matrix(y_test,pred_rew_best)"
   ]
  },
  {
   "cell_type": "markdown",
   "metadata": {},
   "source": [
    "## Feed-Forward Neural Net"
   ]
  },
  {
   "cell_type": "code",
   "execution_count": 478,
   "metadata": {},
   "outputs": [],
   "source": [
    "# To be added from FFNN_Mortality_Predictions file once issue with:\n",
    "# type object 'h5py.h5f.FileID' has no attribute '__reduce_cython__' \n",
    "# is fixed"
   ]
  },
  {
   "cell_type": "code",
   "execution_count": 479,
   "metadata": {},
   "outputs": [],
   "source": [
    "#These lines might be required for the code to run below:\n",
    "#conda install keras\n",
    "#conda install h5py=2.8.0"
   ]
  },
  {
   "cell_type": "code",
   "execution_count": 722,
   "metadata": {},
   "outputs": [],
   "source": [
    "from copy import deepcopy\n",
    "import sys\n",
    "\n",
    "from keras.layers.core import Dense, Dropout, Flatten, Activation\n",
    "from keras.layers import BatchNormalization\n",
    "from keras.layers.merge import concatenate\n",
    "from keras.layers.recurrent import LSTM, GRU \n",
    "from keras.models import model_from_json, Sequential\n",
    "from keras.optimizers import RMSprop\n",
    "from keras import optimizers\n",
    "import numpy as np\n",
    "from sklearn.model_selection import StratifiedKFold\n",
    "#import theano\n",
    "\n",
    "\n",
    "sys.path.append(\"..\\..\")\n",
    "from keras.callbacks import EarlyStopping\n",
    "from keras.callbacks import CSVLogger\n",
    "\n",
    "from random import choice\n",
    "from string import ascii_uppercase\n",
    "\n",
    "import os\n",
    "from random import choice"
   ]
  },
  {
   "cell_type": "code",
   "execution_count": 723,
   "metadata": {},
   "outputs": [],
   "source": [
    "import os\n",
    "import warnings\n",
    "import sys\n",
    "from keras.callbacks import Callback\n",
    "import numpy as np\n",
    "\n",
    "\n",
    "class EarlyStoppingRestoringWeights(Callback):\n",
    "    def __init__(self, monitor='val_loss', patience=0, verbose=0, \n",
    "                 weight_path = None):\n",
    "        super(Callback, self).__init__()\n",
    "        self.monitor = monitor\n",
    "        self.patience = patience\n",
    "        self.verbose = verbose\n",
    "        self.weight_path = weight_path\n",
    "        self.best = np.Inf\n",
    "        self.wait = 0\n",
    "\n",
    "    def on_epoch_end(self, epoch, logs={}):\n",
    "        current = logs.get(self.monitor)\n",
    "        if current is None:\n",
    "            warnings.warn(\"Early stopping requires %s available!\" \\\n",
    "                % (self.monitor), RuntimeWarning)\n",
    "        sys.stdout.flush()\n",
    "        if current < self.best:\n",
    "            self.best = current\n",
    "            self.model.save_weights(self.weight_path, overwrite=True)\n",
    "            self.wait = 0\n",
    "        else:\n",
    "            if self.wait >= self.patience:\n",
    "                if self.verbose > 0:\n",
    "                    print(\"Epoch %05d: early stopping\" % (epoch))\n",
    "                self.model.stop_training = True\n",
    "            self.wait += 1\n",
    "\n",
    "    def on_train_end(self, epoch, logs={}):\n",
    "        try:\n",
    "            self.model.load_weights(self.weight_path)\n",
    "            os.remove(self.weight_path)\n",
    "        except Exception as exc:\n",
    "            print ('error while loading and removing weights', str(exc))"
   ]
  },
  {
   "cell_type": "code",
   "execution_count": 724,
   "metadata": {},
   "outputs": [],
   "source": [
    "class FeedForwardNetwork(object):\n",
    "    def __init__(self, hidden_dim=10, final_activation='sigmoid', loss='binary_crossentropy',\n",
    "                 batch_size=40, nb_epoch=100, learning_rate=0.001, validation_split=0.25, patience=20, early_stopping='True_BestWeight', ffn_depth=2,\n",
    "                 batch_normalization='False'):\n",
    "        self.hidden_dim = hidden_dim\n",
    "        self.final_activation = final_activation\n",
    "        self.loss = loss\n",
    "        self.batch_size = batch_size\n",
    "        self.nb_epoch = nb_epoch\n",
    "        self.learning_rate = learning_rate\n",
    "        self.validation_split = validation_split\n",
    "        self.patience = patience\n",
    "        self.EarlyStopping = early_stopping\n",
    "        self.type_MMDL = 1\n",
    "        #self.random_str = ''.join(choice(ascii_uppercase) for i in range(12))\n",
    "        self.ffn_depth = ffn_depth\n",
    "        self.batch_normalization = batch_normalization\n",
    "\n",
    "    # get the i-th (hidden) layer output as the features of input X\n",
    "    def transform_features(self, X, layers=None):\n",
    "        pass\n",
    " \n",
    "    def transform(self, X):\n",
    "        return None\n",
    "\n",
    "    # sklearn.$anymodel$.fit\n",
    "    def fit(self, X, y):\n",
    "        n_features = X.shape[1]\n",
    "        model = Sequential()\n",
    "\n",
    "        hidden_dim = self.hidden_dim\n",
    "        final_activation = self.final_activation\n",
    "        loss = self.loss\n",
    "        if hidden_dim is None:\n",
    "            hidden_dim = 8 * n_features\n",
    "\n",
    "        model.add(Dense(hidden_dim, input_shape=(n_features, ), activation='sigmoid'))\n",
    "        model.add(Dropout(0.1))\n",
    "        for t in range(self.ffn_depth - 1):\n",
    "            print('layer%d'%t)\n",
    "            model.add(Dense(hidden_dim, activation='sigmoid'))\n",
    "            model.add(Dropout(0.2))\n",
    "        model.add(Dense(1, activation=None))\n",
    "        if self.batch_normalization == 'True':\n",
    "            model.add(BatchNormalization())\n",
    "        model.add(Activation(activation=final_activation))\n",
    "        self.model = model\n",
    "        print ('number of parameters: ' + str(self.model.count_params()))\n",
    "        print ('before compiling')\n",
    "        self.model.compile(loss=loss, optimizer=RMSprop(lr=self.learning_rate), metrics=['accuracy'])\n",
    "        print ('before fitting')\n",
    "\n",
    "        if self.EarlyStopping == 'True_BestWeight':\n",
    "            self.model.fit(\n",
    "                x=X, y=y,\n",
    "                batch_size=self.batch_size, nb_epoch=self.nb_epoch,\n",
    "                # show_accuracy=True,\n",
    "                verbose=2, shuffle=False,\n",
    "                validation_split=self.validation_split,\n",
    "                #callbacks = [EarlyStopping(patience=10)],\n",
    "                #callbacks=[EarlyStoppingRestoringWeights(patience=self.patience, weight_path='ES_best_' + str(\n",
    "                #    self.type_MMDL) + '_' + self.random_str + ' .h5')],\n",
    "            )\n",
    "\n",
    "        elif self.EarlyStopping == 'True':\n",
    "            self.model.fit(\n",
    "                x=X, y=y,\n",
    "                batch_size=self.batch_size, nb_epoch=self.nb_epoch,\n",
    "                # show_accuracy=True,\n",
    "                verbose=2,\n",
    "                validation_split=self.validation_split,\n",
    "                callbacks=[EarlyStopping(patience=self.patience)],\n",
    "            )\n",
    "\n",
    "        elif self.EarlyStopping == 'False':\n",
    "            self.model.fit(\n",
    "                x=X, y=y,\n",
    "                batch_size=self.batch_size, nb_epoch=self.nb_epoch,\n",
    "                # show_accuracy=True,\n",
    "                verbose=2,\n",
    "                validation_split=self.validation_split,\n",
    "            )\n",
    "\n",
    "        print ('after fitting')\n",
    "        return self\n",
    "            \n",
    "    # get output layer values of input X\n",
    "    def decision_function(self, X):\n",
    "        return self.model.predict(X)\n",
    "        \n",
    "    # get prediction of input X (compare output value and threshold)\n",
    "    def predict(self, X):\n",
    "        if self.loss == 'mean_squared_error':\n",
    "            return self.model.predict(X)\n",
    "        else:\n",
    "            return self.model.predict_classes(X)\n",
    "        \n",
    "    # get prediction of input X (compare output value and threshold)\n",
    "    def predict_proba(self, X):\n",
    "        #if self.loss == 'mean_squared_error':\n",
    "            #return self.model.predict(X)\n",
    "        #else:\n",
    "        return [self.model.predict_proba(X),1-self.model.predict_proba(X)]"
   ]
  },
  {
   "cell_type": "code",
   "execution_count": 725,
   "metadata": {},
   "outputs": [
    {
     "name": "stdout",
     "output_type": "stream",
     "text": [
      "layer0\n",
      "number of parameters: 741\n",
      "before compiling\n",
      "before fitting\n"
     ]
    },
    {
     "name": "stderr",
     "output_type": "stream",
     "text": [
      "/Users/keyvanamini/anaconda3/lib/python3.7/site-packages/ipykernel_launcher.py:59: UserWarning: The `nb_epoch` argument in `fit` has been renamed `epochs`.\n"
     ]
    },
    {
     "name": "stdout",
     "output_type": "stream",
     "text": [
      "Train on 1530 samples, validate on 510 samples\n",
      "Epoch 1/100\n",
      " - 2s - loss: 0.6582 - accuracy: 0.6098 - val_loss: 0.7601 - val_accuracy: 0.1412\n",
      "Epoch 2/100\n",
      " - 0s - loss: 0.6316 - accuracy: 0.6562 - val_loss: 0.7889 - val_accuracy: 0.1314\n",
      "Epoch 3/100\n",
      " - 0s - loss: 0.6147 - accuracy: 0.6961 - val_loss: 0.8130 - val_accuracy: 0.1490\n",
      "Epoch 4/100\n",
      " - 0s - loss: 0.6047 - accuracy: 0.6928 - val_loss: 0.8322 - val_accuracy: 0.1745\n",
      "Epoch 5/100\n",
      " - 0s - loss: 0.5846 - accuracy: 0.7007 - val_loss: 0.8447 - val_accuracy: 0.2039\n",
      "Epoch 6/100\n",
      " - 0s - loss: 0.5755 - accuracy: 0.7092 - val_loss: 0.8536 - val_accuracy: 0.2196\n",
      "Epoch 7/100\n",
      " - 0s - loss: 0.5647 - accuracy: 0.7203 - val_loss: 0.8608 - val_accuracy: 0.2471\n",
      "Epoch 8/100\n",
      " - 0s - loss: 0.5575 - accuracy: 0.7183 - val_loss: 0.8663 - val_accuracy: 0.2706\n",
      "Epoch 9/100\n",
      " - 0s - loss: 0.5498 - accuracy: 0.7307 - val_loss: 0.8683 - val_accuracy: 0.3020\n",
      "Epoch 10/100\n",
      " - 0s - loss: 0.5464 - accuracy: 0.7314 - val_loss: 0.8691 - val_accuracy: 0.3275\n",
      "Epoch 11/100\n",
      " - 0s - loss: 0.5316 - accuracy: 0.7431 - val_loss: 0.8648 - val_accuracy: 0.3510\n",
      "Epoch 12/100\n",
      " - 0s - loss: 0.5316 - accuracy: 0.7536 - val_loss: 0.8616 - val_accuracy: 0.3784\n",
      "Epoch 13/100\n",
      " - 0s - loss: 0.5218 - accuracy: 0.7569 - val_loss: 0.8566 - val_accuracy: 0.4078\n",
      "Epoch 14/100\n",
      " - 0s - loss: 0.5132 - accuracy: 0.7647 - val_loss: 0.8510 - val_accuracy: 0.4275\n",
      "Epoch 15/100\n",
      " - 0s - loss: 0.5124 - accuracy: 0.7654 - val_loss: 0.8462 - val_accuracy: 0.4431\n",
      "Epoch 16/100\n",
      " - 0s - loss: 0.4979 - accuracy: 0.7771 - val_loss: 0.8385 - val_accuracy: 0.4647\n",
      "Epoch 17/100\n",
      " - 0s - loss: 0.4850 - accuracy: 0.7843 - val_loss: 0.8299 - val_accuracy: 0.4765\n",
      "Epoch 18/100\n",
      " - 0s - loss: 0.4882 - accuracy: 0.7915 - val_loss: 0.8227 - val_accuracy: 0.4922\n",
      "Epoch 19/100\n",
      " - 0s - loss: 0.4901 - accuracy: 0.7810 - val_loss: 0.8156 - val_accuracy: 0.5098\n",
      "Epoch 20/100\n",
      " - 0s - loss: 0.4766 - accuracy: 0.7804 - val_loss: 0.8084 - val_accuracy: 0.5176\n",
      "Epoch 21/100\n",
      " - 0s - loss: 0.4732 - accuracy: 0.8013 - val_loss: 0.8015 - val_accuracy: 0.5333\n",
      "Epoch 22/100\n",
      " - 0s - loss: 0.4603 - accuracy: 0.8039 - val_loss: 0.7936 - val_accuracy: 0.5392\n",
      "Epoch 23/100\n",
      " - 0s - loss: 0.4587 - accuracy: 0.8046 - val_loss: 0.7865 - val_accuracy: 0.5569\n",
      "Epoch 24/100\n",
      " - 0s - loss: 0.4578 - accuracy: 0.7993 - val_loss: 0.7820 - val_accuracy: 0.5667\n",
      "Epoch 25/100\n",
      " - 0s - loss: 0.4562 - accuracy: 0.8059 - val_loss: 0.7717 - val_accuracy: 0.5745\n",
      "Epoch 26/100\n",
      " - 0s - loss: 0.4454 - accuracy: 0.8118 - val_loss: 0.7630 - val_accuracy: 0.5941\n",
      "Epoch 27/100\n",
      " - 0s - loss: 0.4402 - accuracy: 0.8196 - val_loss: 0.7594 - val_accuracy: 0.5961\n",
      "Epoch 28/100\n",
      " - 0s - loss: 0.4384 - accuracy: 0.8183 - val_loss: 0.7550 - val_accuracy: 0.6039\n",
      "Epoch 29/100\n",
      " - 0s - loss: 0.4317 - accuracy: 0.8150 - val_loss: 0.7500 - val_accuracy: 0.6098\n",
      "Epoch 30/100\n",
      " - 0s - loss: 0.4381 - accuracy: 0.8052 - val_loss: 0.7469 - val_accuracy: 0.6137\n",
      "Epoch 31/100\n",
      " - 0s - loss: 0.4275 - accuracy: 0.8275 - val_loss: 0.7389 - val_accuracy: 0.6216\n",
      "Epoch 32/100\n",
      " - 0s - loss: 0.4268 - accuracy: 0.8248 - val_loss: 0.7340 - val_accuracy: 0.6235\n",
      "Epoch 33/100\n",
      " - 0s - loss: 0.4225 - accuracy: 0.8203 - val_loss: 0.7298 - val_accuracy: 0.6314\n",
      "Epoch 34/100\n",
      " - 0s - loss: 0.4176 - accuracy: 0.8301 - val_loss: 0.7243 - val_accuracy: 0.6412\n",
      "Epoch 35/100\n",
      " - 0s - loss: 0.4226 - accuracy: 0.8255 - val_loss: 0.7213 - val_accuracy: 0.6431\n",
      "Epoch 36/100\n",
      " - 0s - loss: 0.4136 - accuracy: 0.8235 - val_loss: 0.7156 - val_accuracy: 0.6471\n",
      "Epoch 37/100\n",
      " - 0s - loss: 0.4161 - accuracy: 0.8242 - val_loss: 0.7110 - val_accuracy: 0.6549\n",
      "Epoch 38/100\n",
      " - 0s - loss: 0.4130 - accuracy: 0.8392 - val_loss: 0.7073 - val_accuracy: 0.6647\n",
      "Epoch 39/100\n",
      " - 0s - loss: 0.4115 - accuracy: 0.8255 - val_loss: 0.7030 - val_accuracy: 0.6667\n",
      "Epoch 40/100\n",
      " - 0s - loss: 0.3996 - accuracy: 0.8346 - val_loss: 0.6984 - val_accuracy: 0.6706\n",
      "Epoch 41/100\n",
      " - 0s - loss: 0.3994 - accuracy: 0.8359 - val_loss: 0.6944 - val_accuracy: 0.6745\n",
      "Epoch 42/100\n",
      " - 0s - loss: 0.3942 - accuracy: 0.8386 - val_loss: 0.6889 - val_accuracy: 0.6784\n",
      "Epoch 43/100\n",
      " - 0s - loss: 0.3973 - accuracy: 0.8307 - val_loss: 0.6862 - val_accuracy: 0.6824\n",
      "Epoch 44/100\n",
      " - 0s - loss: 0.3976 - accuracy: 0.8307 - val_loss: 0.6829 - val_accuracy: 0.6902\n",
      "Epoch 45/100\n",
      " - 0s - loss: 0.3983 - accuracy: 0.8333 - val_loss: 0.6815 - val_accuracy: 0.6902\n",
      "Epoch 46/100\n",
      " - 0s - loss: 0.3914 - accuracy: 0.8431 - val_loss: 0.6771 - val_accuracy: 0.6980\n",
      "Epoch 47/100\n",
      " - 0s - loss: 0.3867 - accuracy: 0.8438 - val_loss: 0.6707 - val_accuracy: 0.7039\n",
      "Epoch 48/100\n",
      " - 0s - loss: 0.3920 - accuracy: 0.8359 - val_loss: 0.6701 - val_accuracy: 0.7098\n",
      "Epoch 49/100\n",
      " - 0s - loss: 0.3827 - accuracy: 0.8418 - val_loss: 0.6648 - val_accuracy: 0.7098\n",
      "Epoch 50/100\n",
      " - 0s - loss: 0.3850 - accuracy: 0.8471 - val_loss: 0.6608 - val_accuracy: 0.7098\n",
      "Epoch 51/100\n",
      " - 0s - loss: 0.3768 - accuracy: 0.8431 - val_loss: 0.6582 - val_accuracy: 0.7157\n",
      "Epoch 52/100\n",
      " - 0s - loss: 0.3851 - accuracy: 0.8484 - val_loss: 0.6557 - val_accuracy: 0.7157\n",
      "Epoch 53/100\n",
      " - 0s - loss: 0.3816 - accuracy: 0.8471 - val_loss: 0.6534 - val_accuracy: 0.7255\n",
      "Epoch 54/100\n",
      " - 0s - loss: 0.3756 - accuracy: 0.8503 - val_loss: 0.6535 - val_accuracy: 0.7235\n",
      "Epoch 55/100\n",
      " - 0s - loss: 0.3761 - accuracy: 0.8359 - val_loss: 0.6560 - val_accuracy: 0.7235\n",
      "Epoch 56/100\n",
      " - 0s - loss: 0.3776 - accuracy: 0.8366 - val_loss: 0.6576 - val_accuracy: 0.7216\n",
      "Epoch 57/100\n",
      " - 0s - loss: 0.3606 - accuracy: 0.8490 - val_loss: 0.6560 - val_accuracy: 0.7235\n",
      "Epoch 58/100\n",
      " - 0s - loss: 0.3662 - accuracy: 0.8471 - val_loss: 0.6580 - val_accuracy: 0.7235\n",
      "Epoch 59/100\n",
      " - 0s - loss: 0.3723 - accuracy: 0.8444 - val_loss: 0.6574 - val_accuracy: 0.7235\n",
      "Epoch 60/100\n",
      " - 0s - loss: 0.3703 - accuracy: 0.8549 - val_loss: 0.6584 - val_accuracy: 0.7255\n",
      "Epoch 61/100\n",
      " - 0s - loss: 0.3646 - accuracy: 0.8418 - val_loss: 0.6512 - val_accuracy: 0.7314\n",
      "Epoch 62/100\n",
      " - 0s - loss: 0.3657 - accuracy: 0.8497 - val_loss: 0.6478 - val_accuracy: 0.7333\n",
      "Epoch 63/100\n",
      " - 0s - loss: 0.3674 - accuracy: 0.8484 - val_loss: 0.6455 - val_accuracy: 0.7333\n",
      "Epoch 64/100\n",
      " - 0s - loss: 0.3604 - accuracy: 0.8510 - val_loss: 0.6426 - val_accuracy: 0.7314\n",
      "Epoch 65/100\n",
      " - 0s - loss: 0.3696 - accuracy: 0.8425 - val_loss: 0.6406 - val_accuracy: 0.7314\n",
      "Epoch 66/100\n",
      " - 0s - loss: 0.3578 - accuracy: 0.8477 - val_loss: 0.6406 - val_accuracy: 0.7333\n",
      "Epoch 67/100\n",
      " - 0s - loss: 0.3607 - accuracy: 0.8556 - val_loss: 0.6430 - val_accuracy: 0.7314\n",
      "Epoch 68/100\n",
      " - 0s - loss: 0.3561 - accuracy: 0.8536 - val_loss: 0.6423 - val_accuracy: 0.7314\n",
      "Epoch 69/100\n",
      " - 0s - loss: 0.3569 - accuracy: 0.8510 - val_loss: 0.6417 - val_accuracy: 0.7314\n",
      "Epoch 70/100\n",
      " - 0s - loss: 0.3565 - accuracy: 0.8523 - val_loss: 0.6404 - val_accuracy: 0.7275\n",
      "Epoch 71/100\n",
      " - 0s - loss: 0.3560 - accuracy: 0.8425 - val_loss: 0.6378 - val_accuracy: 0.7294\n",
      "Epoch 72/100\n",
      " - 0s - loss: 0.3500 - accuracy: 0.8464 - val_loss: 0.6366 - val_accuracy: 0.7294\n",
      "Epoch 73/100\n",
      " - 0s - loss: 0.3571 - accuracy: 0.8562 - val_loss: 0.6384 - val_accuracy: 0.7314\n",
      "Epoch 74/100\n",
      " - 0s - loss: 0.3641 - accuracy: 0.8418 - val_loss: 0.6379 - val_accuracy: 0.7294\n",
      "Epoch 75/100\n",
      " - 0s - loss: 0.3544 - accuracy: 0.8523 - val_loss: 0.6360 - val_accuracy: 0.7314\n",
      "Epoch 76/100\n",
      " - 0s - loss: 0.3488 - accuracy: 0.8608 - val_loss: 0.6343 - val_accuracy: 0.7333\n",
      "Epoch 77/100\n",
      " - 0s - loss: 0.3507 - accuracy: 0.8510 - val_loss: 0.6388 - val_accuracy: 0.7275\n",
      "Epoch 78/100\n",
      " - 0s - loss: 0.3553 - accuracy: 0.8484 - val_loss: 0.6364 - val_accuracy: 0.7294\n",
      "Epoch 79/100\n",
      " - 0s - loss: 0.3480 - accuracy: 0.8569 - val_loss: 0.6321 - val_accuracy: 0.7314\n",
      "Epoch 80/100\n",
      " - 0s - loss: 0.3544 - accuracy: 0.8477 - val_loss: 0.6335 - val_accuracy: 0.7294\n",
      "Epoch 81/100\n",
      " - 0s - loss: 0.3551 - accuracy: 0.8516 - val_loss: 0.6341 - val_accuracy: 0.7235\n",
      "Epoch 82/100\n",
      " - 0s - loss: 0.3414 - accuracy: 0.8575 - val_loss: 0.6329 - val_accuracy: 0.7255\n",
      "Epoch 83/100\n",
      " - 0s - loss: 0.3478 - accuracy: 0.8536 - val_loss: 0.6328 - val_accuracy: 0.7255\n",
      "Epoch 84/100\n",
      " - 0s - loss: 0.3562 - accuracy: 0.8523 - val_loss: 0.6340 - val_accuracy: 0.7235\n",
      "Epoch 85/100\n",
      " - 0s - loss: 0.3471 - accuracy: 0.8562 - val_loss: 0.6340 - val_accuracy: 0.7216\n",
      "Epoch 86/100\n",
      " - 0s - loss: 0.3480 - accuracy: 0.8523 - val_loss: 0.6292 - val_accuracy: 0.7255\n"
     ]
    },
    {
     "name": "stdout",
     "output_type": "stream",
     "text": [
      "Epoch 87/100\n",
      " - 0s - loss: 0.3396 - accuracy: 0.8549 - val_loss: 0.6291 - val_accuracy: 0.7255\n",
      "Epoch 88/100\n",
      " - 0s - loss: 0.3533 - accuracy: 0.8503 - val_loss: 0.6282 - val_accuracy: 0.7275\n",
      "Epoch 89/100\n",
      " - 0s - loss: 0.3410 - accuracy: 0.8608 - val_loss: 0.6243 - val_accuracy: 0.7294\n",
      "Epoch 90/100\n",
      " - 0s - loss: 0.3435 - accuracy: 0.8556 - val_loss: 0.6278 - val_accuracy: 0.7255\n",
      "Epoch 91/100\n",
      " - 0s - loss: 0.3404 - accuracy: 0.8608 - val_loss: 0.6281 - val_accuracy: 0.7255\n",
      "Epoch 92/100\n",
      " - 0s - loss: 0.3381 - accuracy: 0.8614 - val_loss: 0.6282 - val_accuracy: 0.7255\n",
      "Epoch 93/100\n",
      " - 0s - loss: 0.3457 - accuracy: 0.8516 - val_loss: 0.6290 - val_accuracy: 0.7255\n",
      "Epoch 94/100\n",
      " - 0s - loss: 0.3394 - accuracy: 0.8562 - val_loss: 0.6268 - val_accuracy: 0.7255\n",
      "Epoch 95/100\n",
      " - 0s - loss: 0.3342 - accuracy: 0.8595 - val_loss: 0.6272 - val_accuracy: 0.7255\n",
      "Epoch 96/100\n",
      " - 0s - loss: 0.3443 - accuracy: 0.8582 - val_loss: 0.6298 - val_accuracy: 0.7255\n",
      "Epoch 97/100\n",
      " - 0s - loss: 0.3414 - accuracy: 0.8542 - val_loss: 0.6306 - val_accuracy: 0.7255\n",
      "Epoch 98/100\n",
      " - 0s - loss: 0.3370 - accuracy: 0.8582 - val_loss: 0.6338 - val_accuracy: 0.7235\n",
      "Epoch 99/100\n",
      " - 0s - loss: 0.3467 - accuracy: 0.8529 - val_loss: 0.6357 - val_accuracy: 0.7216\n",
      "Epoch 100/100\n",
      " - 0s - loss: 0.3447 - accuracy: 0.8601 - val_loss: 0.6293 - val_accuracy: 0.7275\n",
      "after fitting\n"
     ]
    },
    {
     "data": {
      "text/plain": [
       "<__main__.FeedForwardNetwork at 0x131b7a198>"
      ]
     },
     "execution_count": 725,
     "metadata": {},
     "output_type": "execute_result"
    }
   ],
   "source": [
    "model = FeedForwardNetwork()\n",
    "model.fit(X_train,y_train)"
   ]
  },
  {
   "cell_type": "code",
   "execution_count": 726,
   "metadata": {},
   "outputs": [
    {
     "name": "stdout",
     "output_type": "stream",
     "text": [
      "Recall Score:\n",
      "0.7437325905292479\n",
      "Precision Score:\n",
      "0.3744740532959327\n",
      "Confusion matrix\n"
     ]
    },
    {
     "data": {
      "text/plain": [
       "array([[3695,  446],\n",
       "       [  92,  267]])"
      ]
     },
     "execution_count": 726,
     "metadata": {},
     "output_type": "execute_result"
    }
   ],
   "source": [
    "#Balanced Input\n",
    "y_pred_NN3 = model.predict(X_test)\n",
    "\n",
    "print(\"Recall Score:\")\n",
    "print(recall_score(y_test,y_pred_NN3))\n",
    "print(\"Precision Score:\")\n",
    "print(precision_score(y_test,y_pred_NN3))\n",
    "print(\"Confusion matrix\")\n",
    "confusion_matrix(y_test,y_pred_NN3)"
   ]
  },
  {
   "cell_type": "code",
   "execution_count": 727,
   "metadata": {},
   "outputs": [],
   "source": [
    "#from sklearn.metrics import auc, precision_recall_curve\n",
    "\n",
    "#precision, recall, thresholds = precision_recall_curve(y_test,y_pred_NN3)\n",
    "#auc(recall, precision)"
   ]
  },
  {
   "cell_type": "code",
   "execution_count": 728,
   "metadata": {},
   "outputs": [],
   "source": [
    "y_pred_NN3_proba = model.predict_proba(X_test)"
   ]
  },
  {
   "cell_type": "code",
   "execution_count": 729,
   "metadata": {},
   "outputs": [],
   "source": [
    "# rearrange output of the model to feed the reweighting function\n",
    "a=y_pred_NN3_proba[0]\n",
    "b=y_pred_NN3_proba[1]\n",
    "y_pred_NN3_proba2=np.concatenate((a, b),axis=1)"
   ]
  },
  {
   "cell_type": "code",
   "execution_count": 730,
   "metadata": {},
   "outputs": [],
   "source": [
    "q1 = 0.1 # population\n",
    "r1 = 0.5 # training set\n",
    "\n",
    "# Reweight class prediction probability\n",
    "\n",
    "pred_rew_prob = reweight(y_pred_NN3_proba2[:,0], q1, r1) # Please not here the class probabilities are 1 and 0\n",
    "\n",
    "# Classification\n",
    "pred_rew = [1 if i>0.5 else 0 for i in pred_rew_prob]\n",
    "\n",
    "pred_prob = y_pred_NN3_proba2[:,0]"
   ]
  },
  {
   "cell_type": "code",
   "execution_count": 731,
   "metadata": {},
   "outputs": [
    {
     "data": {
      "text/plain": [
       "0.6058519596163862"
      ]
     },
     "execution_count": 731,
     "metadata": {},
     "output_type": "execute_result"
    }
   ],
   "source": [
    "from sklearn.metrics import auc, precision_recall_curve\n",
    "\n",
    "precision, recall, thresholds = precision_recall_curve(y_test,pred_prob)\n",
    "auc(recall, precision)"
   ]
  },
  {
   "cell_type": "code",
   "execution_count": 732,
   "metadata": {},
   "outputs": [
    {
     "data": {
      "text/plain": [
       "0.6058519596163862"
      ]
     },
     "execution_count": 732,
     "metadata": {},
     "output_type": "execute_result"
    }
   ],
   "source": [
    "precision, recall, thresholds = precision_recall_curve(y_test,pred_rew_prob)\n",
    "auc(recall, precision)"
   ]
  },
  {
   "cell_type": "code",
   "execution_count": 733,
   "metadata": {},
   "outputs": [],
   "source": [
    "# Benchmark XGB: 0.557"
   ]
  },
  {
   "cell_type": "code",
   "execution_count": 491,
   "metadata": {},
   "outputs": [],
   "source": [
    "# FFNN: 0.5598 \n",
    "\n",
    "# self, hidden_dim=10, final_activation='sigmoid', loss='binary_crossentropy',\n",
    "#                 batch_size=40, nb_epoch=100, learning_rate=0.001, validation_split=0.25, patience=20, early_stopping='True_BestWeight', ffn_depth=2,\n",
    " #                batch_normalization='False'"
   ]
  },
  {
   "cell_type": "code",
   "execution_count": 734,
   "metadata": {},
   "outputs": [
    {
     "name": "stdout",
     "output_type": "stream",
     "text": [
      "AUC:  0.9109499474983166\n"
     ]
    },
    {
     "data": {
      "image/png": "[encoded data removed]",
      "text/plain": [
       "<Figure size 432x288 with 1 Axes>"
      ]
     },
     "metadata": {},
     "output_type": "display_data"
    }
   ],
   "source": [
    "fpr, tpr, _ = roc_curve(y_test == 1, pred_rew_prob)\n",
    "roc_auc = roc_auc_score(y_test, pred_rew_prob)\n",
    "print (\"AUC: \", roc_auc)\n",
    "plt.plot(fpr, tpr, label='ROC curve (area = %0.2f)' % roc_auc)\n",
    "plt.plot([0, 1], [0, 1], linestyle='--')\n",
    "plt.xlim([0.0, 1.0])\n",
    "plt.ylim([0.0, 1.0])\n",
    "plt.xlabel('False Positive Rate')\n",
    "plt.ylabel('True Positive Rate')\n",
    "plt.title('Receiver operating characteristic example')\n",
    "plt.legend(loc=\"lower right\")\n",
    "plt.show()"
   ]
  },
  {
   "cell_type": "code",
   "execution_count": null,
   "metadata": {},
   "outputs": [],
   "source": []
  },
  {
   "cell_type": "code",
   "execution_count": null,
   "metadata": {},
   "outputs": [],
   "source": []
  },
  {
   "cell_type": "code",
   "execution_count": null,
   "metadata": {},
   "outputs": [],
   "source": []
  },
  {
   "cell_type": "code",
   "execution_count": 108,
   "metadata": {},
   "outputs": [
    {
     "data": {
      "text/plain": [
       "GridSearchCV(cv=5, error_score='raise-deprecating',\n",
       "             estimator=XGBClassifier(base_score=0.5, booster='gbtree',\n",
       "                                     colsample_bylevel=1, colsample_bynode=1,\n",
       "                                     colsample_bytree=1, gamma=0,\n",
       "                                     learning_rate=0.1, max_delta_step=0,\n",
       "                                     max_depth=3, min_child_weight=1,\n",
       "                                     missing=None, n_estimators=100, n_jobs=1,\n",
       "                                     nthread=None, objective='binary:logistic',\n",
       "                                     random_state=0, reg_alpha=0, reg_l...\n",
       "                                     scale_pos_weight=1, seed=None, silent=None,\n",
       "                                     subsample=1, verbosity=1),\n",
       "             iid='warn', n_jobs=3,\n",
       "             param_grid={'colsample_bytree': [0.7],\n",
       "                         'learning_rate': [0.03, 0.05, 0.07],\n",
       "                         'max_depth': [5, 6, 7], 'min_child_weight': [4],\n",
       "                         'n_estimators': [90], 'nthread': [3],\n",
       "                         'objective': ['reg:linear'], 'silent': [1],\n",
       "                         'subsample': [0.7]},\n",
       "             pre_dispatch='2*n_jobs', refit=True, return_train_score=False,\n",
       "             scoring='r2', verbose=0)"
      ]
     },
     "execution_count": 108,
     "metadata": {},
     "output_type": "execute_result"
    }
   ],
   "source": [
    "from sklearn.model_selection import GridSearchCV\n",
    "\n",
    "MyXGB = xgb.XGBClassifier() #objective='reg:squarederror'\n",
    "parameters = {'nthread':[3], #when use hyperthread, xgboost may become slower\n",
    "              'objective':['reg:linear'],\n",
    "              'learning_rate': [.03, 0.05, .07], #so called `eta` value\n",
    "              'max_depth': [5, 6, 7],\n",
    "              'min_child_weight': [4],\n",
    "              'silent': [1],\n",
    "              'subsample': [0.7],\n",
    "              'colsample_bytree': [0.7],\n",
    "              'n_estimators': [90]}\n",
    "\n",
    "grid_knn_acc = GridSearchCV(MyXGB, param_grid = parameters, scoring = 'r2', cv=5, refit=True,n_jobs=3)\n",
    "grid_knn_acc.fit(X, y)"
   ]
  },
  {
   "cell_type": "code",
   "execution_count": 109,
   "metadata": {},
   "outputs": [
    {
     "data": {
      "text/plain": [
       "GridSearchCV(cv=5, error_score='raise-deprecating',\n",
       "             estimator=XGBClassifier(base_score=0.5, booster='gbtree',\n",
       "                                     colsample_bylevel=1, colsample_bynode=1,\n",
       "                                     colsample_bytree=0.8, gamma=0,\n",
       "                                     learning_rate=0.1, max_delta_step=0,\n",
       "                                     max_depth=5, min_child_weight=1,\n",
       "                                     missing=None, n_estimators=140, n_jobs=1,\n",
       "                                     nthread=4, objective='binary:logistic',\n",
       "                                     random_state=0, reg_alpha=0, reg_lambda=1,\n",
       "                                     scale_pos_weight=1, seed=27, silent=None,\n",
       "                                     subsample=0.8, verbosity=1),\n",
       "             iid='warn', n_jobs=2,\n",
       "             param_grid={'max_depth': range(3, 10, 2),\n",
       "                         'min_child_weight': range(1, 6, 2)},\n",
       "             pre_dispatch='2*n_jobs', refit=True, return_train_score=False,\n",
       "             scoring='roc_auc', verbose=0)"
      ]
     },
     "execution_count": 109,
     "metadata": {},
     "output_type": "execute_result"
    }
   ],
   "source": [
    "param_test1 = {\n",
    " 'max_depth':range(3,10,2),\n",
    " 'min_child_weight':range(1,6,2)\n",
    "}\n",
    "\n",
    "gsearch1 = GridSearchCV(estimator = xgb.XGBClassifier(learning_rate =0.1, n_estimators=140, \n",
    "                                                  max_depth=5,min_child_weight=1, gamma=0, subsample=0.8, \n",
    "                                                  colsample_bytree=0.8, objective= 'binary:logistic', nthread=4, \n",
    "                                                  scale_pos_weight=1,seed=27), param_grid = param_test1, \n",
    "                                                  scoring='roc_auc',n_jobs=2,cv=5)\n",
    "gsearch1.fit(X_train,y_train)\n",
    "#gsearch1.grid_scores_, gsearch1.best_params_, gsearch1.best_score_"
   ]
  },
  {
   "cell_type": "code",
   "execution_count": 110,
   "metadata": {},
   "outputs": [],
   "source": [
    "main_df2 = pd.read_csv('main_df2.csv')"
   ]
  },
  {
   "cell_type": "code",
   "execution_count": null,
   "metadata": {},
   "outputs": [],
   "source": []
  }
 ],
 "metadata": {
  "kernelspec": {
   "display_name": "Python 3",
   "language": "python",
   "name": "python3"
  },
  "language_info": {
   "codemirror_mode": {
    "name": "ipython",
    "version": 3
   },
   "file_extension": ".py",
   "mimetype": "text/x-python",
   "name": "python",
   "nbconvert_exporter": "python",
   "pygments_lexer": "ipython3",
   "version": "3.7.3"
  },
  "toc": {
   "base_numbering": 1,
   "nav_menu": {},
   "number_sections": true,
   "sideBar": true,
   "skip_h1_title": false,
   "title_cell": "Table of Contents",
   "title_sidebar": "Contents",
   "toc_cell": false,
   "toc_position": {
    "height": "calc(100% - 180px)",
    "left": "10px",
    "top": "150px",
    "width": "288px"
   },
   "toc_section_display": true,
   "toc_window_display": true
  }
 },
 "nbformat": 4,
 "nbformat_minor": 2
}
